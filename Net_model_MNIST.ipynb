{
  "cells": [
    {
      "cell_type": "code",
      "execution_count": null,
      "id": "e2ccd96c",
      "metadata": {
        "id": "e2ccd96c"
      },
      "outputs": [],
      "source": [
        "import tensorflow as tf\n",
        "from tensorflow import keras\n",
        "\n",
        "import numpy as np\n",
        "import random\n",
        "import matplotlib.pyplot as plt\n",
        "import math \n",
        "from tqdm import tqdm\n",
        "import sys\n",
        "\n",
        "#from PIL import Image\n",
        "from sklearn.metrics import classification_report, confusion_matrix, accuracy_score\n",
        "import os"
      ]
    },
    {
      "cell_type": "markdown",
      "source": [
        "##To get different random model weights"
      ],
      "metadata": {
        "id": "6GtXtBMUIW6Y"
      },
      "id": "6GtXtBMUIW6Y"
    },
    {
      "cell_type": "code",
      "source": [
        "#https://wandb.ai/sauravmaheshkar/RSNA-MICCAI/reports/How-to-Set-Random-Seeds-in-PyTorch-and-Tensorflow--VmlldzoxMDA2MDQy\n",
        "def set_seed(seed: int = 42) -> None:\n",
        "  random.seed(seed)\n",
        "  np.random.seed(seed)\n",
        "  tf.random.set_seed(seed)\n",
        "  tf.experimental.numpy.random.seed(seed)\n",
        "  tf.set_random_seed(seed)\n",
        "  # When running on the CuDNN backend, two further options must be set\n",
        "  os.environ['TF_CUDNN_DETERMINISTIC'] = '1'\n",
        "  os.environ['TF_DETERMINISTIC_OPS'] = '1'\n",
        "  # Set a fixed value for the hash seed\n",
        "  os.environ[\"PYTHONHASHSEED\"] = str(seed)\n",
        "  print(f\"Random seed set as {seed}\")\n"
      ],
      "metadata": {
        "id": "37_bSYn5ow-2"
      },
      "id": "37_bSYn5ow-2",
      "execution_count": null,
      "outputs": []
    },
    {
      "cell_type": "code",
      "source": [
        "set_seed()"
      ],
      "metadata": {
        "colab": {
          "base_uri": "https://localhost:8080/"
        },
        "id": "XMrR9iJ9nc69",
        "outputId": "131ef3c2-0644-455c-cc5b-8f398267c537"
      },
      "execution_count": null,
      "outputs": [
        {
          "output_type": "stream",
          "name": "stdout",
          "text": [
            "Random seed set as 42\n"
          ]
        }
      ],
      "id": "XMrR9iJ9nc69"
    },
    {
      "cell_type": "code",
      "execution_count": null,
      "id": "c66568af",
      "metadata": {
        "colab": {
          "base_uri": "https://localhost:8080/",
          "height": 746,
          "referenced_widgets": [
            "a7e576feab824c3b89bd6b986e37ebfc",
            "f9a2550727f747b6bbf098be23e1c20f",
            "02b605e692f5473cad8735d12b99f09d",
            "d4c7b063a6264fefba42389c6c2298a7",
            "b45d92952ca24bfcaa1b9828f1720a55",
            "7c675509036d428f8921e36872010c4f",
            "4086323f7e0b44159873a5954e76fc1d",
            "41f8796ab0ab4b798f01f3e532db9dc1",
            "f0007b62a06543058e60f268c55a6da1",
            "f1f9cb7b3de44ce6a78f3d667fd5b0e5",
            "067bbda5acc44434b5a6b1cab5d61a73",
            "4a3db5f93c414ab0a7566b72556bb5f6",
            "b9dad2d4c02f4d69a21095440995c65b",
            "bb2bf6cbc12c434e8c887617dc1367a0",
            "b0d00ed852cc4329892ab3846cfc0d45",
            "89f0eeacaa8b4770a4b80046e700a1b8",
            "a1a69756a7f84df988b5540d3841c1eb",
            "2b09a5669f584cfaba8f6761b5f3c3d6",
            "3c5e3a63ed2b475fbddec82e284711e7",
            "f294ea719e9749c8a2b6a89749f96864",
            "a36d7e38a42a4f08882f87faeb4e28d4",
            "67b89e40dc2f459bacc32bab82f7514d",
            "19e732a8ae1b4b47908f3a791d586d57",
            "96acf4100711467e8b34d7519808b1a5",
            "dbb80c033b2f4910ab169c0fc3659d20",
            "4bf010c06745420888d96f50356b851d",
            "8280182bf1784b459f7db10fdab7f238",
            "5d2b50d157ed4ca8ae6aa31c4ba47efd",
            "e30bcde0427045c5b1997e889008d50e",
            "d61dbc316a644857a02ee069a1e85159",
            "4f9af199502c4ce9a2073961f0fd94d1",
            "1e7d7e8ac9c44912a35e153a571b45b2",
            "34143a0a0eab4e338ce7fa65fb019406",
            "a0f3e9187a674b068133789286ae5241",
            "4b98fd62177745e498f6c2ff392f7ca7",
            "55cdb62a7dd247caa6a7afe71b7d98bc",
            "c3c9cdb18c914549ad468b576770ba1d",
            "bf72aca9ad484a72937439afc0993871",
            "74e19348d6f342b6ae29db1effe07a56",
            "ea042bfd3d2c4e398e000bd0810fe0d7",
            "1faa2c09787f43459d359c1ca57ec06e",
            "73e5efede3c14b699fca79349f4d46b2",
            "a67ed51480e2496d867d2f4b51a4c8f1",
            "d2dbc153ae314e669a87053af9c0eeae"
          ]
        },
        "id": "c66568af",
        "outputId": "633affa8-82be-4741-adb7-de9259ee3185"
      },
      "outputs": [
        {
          "output_type": "stream",
          "name": "stdout",
          "text": [
            "Downloading http://yann.lecun.com/exdb/mnist/train-images-idx3-ubyte.gz\n",
            "Downloading http://yann.lecun.com/exdb/mnist/train-images-idx3-ubyte.gz to data/MNIST/raw/train-images-idx3-ubyte.gz\n"
          ]
        },
        {
          "output_type": "display_data",
          "data": {
            "text/plain": [
              "  0%|          | 0/9912422 [00:00<?, ?it/s]"
            ],
            "application/vnd.jupyter.widget-view+json": {
              "version_major": 2,
              "version_minor": 0,
              "model_id": "a7e576feab824c3b89bd6b986e37ebfc"
            }
          },
          "metadata": {}
        },
        {
          "output_type": "stream",
          "name": "stdout",
          "text": [
            "Extracting data/MNIST/raw/train-images-idx3-ubyte.gz to data/MNIST/raw\n",
            "\n",
            "Downloading http://yann.lecun.com/exdb/mnist/train-labels-idx1-ubyte.gz\n",
            "Downloading http://yann.lecun.com/exdb/mnist/train-labels-idx1-ubyte.gz to data/MNIST/raw/train-labels-idx1-ubyte.gz\n"
          ]
        },
        {
          "output_type": "display_data",
          "data": {
            "text/plain": [
              "  0%|          | 0/28881 [00:00<?, ?it/s]"
            ],
            "application/vnd.jupyter.widget-view+json": {
              "version_major": 2,
              "version_minor": 0,
              "model_id": "4a3db5f93c414ab0a7566b72556bb5f6"
            }
          },
          "metadata": {}
        },
        {
          "output_type": "stream",
          "name": "stdout",
          "text": [
            "Extracting data/MNIST/raw/train-labels-idx1-ubyte.gz to data/MNIST/raw\n",
            "\n",
            "Downloading http://yann.lecun.com/exdb/mnist/t10k-images-idx3-ubyte.gz\n",
            "Downloading http://yann.lecun.com/exdb/mnist/t10k-images-idx3-ubyte.gz to data/MNIST/raw/t10k-images-idx3-ubyte.gz\n"
          ]
        },
        {
          "output_type": "display_data",
          "data": {
            "text/plain": [
              "  0%|          | 0/1648877 [00:00<?, ?it/s]"
            ],
            "application/vnd.jupyter.widget-view+json": {
              "version_major": 2,
              "version_minor": 0,
              "model_id": "19e732a8ae1b4b47908f3a791d586d57"
            }
          },
          "metadata": {}
        },
        {
          "output_type": "stream",
          "name": "stdout",
          "text": [
            "Extracting data/MNIST/raw/t10k-images-idx3-ubyte.gz to data/MNIST/raw\n",
            "\n",
            "Downloading http://yann.lecun.com/exdb/mnist/t10k-labels-idx1-ubyte.gz\n",
            "Downloading http://yann.lecun.com/exdb/mnist/t10k-labels-idx1-ubyte.gz to data/MNIST/raw/t10k-labels-idx1-ubyte.gz\n"
          ]
        },
        {
          "output_type": "display_data",
          "data": {
            "text/plain": [
              "  0%|          | 0/4542 [00:00<?, ?it/s]"
            ],
            "application/vnd.jupyter.widget-view+json": {
              "version_major": 2,
              "version_minor": 0,
              "model_id": "a0f3e9187a674b068133789286ae5241"
            }
          },
          "metadata": {}
        },
        {
          "output_type": "stream",
          "name": "stdout",
          "text": [
            "Extracting data/MNIST/raw/t10k-labels-idx1-ubyte.gz to data/MNIST/raw\n",
            "\n"
          ]
        },
        {
          "output_type": "display_data",
          "data": {
            "text/plain": [
              "<Figure size 864x432 with 10 Axes>"
            ],
            "image/png": "[encoded data removed]"
          },
          "metadata": {
            "needs_background": "light"
          }
        }
      ],
      "source": [
        "# Define the digits to print original images for\n",
        "digits = [0, 1, 2, 3, 4, 5, 6, 7, 8, 9]\n",
        "\n",
        "# Load MNIST dataset\n",
        "mnist_dataset = MNIST(root='data/', download=True)\n",
        "\n",
        "# Print original images for each digit\n",
        "fig, axs = plt.subplots(2, 5, figsize=(12, 6))\n",
        "for i, ax in enumerate(axs.flat):\n",
        "    digit_indices = np.where(np.array(mnist_dataset.targets) == digits[i])[0]\n",
        "    img = mnist_dataset.data[digit_indices[0]].numpy()\n",
        "    ax.imshow(img)\n",
        "    ax.set_title(f\"Digit {i}\")\n",
        "    ax.axis('off')\n",
        "plt.show()"
      ]
    },
    {
      "cell_type": "markdown",
      "source": [
        "#Question 3A: Classification image for each digit by white noise equation. First define a function for all the noise images.Then do a loop over for all the images to average them."
      ],
      "metadata": {
        "id": "kjJ4MLhn_kBN"
      },
      "id": "kjJ4MLhn_kBN"
    },
    {
      "cell_type": "code",
      "source": [
        "# Define the gamma value\n",
        "gamma = 0.2\n",
        "\n",
        "# Define the number of samples and image shape\n",
        "n_samples = 500\n",
        "img_shape = (28, 28)\n",
        "\n",
        "# Define the digits to generate noise maps for\n",
        "digits = [0, 1, 2, 3, 4, 5, 6, 7, 8, 9]\n",
        "\n",
        "def generate_noise_maps_per_digit(digit, n_samples, gamma, img_shape=(28, 28)):\n",
        "    noise_maps = []\n",
        "    mnist_dataset = MNIST(root='data/',train=False, download=True)\n",
        "    digit_indices = np.where(np.array(mnist_dataset.targets) == digit)[0]\n",
        "    digit_indices = digit_indices[:n_samples]\n",
        "    print(f\"Number of images for digit {digit}: {len(digit_indices)}\")\n",
        "    sample_size= len(digit_indices)\n",
        "    print(sample_size)\n",
        "    for idx in digit_indices:\n",
        "        # Get original image\n",
        "        img = mnist_dataset.data[idx].numpy()\n",
        "        # Generate random noise\n",
        "        noise = np.random.randn(*img_shape)\n",
        "        # Combine noise with original image\n",
        "        noisy_img = gamma * noise + (1 - gamma) * img\n",
        "        noise_maps.append(noisy_img)\n",
        "    return np.array(noise_maps) , sample_size\n",
        "\n",
        "# Generate noise maps for each digit and average them\n",
        "noise_maps=[]\n",
        "avgd_noise_maps = []\n",
        "for digit in digits:\n",
        "    digit_noise_maps, sample_size = generate_noise_maps_per_digit(digit, n_samples, gamma, img_shape=(28,28))\n",
        "    avg_noise_map = np.mean(digit_noise_maps, axis=0)\n",
        "    avgd_noise_maps.append(avg_noise_map)\n",
        "    noise_maps.append(digit_noise_maps)\n",
        "\n",
        "all_noise_maps = np.concatenate(noise_maps)\n",
        "    \n",
        "\n",
        "# Plot the noise maps\n",
        "fig, axs = plt.subplots(2, 5, figsize=(12, 6))\n",
        "for i, ax in enumerate(axs.flat):\n",
        "    ax.imshow(avgd_noise_maps[i])\n",
        "    ax.set_title(f\"Class {i}\")\n",
        "    ax.axis('off')\n",
        "plt.show()\n"
      ],
      "metadata": {
        "colab": {
          "base_uri": "https://localhost:8080/",
          "height": 687
        },
        "id": "wfs3Ju06sF3S",
        "outputId": "2a7c1bab-ab22-4ef4-a971-29411cac78f7"
      },
      "id": "wfs3Ju06sF3S",
      "execution_count": null,
      "outputs": [
        {
          "output_type": "stream",
          "name": "stdout",
          "text": [
            "Number of images for digit 0: 500\n",
            "500\n",
            "Number of images for digit 1: 500\n",
            "500\n",
            "Number of images for digit 2: 500\n",
            "500\n",
            "Number of images for digit 3: 500\n",
            "500\n",
            "Number of images for digit 4: 500\n",
            "500\n",
            "Number of images for digit 5: 500\n",
            "500\n",
            "Number of images for digit 6: 500\n",
            "500\n",
            "Number of images for digit 7: 500\n",
            "500\n",
            "Number of images for digit 8: 500\n",
            "500\n",
            "Number of images for digit 9: 500\n",
            "500\n"
          ]
        },
        {
          "output_type": "display_data",
          "data": {
            "text/plain": [
              "<Figure size 864x432 with 10 Axes>"
            ],
            "image/png": "[encoded data removed]"
          },
          "metadata": {
            "needs_background": "light"
          }
        }
      ]
    },
    {
      "cell_type": "code",
      "execution_count": null,
      "id": "28faa476",
      "metadata": {
        "colab": {
          "base_uri": "https://localhost:8080/",
          "height": 1000
        },
        "id": "28faa476",
        "outputId": "7f6f103a-ab09-469f-9d53-0dbfa5c8b669"
      },
      "outputs": [
        {
          "output_type": "display_data",
          "data": {
            "text/plain": [
              "<Figure size 432x288 with 1 Axes>"
            ],
            "image/png": "[encoded data removed]"
          },
          "metadata": {
            "needs_background": "light"
          }
        },
        {
          "output_type": "display_data",
          "data": {
            "text/plain": [
              "<Figure size 432x288 with 1 Axes>"
            ],
            "image/png": "[encoded data removed]"
          },
          "metadata": {
            "needs_background": "light"
          }
        },
        {
          "output_type": "display_data",
          "data": {
            "text/plain": [
              "<Figure size 432x288 with 1 Axes>"
            ],
            "image/png": "[encoded data removed]"
          },
          "metadata": {
            "needs_background": "light"
          }
        },
        {
          "output_type": "display_data",
          "data": {
            "text/plain": [
              "<Figure size 432x288 with 1 Axes>"
            ],
            "image/png": "[encoded data removed]"
          },
          "metadata": {
            "needs_background": "light"
          }
        },
        {
          "output_type": "display_data",
          "data": {
            "text/plain": [
              "<Figure size 432x288 with 1 Axes>"
            ],
            "image/png": "[encoded data removed]"
          },
          "metadata": {
            "needs_background": "light"
          }
        },
        {
          "output_type": "display_data",
          "data": {
            "text/plain": [
              "<Figure size 432x288 with 1 Axes>"
            ],
            "image/png": "[encoded data removed]"
          },
          "metadata": {
            "needs_background": "light"
          }
        },
        {
          "output_type": "display_data",
          "data": {
            "text/plain": [
              "<Figure size 432x288 with 1 Axes>"
            ],
            "image/png": "[encoded data removed]"
          },
          "metadata": {
            "needs_background": "light"
          }
        },
        {
          "output_type": "display_data",
          "data": {
            "text/plain": [
              "<Figure size 432x288 with 1 Axes>"
            ],
            "image/png": "[encoded data removed]"
          },
          "metadata": {
            "needs_background": "light"
          }
        },
        {
          "output_type": "display_data",
          "data": {
            "text/plain": [
              "<Figure size 432x288 with 1 Axes>"
            ],
            "image/png": "[encoded data removed]"
          },
          "metadata": {
            "needs_background": "light"
          }
        },
        {
          "output_type": "display_data",
          "data": {
            "text/plain": [
              "<Figure size 432x288 with 1 Axes>"
            ],
            "image/png": "[encoded data removed]"
          },
          "metadata": {
            "needs_background": "light"
          }
        }
      ],
      "source": [
        "def generate_noise_maps(n_samples, gamma, img_shape=(28, 28)):\n",
        "    noise_maps = []\n",
        "    for _ in range(n_samples):\n",
        "        # Generate random noise\n",
        "        noise = np.random.randn(*img_shape)\n",
        "        # Combine noise with original image\n",
        "        noisy_img = gamma * noise + (1 - gamma) * np.ones(img_shape)\n",
        "        noise_maps.append(noisy_img)\n",
        "    return np.array(noise_maps)\n",
        "\n",
        "# assuming `noisy_images` is a list of numpy arrays with shape (28, 28)\n",
        "for i in range(len(generate_noise_maps(10,0.4, img_shape=(28, 28)))):\n",
        "    fig, ax = plt.subplots()\n",
        "    ax.imshow(generate_noise_maps(10,0.1, img_shape=(28, 28))[i])\n",
        "    ax.axis('off')\n",
        "    plt.show()"
      ]
    },
    {
      "cell_type": "markdown",
      "source": [
        "#Train the model and test on MNIST test dataset "
      ],
      "metadata": {
        "id": "dXUKoPVGBnA3"
      },
      "id": "dXUKoPVGBnA3"
    },
    {
      "cell_type": "code",
      "source": [
        "# Load MNIST dataset\n",
        "(train_images, train_labels), (test_images, test_labels) = keras.datasets.mnist.load_data()\n",
        "\n",
        "# Reshape and normalize data\n",
        "train_images = train_images.reshape(train_images.shape[0], 28, 28, 1).astype('float32') / 255.0\n",
        "test_images = test_images.reshape(test_images.shape[0], 28, 28, 1).astype('float32') / 255.0\n",
        "\n",
        "# Define the model\n",
        "Net = keras.Sequential([\n",
        "    keras.layers.Conv2D(filters=32, kernel_size=3, activation='relu', padding='same', input_shape=(28, 28, 1)),\n",
        "    keras.layers.MaxPooling2D(pool_size=(2, 2)),\n",
        "    keras.layers.Conv2D(filters=64, kernel_size=3, activation='relu', padding='same'),\n",
        "    keras.layers.MaxPooling2D(pool_size=(2, 2)),\n",
        "    keras.layers.Conv2D(filters=128, kernel_size=3, activation='relu', padding='same'),\n",
        "    keras.layers.MaxPooling2D(pool_size=(2, 2)),\n",
        "    keras.layers.Flatten(),\n",
        "    keras.layers.Dense(512, activation='relu'),\n",
        "    keras.layers.Dense(10, activation='softmax')\n",
        "])\n",
        "\n",
        "# Compile the model\n",
        "Net.compile(optimizer='adam', loss='sparse_categorical_crossentropy', metrics=['accuracy'])\n",
        "\n",
        "# Define callbacks\n",
        "callbacks = [\n",
        "    keras.callbacks.ModelCheckpoint(\n",
        "        filepath='best_model.h5',\n",
        "        save_weights_only=True,\n",
        "        monitor='val_accuracy',\n",
        "        mode='max',\n",
        "        save_best_only=True\n",
        "    )\n",
        "]\n",
        "\n",
        "# Train the model\n",
        "history = Net.fit(train_images, train_labels, epochs=20, validation_data=(test_images, test_labels), callbacks=callbacks)\n",
        "\n",
        "# Load best weights\n",
        "Net.load_weights('best_model.h5')\n"
      ],
      "metadata": {
        "colab": {
          "base_uri": "https://localhost:8080/"
        },
        "id": "vrKRI4ol5EG6",
        "outputId": "bca14c95-5788-46d2-e0c3-3a26fa51189b"
      },
      "id": "vrKRI4ol5EG6",
      "execution_count": null,
      "outputs": [
        {
          "output_type": "stream",
          "name": "stdout",
          "text": [
            "Epoch 1/20\n",
            "1875/1875 [==============================] - 130s 69ms/step - loss: 0.1141 - accuracy: 0.9646 - val_loss: 0.0391 - val_accuracy: 0.9874\n",
            "Epoch 2/20\n",
            "1875/1875 [==============================] - 126s 67ms/step - loss: 0.0366 - accuracy: 0.9887 - val_loss: 0.0324 - val_accuracy: 0.9899\n",
            "Epoch 3/20\n",
            "1875/1875 [==============================] - 126s 67ms/step - loss: 0.0276 - accuracy: 0.9912 - val_loss: 0.0391 - val_accuracy: 0.9876\n",
            "Epoch 4/20\n",
            "1875/1875 [==============================] - 126s 67ms/step - loss: 0.0208 - accuracy: 0.9937 - val_loss: 0.0363 - val_accuracy: 0.9892\n",
            "Epoch 5/20\n",
            "1875/1875 [==============================] - 123s 66ms/step - loss: 0.0164 - accuracy: 0.9948 - val_loss: 0.0359 - val_accuracy: 0.9901\n",
            "Epoch 6/20\n",
            "1875/1875 [==============================] - 130s 69ms/step - loss: 0.0136 - accuracy: 0.9955 - val_loss: 0.0289 - val_accuracy: 0.9923\n",
            "Epoch 7/20\n",
            "1875/1875 [==============================] - 130s 69ms/step - loss: 0.0123 - accuracy: 0.9961 - val_loss: 0.0337 - val_accuracy: 0.9907\n",
            "Epoch 8/20\n",
            "1875/1875 [==============================] - 130s 70ms/step - loss: 0.0107 - accuracy: 0.9967 - val_loss: 0.0291 - val_accuracy: 0.9920\n",
            "Epoch 9/20\n",
            "1875/1875 [==============================] - 126s 67ms/step - loss: 0.0094 - accuracy: 0.9970 - val_loss: 0.0353 - val_accuracy: 0.9912\n",
            "Epoch 10/20\n",
            "1875/1875 [==============================] - 125s 67ms/step - loss: 0.0080 - accuracy: 0.9975 - val_loss: 0.0390 - val_accuracy: 0.9922\n",
            "Epoch 11/20\n",
            "1875/1875 [==============================] - 126s 67ms/step - loss: 0.0081 - accuracy: 0.9974 - val_loss: 0.0326 - val_accuracy: 0.9923\n",
            "Epoch 12/20\n",
            "1875/1875 [==============================] - 124s 66ms/step - loss: 0.0066 - accuracy: 0.9980 - val_loss: 0.0388 - val_accuracy: 0.9906\n",
            "Epoch 13/20\n",
            "1875/1875 [==============================] - 125s 67ms/step - loss: 0.0077 - accuracy: 0.9976 - val_loss: 0.0416 - val_accuracy: 0.9906\n",
            "Epoch 14/20\n",
            "1875/1875 [==============================] - 122s 65ms/step - loss: 0.0076 - accuracy: 0.9977 - val_loss: 0.0327 - val_accuracy: 0.9933\n",
            "Epoch 15/20\n",
            "1875/1875 [==============================] - 125s 67ms/step - loss: 0.0048 - accuracy: 0.9987 - val_loss: 0.0587 - val_accuracy: 0.9887\n",
            "Epoch 16/20\n",
            "1875/1875 [==============================] - 125s 67ms/step - loss: 0.0060 - accuracy: 0.9983 - val_loss: 0.0577 - val_accuracy: 0.9896\n",
            "Epoch 17/20\n",
            "1875/1875 [==============================] - 125s 67ms/step - loss: 0.0064 - accuracy: 0.9981 - val_loss: 0.0342 - val_accuracy: 0.9925\n",
            "Epoch 18/20\n",
            "1875/1875 [==============================] - 124s 66ms/step - loss: 0.0057 - accuracy: 0.9981 - val_loss: 0.0410 - val_accuracy: 0.9930\n",
            "Epoch 19/20\n",
            "1875/1875 [==============================] - 125s 67ms/step - loss: 0.0059 - accuracy: 0.9983 - val_loss: 0.0421 - val_accuracy: 0.9926\n",
            "Epoch 20/20\n",
            "1875/1875 [==============================] - 123s 65ms/step - loss: 0.0049 - accuracy: 0.9987 - val_loss: 0.0510 - val_accuracy: 0.9912\n"
          ]
        }
      ]
    },
    {
      "cell_type": "code",
      "source": [
        "# Define the model architecture\n",
        "Net = keras.Sequential([\n",
        "    keras.layers.Conv2D(filters=32, kernel_size=3, activation='relu', padding='same', input_shape=(28, 28, 1)),\n",
        "    keras.layers.MaxPooling2D(pool_size=(2, 2)),\n",
        "    keras.layers.Conv2D(filters=64, kernel_size=3, activation='relu', padding='same'),\n",
        "    keras.layers.MaxPooling2D(pool_size=(2, 2)),\n",
        "    keras.layers.Conv2D(filters=128, kernel_size=3, activation='relu', padding='same'),\n",
        "    keras.layers.MaxPooling2D(pool_size=(2, 2)),\n",
        "    keras.layers.Flatten(),\n",
        "    keras.layers.Dense(512, activation='relu'),\n",
        "    keras.layers.Dense(10, activation='softmax')\n",
        "])\n",
        "\n",
        "# Compile the model\n",
        "Net.compile(optimizer='adam', loss='sparse_categorical_crossentropy', metrics=['accuracy'])\n",
        "\n",
        "# Load best weights\n",
        "Net.load_weights('best_model.h5')\n"
      ],
      "metadata": {
        "id": "rVkhsxwAIKFJ"
      },
      "id": "rVkhsxwAIKFJ",
      "execution_count": null,
      "outputs": []
    },
    {
      "cell_type": "markdown",
      "source": [
        "#3B Feed the average noise map back in to the CNN and report which class they are classified as"
      ],
      "metadata": {
        "id": "HNrhTEYxCiWa"
      },
      "id": "HNrhTEYxCiWa"
    },
    {
      "cell_type": "code",
      "source": [
        "# Define the number of samples and image shape\n",
        "n_samples = 500\n",
        "img_shape = (28, 28)\n",
        "\n",
        "# Define the digits to generate noise maps for\n",
        "digits = [0, 1, 2, 3, 4, 5, 6, 7, 8, 9]\n",
        "\n",
        "# Define the threshold for predictions\n",
        "threshold = 0.2\n",
        "# Get the predicted labels and true labels\n",
        "y_pred = []\n",
        "y_true = []\n",
        "for digit in digits:\n",
        "    test_tensor = tf.convert_to_tensor((avgd_noise_maps[digit])[None,...], dtype=tf.float32)\n",
        "    output = Net(test_tensor)\n",
        "\n",
        "    # Get the predicted class and corresponding probability\n",
        "    probs = tf.nn.softmax(output, axis=1)\n",
        "    max_prob = tf.reduce_max(probs, axis=1)\n",
        "    pred_class = tf.argmax(probs, axis=1)\n",
        "    \n",
        "    # Filter out predictions with low confidence\n",
        "    if tf.greater_equal(max_prob, threshold):\n",
        "        # Convert the noise map to an image\n",
        "        noise_map = avgd_noise_maps[digit]\n",
        "        img = (noise_map * 255)\n",
        "        # Append the predicted and true labels\n",
        "        y_pred.append(pred_class.numpy()[0])\n",
        "        y_true.append(digit)\n",
        "         # Display the image with the predicted and actual class labels\n",
        "        plt.imshow(img)\n",
        "        plt.title(f\"Predicted: {pred_class.numpy()[0]}, Actual: {digit}\")\n",
        "        plt.show()\n",
        "\n",
        "        \n",
        "\n",
        "# Generate the classification report\n",
        "report = classification_report(y_true, y_pred)\n",
        "print(report)\n",
        "\n",
        "\n",
        "# Calculate the accuracy score\n",
        "accuracy = accuracy_score(y_true, y_pred)\n",
        "print('Accuracy:', accuracy)\n",
        "\n",
        "# Generate the confusion matrix\n",
        "cm = confusion_matrix(y_true, y_pred, normalize='true')\n",
        "\n",
        "# Plot the confusion matrix\n",
        "plt.imshow(cm, cmap='Blues')\n",
        "plt.colorbar()\n",
        "\n",
        "# Add labels to the plot\n",
        "classes = [str(i) for i in range(10)]\n",
        "tick_marks = np.arange(len(classes))\n",
        "plt.xticks(tick_marks, classes)\n",
        "plt.yticks(tick_marks, classes)\n",
        "plt.xlabel('Predicted Labels')\n",
        "plt.ylabel('True Labels')\n",
        "\n",
        "# Add values to the plot\n",
        "thresh = cm.max() / 2.\n",
        "for i in range(cm.shape[0]):\n",
        "    for j in range(cm.shape[1]):\n",
        "        plt.text(j, i, format(cm[i, j], '.2f'),\n",
        "                 ha=\"center\", va=\"center\",\n",
        "                 color=\"white\" if cm[i, j] > thresh else \"black\")\n",
        "\n",
        "# Show the plot\n",
        "plt.show()\n",
        "\n",
        "\n",
        "       \n"
      ],
      "metadata": {
        "colab": {
          "base_uri": "https://localhost:8080/",
          "height": 1000
        },
        "id": "9V2z4CbSxMvr",
        "outputId": "a1c33a3d-ef3a-4059-da91-8d4ed7b819a1"
      },
      "id": "9V2z4CbSxMvr",
      "execution_count": null,
      "outputs": [
        {
          "output_type": "display_data",
          "data": {
            "text/plain": [
              "<Figure size 432x288 with 1 Axes>"
            ],
            "image/png": "[encoded data removed]"
          },
          "metadata": {
            "needs_background": "light"
          }
        },
        {
          "output_type": "display_data",
          "data": {
            "text/plain": [
              "<Figure size 432x288 with 1 Axes>"
            ],
            "image/png": "[encoded data removed]"
          },
          "metadata": {
            "needs_background": "light"
          }
        },
        {
          "output_type": "display_data",
          "data": {
            "text/plain": [
              "<Figure size 432x288 with 1 Axes>"
            ],
            "image/png": "[encoded data removed]"
          },
          "metadata": {
            "needs_background": "light"
          }
        },
        {
          "output_type": "display_data",
          "data": {
            "text/plain": [
              "<Figure size 432x288 with 1 Axes>"
            ],
            "image/png": "[encoded data removed]"
          },
          "metadata": {
            "needs_background": "light"
          }
        },
        {
          "output_type": "display_data",
          "data": {
            "text/plain": [
              "<Figure size 432x288 with 1 Axes>"
            ],
            "image/png": "[encoded data removed]"
          },
          "metadata": {
            "needs_background": "light"
          }
        },
        {
          "output_type": "display_data",
          "data": {
            "text/plain": [
              "<Figure size 432x288 with 1 Axes>"
            ],
            "image/png": "[encoded data removed]"
          },
          "metadata": {
            "needs_background": "light"
          }
        },
        {
          "output_type": "display_data",
          "data": {
            "text/plain": [
              "<Figure size 432x288 with 1 Axes>"
            ],
            "image/png": "[encoded data removed]"
          },
          "metadata": {
            "needs_background": "light"
          }
        },
        {
          "output_type": "display_data",
          "data": {
            "text/plain": [
              "<Figure size 432x288 with 1 Axes>"
            ],
            "image/png": "[encoded data removed]"
          },
          "metadata": {
            "needs_background": "light"
          }
        },
        {
          "output_type": "display_data",
          "data": {
            "text/plain": [
              "<Figure size 432x288 with 1 Axes>"
            ],
            "image/png": "[encoded data removed]"
          },
          "metadata": {
            "needs_background": "light"
          }
        },
        {
          "output_type": "display_data",
          "data": {
            "text/plain": [
              "<Figure size 432x288 with 1 Axes>"
            ],
            "image/png": "[encoded data removed]"
          },
          "metadata": {
            "needs_background": "light"
          }
        },
        {
          "output_type": "stream",
          "name": "stderr",
          "text": [
            "/usr/local/lib/python3.8/dist-packages/sklearn/metrics/_classification.py:1344: UndefinedMetricWarning: Precision and F-score are ill-defined and being set to 0.0 in labels with no predicted samples. Use `zero_division` parameter to control this behavior.\n",
            "  _warn_prf(average, modifier, msg_start, len(result))\n",
            "/usr/local/lib/python3.8/dist-packages/sklearn/metrics/_classification.py:1344: UndefinedMetricWarning: Precision and F-score are ill-defined and being set to 0.0 in labels with no predicted samples. Use `zero_division` parameter to control this behavior.\n",
            "  _warn_prf(average, modifier, msg_start, len(result))\n",
            "/usr/local/lib/python3.8/dist-packages/sklearn/metrics/_classification.py:1344: UndefinedMetricWarning: Precision and F-score are ill-defined and being set to 0.0 in labels with no predicted samples. Use `zero_division` parameter to control this behavior.\n",
            "  _warn_prf(average, modifier, msg_start, len(result))\n"
          ]
        },
        {
          "output_type": "stream",
          "name": "stdout",
          "text": [
            "              precision    recall  f1-score   support\n",
            "\n",
            "           0       1.00      1.00      1.00         1\n",
            "           1       1.00      1.00      1.00         1\n",
            "           2       1.00      1.00      1.00         1\n",
            "           3       1.00      1.00      1.00         1\n",
            "           4       0.00      0.00      0.00         1\n",
            "           5       1.00      1.00      1.00         1\n",
            "           6       1.00      1.00      1.00         1\n",
            "           7       1.00      1.00      1.00         1\n",
            "           8       1.00      1.00      1.00         1\n",
            "           9       0.50      1.00      0.67         1\n",
            "\n",
            "    accuracy                           0.90        10\n",
            "   macro avg       0.85      0.90      0.87        10\n",
            "weighted avg       0.85      0.90      0.87        10\n",
            "\n",
            "Accuracy: 0.9\n"
          ]
        },
        {
          "output_type": "display_data",
          "data": {
            "text/plain": [
              "<Figure size 432x288 with 2 Axes>"
            ],
            "image/png": "[encoded data removed]"
          },
          "metadata": {
            "needs_background": "light"
          }
        }
      ]
    },
    {
      "cell_type": "markdown",
      "source": [
        "#3C Using all the noise maps as a classifier and report the accuracy scores across all classes with confusion matrices. Net model does a better job than Author's model which has less convolutional layer. "
      ],
      "metadata": {
        "id": "atA2LaEMC4Y0"
      },
      "id": "atA2LaEMC4Y0"
    },
    {
      "cell_type": "code",
      "source": [
        "# Define the number of samples and image shape\n",
        "n_samples = 500\n",
        "img_shape = (28, 28)\n",
        "\n",
        "# Define the digits to generate noise maps for\n",
        "digits = [0, 1, 2, 3, 4, 5, 6, 7, 8, 9]\n",
        "\n",
        "# Define the threshold for predictions\n",
        "threshold = 0.01\n",
        "# Get the predicted labels and true labels\n",
        "y_pred = []\n",
        "y_true = []\n",
        "\n",
        "for i in range(all_noise_maps.shape[0]):\n",
        "    test_tensor = tf.convert_to_tensor((all_noise_maps[i])[None,...], dtype=tf.float32)\n",
        "    outputs = Net(test_tensor)\n",
        "    #prob = torch.softmax(outputs, dim=1)\n",
        "    # Get the predicted class and corresponding probability\n",
        "    probs = tf.nn.softmax(outputs, axis=1)\n",
        "    max_prob = tf.reduce_max(probs, axis=1)\n",
        "    pred_class = tf.argmax(probs, axis=1)\n",
        "    #max_prob, predicted_label = torch.max(prob.data, 1)\n",
        "    if tf.greater(max_prob, tf.constant(threshold)):\n",
        "       true_label = i // n_samples  # Get the true label from the digit index\n",
        "       y_true.append(true_label)\n",
        "       y_pred.append(pred_class.numpy()[0])\n",
        "\n",
        "\n",
        "# Generate the classification report\n",
        "#report = classification_report(y_true, y_pred)\n",
        "#print(report)\n",
        "\n",
        "\n",
        "# Calculate the accuracy score\n",
        "accuracy = accuracy_score(y_true, y_pred)\n",
        "print('Accuracy:', accuracy)\n",
        "\n",
        "# Generate the confusion matrix\n",
        "#num_classes = 10\n",
        "#cm = np.zeros((num_classes, num_classes))\n",
        "#for i in range(len(true_labels)):\n",
        " #   cm[true_labels[i], predicted_labels[i]] += 1\n",
        "\n",
        "# Generate the confusion matrix\n",
        "cm = confusion_matrix(y_true, y_pred, normalize='true')\n",
        "\n",
        "# Set figure size\n",
        "plt.figure(figsize=(15, 15))\n",
        "\n",
        "# Plot the confusion matrix\n",
        "plt.imshow(cm, cmap='Blues')\n",
        "plt.colorbar()\n",
        "\n",
        "# Add labels to the plot\n",
        "classes = [str(i) for i in range(10)]\n",
        "tick_marks = np.arange(len(classes))\n",
        "plt.xticks(tick_marks, classes)\n",
        "plt.yticks(tick_marks, classes)\n",
        "plt.xlabel('Predicted Labels')\n",
        "plt.ylabel('True Labels')\n",
        "\n",
        "if cm.size > 0:\n",
        "    thresh = cm.max() / 2.\n",
        "    for i in range(cm.shape[0]):\n",
        "        for j in range(cm.shape[1]):\n",
        "            plt.text(j, i, format(cm[i, j], '.3f'), fontsize=20,\n",
        "                     ha=\"center\", va=\"center\",\n",
        "                     color=\"white\" if cm[i, j] > thresh else \"black\")\n",
        "\n",
        "\n",
        "# Show the plot\n",
        "plt.show()\n",
        "\n"
      ],
      "metadata": {
        "colab": {
          "base_uri": "https://localhost:8080/",
          "height": 869
        },
        "id": "QT5IdfGHkyFT",
        "outputId": "13af7c2f-117b-4120-b069-2596655dd3ff"
      },
      "id": "QT5IdfGHkyFT",
      "execution_count": null,
      "outputs": [
        {
          "output_type": "stream",
          "name": "stdout",
          "text": [
            "Accuracy: 0.9842\n"
          ]
        },
        {
          "output_type": "display_data",
          "data": {
            "text/plain": [
              "<Figure size 1080x1080 with 2 Axes>"
            ],
            "image/png": "[encoded data removed]"
          },
          "metadata": {
            "needs_background": "light"
          }
        }
      ]
    },
    {
      "cell_type": "code",
      "source": [
        "# Generate the classification report\n",
        "report = classification_report(y_true, y_pred)\n",
        "print(report)"
      ],
      "metadata": {
        "colab": {
          "base_uri": "https://localhost:8080/"
        },
        "id": "14vUeaULFL-2",
        "outputId": "d63aec01-d697-4d74-f7af-ffb0d574f2b4"
      },
      "id": "14vUeaULFL-2",
      "execution_count": null,
      "outputs": [
        {
          "output_type": "stream",
          "name": "stdout",
          "text": [
            "              precision    recall  f1-score   support\n",
            "\n",
            "           0       0.99      0.99      0.99       500\n",
            "           1       1.00      0.97      0.98       500\n",
            "           2       0.98      0.99      0.99       500\n",
            "           3       0.97      1.00      0.98       500\n",
            "           4       0.99      0.98      0.99       500\n",
            "           5       0.99      0.98      0.98       500\n",
            "           6       0.99      0.97      0.98       500\n",
            "           7       0.99      0.98      0.98       500\n",
            "           8       0.96      1.00      0.98       500\n",
            "           9       0.99      0.98      0.98       500\n",
            "\n",
            "    accuracy                           0.98      5000\n",
            "   macro avg       0.98      0.98      0.98      5000\n",
            "weighted avg       0.98      0.98      0.98      5000\n",
            "\n"
          ]
        }
      ]
    },
    {
      "cell_type": "markdown",
      "source": [
        "#3C  Note: Below is the confusion matrix for whole **MNIST dataset** as a test data"
      ],
      "metadata": {
        "id": "QGqkfQst4A9U"
      },
      "id": "QGqkfQst4A9U"
    },
    {
      "cell_type": "code",
      "source": [
        "# Compile the model\n",
        "#net.compile(optimizer='adam',\n",
        " #             loss='sparse_categorical_crossentropy',\n",
        " #             metrics=['accuracy'])\n",
        "\n",
        "# Load the test dataset\n",
        "(test_images, test_labels), _ = tf.keras.datasets.mnist.load_data()\n",
        "test_dataset = tf.data.Dataset.from_tensor_slices((test_images[..., tf.newaxis]/255.0, test_labels))\n",
        "test_dataset = test_dataset.batch(64)\n",
        "\n",
        "# Set the model to evaluation mode\n",
        "Net.evaluate(test_dataset)\n",
        "\n",
        "# Get the true labels and predicted labels for the test set\n",
        "true_labels = []\n",
        "predicted_labels = []\n",
        "\n",
        "for images, labels in test_dataset:\n",
        "    outputs = Net(images)\n",
        "    predicted = tf.argmax(outputs, axis=1)\n",
        "    true_labels += labels.numpy().tolist()\n",
        "    predicted_labels += predicted.numpy().tolist()\n",
        "\n",
        "# Generate the confusion matrix\n",
        "num_classes = 10\n",
        "cm = np.zeros((num_classes, num_classes))\n",
        "for i in range(len(true_labels)):\n",
        "    cm[true_labels[i], predicted_labels[i]] += 1\n",
        "\n",
        "# Normalize the confusion matrix\n",
        "cm = cm.astype('float') / cm.sum(axis=1)[:, np.newaxis]\n",
        "\n",
        "# Plot the confusion matrix\n",
        "plt.imshow(cm, cmap='Blues')\n",
        "plt.colorbar()\n",
        "\n",
        "# Add labels to the plot\n",
        "classes = [str(i) for i in range(10)]\n",
        "tick_marks = np.arange(len(classes))\n",
        "plt.xticks(tick_marks, classes)\n",
        "plt.yticks(tick_marks, classes)\n",
        "plt.xlabel('Predicted Labels')\n",
        "plt.ylabel('True Labels')\n",
        "\n",
        "# Add values to the plot\n",
        "thresh = cm.max() / 2.\n",
        "for i in range(cm.shape[0]):\n",
        "    for j in range(cm.shape[1]):\n",
        "        plt.text(j, i, format(cm[i, j], '.2f'),\n",
        "                 ha=\"center\", va=\"center\",\n",
        "                 color=\"white\" if cm[i, j] > thresh else \"black\")\n",
        "\n",
        "# Show the plot\n",
        "plt.show()\n",
        "\n",
        "\n",
        "# Generate the classification report\n",
        "report = classification_report(true_labels, predicted_labels)\n",
        "print(report)"
      ],
      "metadata": {
        "colab": {
          "base_uri": "https://localhost:8080/",
          "height": 591
        },
        "id": "PEC6mz4bFBlJ",
        "outputId": "2ca1c23a-443d-4243-fe1e-afe6424b205a"
      },
      "id": "PEC6mz4bFBlJ",
      "execution_count": null,
      "outputs": [
        {
          "output_type": "stream",
          "name": "stdout",
          "text": [
            "938/938 [==============================] - 36s 38ms/step - loss: 0.0020 - accuracy: 0.9993\n"
          ]
        },
        {
          "output_type": "display_data",
          "data": {
            "text/plain": [
              "<Figure size 432x288 with 2 Axes>"
            ],
            "image/png": "[encoded data removed]"
          },
          "metadata": {
            "needs_background": "light"
          }
        },
        {
          "output_type": "stream",
          "name": "stdout",
          "text": [
            "              precision    recall  f1-score   support\n",
            "\n",
            "           0       1.00      1.00      1.00      5923\n",
            "           1       1.00      1.00      1.00      6742\n",
            "           2       1.00      1.00      1.00      5958\n",
            "           3       1.00      1.00      1.00      6131\n",
            "           4       1.00      1.00      1.00      5842\n",
            "           5       1.00      1.00      1.00      5421\n",
            "           6       1.00      1.00      1.00      5918\n",
            "           7       1.00      1.00      1.00      6265\n",
            "           8       1.00      1.00      1.00      5851\n",
            "           9       1.00      1.00      1.00      5949\n",
            "\n",
            "    accuracy                           1.00     60000\n",
            "   macro avg       1.00      1.00      1.00     60000\n",
            "weighted avg       1.00      1.00      1.00     60000\n",
            "\n"
          ]
        }
      ]
    },
    {
      "cell_type": "code",
      "source": [
        "# Set figure size\n",
        "plt.figure(figsize=(15, 15))\n",
        "\n",
        "# Generate the confusion matrix\n",
        "num_classes = 10\n",
        "cm = np.zeros((num_classes, num_classes))\n",
        "for i in range(len(true_labels)):\n",
        "    cm[true_labels[i], predicted_labels[i]] += 1\n",
        "\n",
        "# Normalize the confusion matrix\n",
        "cm = cm.astype('float') / cm.sum(axis=1)[:, np.newaxis]\n",
        "\n",
        "# Plot the confusion matrix\n",
        "plt.imshow(cm, cmap='Blues')\n",
        "plt.colorbar()\n",
        "\n",
        "# Add labels to the plot\n",
        "classes = [str(i) for i in range(10)]\n",
        "tick_marks = np.arange(len(classes))\n",
        "plt.xticks(tick_marks, classes)\n",
        "plt.yticks(tick_marks, classes)\n",
        "plt.xlabel('Predicted Labels')\n",
        "plt.ylabel('True Labels')\n",
        "\n",
        "# Add values to the plot\n",
        "thresh = cm.max() / 2.\n",
        "for i in range(cm.shape[0]):\n",
        "    for j in range(cm.shape[1]):\n",
        "        plt.text(j, i, format(cm[i, j], '.3f'), fontsize=20,\n",
        "                 ha=\"center\", va=\"center\",\n",
        "                 color=\"white\" if cm[i, j] > thresh else \"black\")\n",
        "\n",
        "# Show the plot\n",
        "plt.show()\n"
      ],
      "metadata": {
        "colab": {
          "base_uri": "https://localhost:8080/",
          "height": 852
        },
        "id": "yJWywVLLYTCm",
        "outputId": "671b9331-5be0-4d1f-99f4-63c9b97617e0"
      },
      "id": "yJWywVLLYTCm",
      "execution_count": null,
      "outputs": [
        {
          "output_type": "display_data",
          "data": {
            "text/plain": [
              "<Figure size 1080x1080 with 2 Axes>"
            ],
            "image/png": "[encoded data removed]"
          },
          "metadata": {
            "needs_background": "light"
          }
        }
      ]
    }
  ],
  "metadata": {
    "kernelspec": {
      "display_name": "Python 3 (ipykernel)",
      "language": "python",
      "name": "python3"
    },
    "language_info": {
      "codemirror_mode": {
        "name": "ipython",
        "version": 3
      },
      "file_extension": ".py",
      "mimetype": "text/x-python",
      "name": "python",
      "nbconvert_exporter": "python",
      "pygments_lexer": "ipython3",
      "version": "3.9.13"
    },
    "colab": {
      "provenance": []
    },
    "widgets": {
      "application/vnd.jupyter.widget-state+json": {
        "a7e576feab824c3b89bd6b986e37ebfc": {
          "model_module": "@jupyter-widgets/controls",
          "model_name": "HBoxModel",
          "model_module_version": "1.5.0",
          "state": {
            "_dom_classes": [],
            "_model_module": "@jupyter-widgets/controls",
            "_model_module_version": "1.5.0",
            "_model_name": "HBoxModel",
            "_view_count": null,
            "_view_module": "@jupyter-widgets/controls",
            "_view_module_version": "1.5.0",
            "_view_name": "HBoxView",
            "box_style": "",
            "children": [
              "IPY_MODEL_f9a2550727f747b6bbf098be23e1c20f",
              "IPY_MODEL_02b605e692f5473cad8735d12b99f09d",
              "IPY_MODEL_d4c7b063a6264fefba42389c6c2298a7"
            ],
            "layout": "IPY_MODEL_b45d92952ca24bfcaa1b9828f1720a55"
          }
        },
        "f9a2550727f747b6bbf098be23e1c20f": {
          "model_module": "@jupyter-widgets/controls",
          "model_name": "HTMLModel",
          "model_module_version": "1.5.0",
          "state": {
            "_dom_classes": [],
            "_model_module": "@jupyter-widgets/controls",
            "_model_module_version": "1.5.0",
            "_model_name": "HTMLModel",
            "_view_count": null,
            "_view_module": "@jupyter-widgets/controls",
            "_view_module_version": "1.5.0",
            "_view_name": "HTMLView",
            "description": "",
            "description_tooltip": null,
            "layout": "IPY_MODEL_7c675509036d428f8921e36872010c4f",
            "placeholder": "​",
            "style": "IPY_MODEL_4086323f7e0b44159873a5954e76fc1d",
            "value": "100%"
          }
        },
        "02b605e692f5473cad8735d12b99f09d": {
          "model_module": "@jupyter-widgets/controls",
          "model_name": "FloatProgressModel",
          "model_module_version": "1.5.0",
          "state": {
            "_dom_classes": [],
            "_model_module": "@jupyter-widgets/controls",
            "_model_module_version": "1.5.0",
            "_model_name": "FloatProgressModel",
            "_view_count": null,
            "_view_module": "@jupyter-widgets/controls",
            "_view_module_version": "1.5.0",
            "_view_name": "ProgressView",
            "bar_style": "success",
            "description": "",
            "description_tooltip": null,
            "layout": "IPY_MODEL_41f8796ab0ab4b798f01f3e532db9dc1",
            "max": 9912422,
            "min": 0,
            "orientation": "horizontal",
            "style": "IPY_MODEL_f0007b62a06543058e60f268c55a6da1",
            "value": 9912422
          }
        },
        "d4c7b063a6264fefba42389c6c2298a7": {
          "model_module": "@jupyter-widgets/controls",
          "model_name": "HTMLModel",
          "model_module_version": "1.5.0",
          "state": {
            "_dom_classes": [],
            "_model_module": "@jupyter-widgets/controls",
            "_model_module_version": "1.5.0",
            "_model_name": "HTMLModel",
            "_view_count": null,
            "_view_module": "@jupyter-widgets/controls",
            "_view_module_version": "1.5.0",
            "_view_name": "HTMLView",
            "description": "",
            "description_tooltip": null,
            "layout": "IPY_MODEL_f1f9cb7b3de44ce6a78f3d667fd5b0e5",
            "placeholder": "​",
            "style": "IPY_MODEL_067bbda5acc44434b5a6b1cab5d61a73",
            "value": " 9912422/9912422 [00:00&lt;00:00, 137281076.32it/s]"
          }
        },
        "b45d92952ca24bfcaa1b9828f1720a55": {
          "model_module": "@jupyter-widgets/base",
          "model_name": "LayoutModel",
          "model_module_version": "1.2.0",
          "state": {
            "_model_module": "@jupyter-widgets/base",
            "_model_module_version": "1.2.0",
            "_model_name": "LayoutModel",
            "_view_count": null,
            "_view_module": "@jupyter-widgets/base",
            "_view_module_version": "1.2.0",
            "_view_name": "LayoutView",
            "align_content": null,
            "align_items": null,
            "align_self": null,
            "border": null,
            "bottom": null,
            "display": null,
            "flex": null,
            "flex_flow": null,
            "grid_area": null,
            "grid_auto_columns": null,
            "grid_auto_flow": null,
            "grid_auto_rows": null,
            "grid_column": null,
            "grid_gap": null,
            "grid_row": null,
            "grid_template_areas": null,
            "grid_template_columns": null,
            "grid_template_rows": null,
            "height": null,
            "justify_content": null,
            "justify_items": null,
            "left": null,
            "margin": null,
            "max_height": null,
            "max_width": null,
            "min_height": null,
            "min_width": null,
            "object_fit": null,
            "object_position": null,
            "order": null,
            "overflow": null,
            "overflow_x": null,
            "overflow_y": null,
            "padding": null,
            "right": null,
            "top": null,
            "visibility": null,
            "width": null
          }
        },
        "7c675509036d428f8921e36872010c4f": {
          "model_module": "@jupyter-widgets/base",
          "model_name": "LayoutModel",
          "model_module_version": "1.2.0",
          "state": {
            "_model_module": "@jupyter-widgets/base",
            "_model_module_version": "1.2.0",
            "_model_name": "LayoutModel",
            "_view_count": null,
            "_view_module": "@jupyter-widgets/base",
            "_view_module_version": "1.2.0",
            "_view_name": "LayoutView",
            "align_content": null,
            "align_items": null,
            "align_self": null,
            "border": null,
            "bottom": null,
            "display": null,
            "flex": null,
            "flex_flow": null,
            "grid_area": null,
            "grid_auto_columns": null,
            "grid_auto_flow": null,
            "grid_auto_rows": null,
            "grid_column": null,
            "grid_gap": null,
            "grid_row": null,
            "grid_template_areas": null,
            "grid_template_columns": null,
            "grid_template_rows": null,
            "height": null,
            "justify_content": null,
            "justify_items": null,
            "left": null,
            "margin": null,
            "max_height": null,
            "max_width": null,
            "min_height": null,
            "min_width": null,
            "object_fit": null,
            "object_position": null,
            "order": null,
            "overflow": null,
            "overflow_x": null,
            "overflow_y": null,
            "padding": null,
            "right": null,
            "top": null,
            "visibility": null,
            "width": null
          }
        },
        "4086323f7e0b44159873a5954e76fc1d": {
          "model_module": "@jupyter-widgets/controls",
          "model_name": "DescriptionStyleModel",
          "model_module_version": "1.5.0",
          "state": {
            "_model_module": "@jupyter-widgets/controls",
            "_model_module_version": "1.5.0",
            "_model_name": "DescriptionStyleModel",
            "_view_count": null,
            "_view_module": "@jupyter-widgets/base",
            "_view_module_version": "1.2.0",
            "_view_name": "StyleView",
            "description_width": ""
          }
        },
        "41f8796ab0ab4b798f01f3e532db9dc1": {
          "model_module": "@jupyter-widgets/base",
          "model_name": "LayoutModel",
          "model_module_version": "1.2.0",
          "state": {
            "_model_module": "@jupyter-widgets/base",
            "_model_module_version": "1.2.0",
            "_model_name": "LayoutModel",
            "_view_count": null,
            "_view_module": "@jupyter-widgets/base",
            "_view_module_version": "1.2.0",
            "_view_name": "LayoutView",
            "align_content": null,
            "align_items": null,
            "align_self": null,
            "border": null,
            "bottom": null,
            "display": null,
            "flex": null,
            "flex_flow": null,
            "grid_area": null,
            "grid_auto_columns": null,
            "grid_auto_flow": null,
            "grid_auto_rows": null,
            "grid_column": null,
            "grid_gap": null,
            "grid_row": null,
            "grid_template_areas": null,
            "grid_template_columns": null,
            "grid_template_rows": null,
            "height": null,
            "justify_content": null,
            "justify_items": null,
            "left": null,
            "margin": null,
            "max_height": null,
            "max_width": null,
            "min_height": null,
            "min_width": null,
            "object_fit": null,
            "object_position": null,
            "order": null,
            "overflow": null,
            "overflow_x": null,
            "overflow_y": null,
            "padding": null,
            "right": null,
            "top": null,
            "visibility": null,
            "width": null
          }
        },
        "f0007b62a06543058e60f268c55a6da1": {
          "model_module": "@jupyter-widgets/controls",
          "model_name": "ProgressStyleModel",
          "model_module_version": "1.5.0",
          "state": {
            "_model_module": "@jupyter-widgets/controls",
            "_model_module_version": "1.5.0",
            "_model_name": "ProgressStyleModel",
            "_view_count": null,
            "_view_module": "@jupyter-widgets/base",
            "_view_module_version": "1.2.0",
            "_view_name": "StyleView",
            "bar_color": null,
            "description_width": ""
          }
        },
        "f1f9cb7b3de44ce6a78f3d667fd5b0e5": {
          "model_module": "@jupyter-widgets/base",
          "model_name": "LayoutModel",
          "model_module_version": "1.2.0",
          "state": {
            "_model_module": "@jupyter-widgets/base",
            "_model_module_version": "1.2.0",
            "_model_name": "LayoutModel",
            "_view_count": null,
            "_view_module": "@jupyter-widgets/base",
            "_view_module_version": "1.2.0",
            "_view_name": "LayoutView",
            "align_content": null,
            "align_items": null,
            "align_self": null,
            "border": null,
            "bottom": null,
            "display": null,
            "flex": null,
            "flex_flow": null,
            "grid_area": null,
            "grid_auto_columns": null,
            "grid_auto_flow": null,
            "grid_auto_rows": null,
            "grid_column": null,
            "grid_gap": null,
            "grid_row": null,
            "grid_template_areas": null,
            "grid_template_columns": null,
            "grid_template_rows": null,
            "height": null,
            "justify_content": null,
            "justify_items": null,
            "left": null,
            "margin": null,
            "max_height": null,
            "max_width": null,
            "min_height": null,
            "min_width": null,
            "object_fit": null,
            "object_position": null,
            "order": null,
            "overflow": null,
            "overflow_x": null,
            "overflow_y": null,
            "padding": null,
            "right": null,
            "top": null,
            "visibility": null,
            "width": null
          }
        },
        "067bbda5acc44434b5a6b1cab5d61a73": {
          "model_module": "@jupyter-widgets/controls",
          "model_name": "DescriptionStyleModel",
          "model_module_version": "1.5.0",
          "state": {
            "_model_module": "@jupyter-widgets/controls",
            "_model_module_version": "1.5.0",
            "_model_name": "DescriptionStyleModel",
            "_view_count": null,
            "_view_module": "@jupyter-widgets/base",
            "_view_module_version": "1.2.0",
            "_view_name": "StyleView",
            "description_width": ""
          }
        },
        "4a3db5f93c414ab0a7566b72556bb5f6": {
          "model_module": "@jupyter-widgets/controls",
          "model_name": "HBoxModel",
          "model_module_version": "1.5.0",
          "state": {
            "_dom_classes": [],
            "_model_module": "@jupyter-widgets/controls",
            "_model_module_version": "1.5.0",
            "_model_name": "HBoxModel",
            "_view_count": null,
            "_view_module": "@jupyter-widgets/controls",
            "_view_module_version": "1.5.0",
            "_view_name": "HBoxView",
            "box_style": "",
            "children": [
              "IPY_MODEL_b9dad2d4c02f4d69a21095440995c65b",
              "IPY_MODEL_bb2bf6cbc12c434e8c887617dc1367a0",
              "IPY_MODEL_b0d00ed852cc4329892ab3846cfc0d45"
            ],
            "layout": "IPY_MODEL_89f0eeacaa8b4770a4b80046e700a1b8"
          }
        },
        "b9dad2d4c02f4d69a21095440995c65b": {
          "model_module": "@jupyter-widgets/controls",
          "model_name": "HTMLModel",
          "model_module_version": "1.5.0",
          "state": {
            "_dom_classes": [],
            "_model_module": "@jupyter-widgets/controls",
            "_model_module_version": "1.5.0",
            "_model_name": "HTMLModel",
            "_view_count": null,
            "_view_module": "@jupyter-widgets/controls",
            "_view_module_version": "1.5.0",
            "_view_name": "HTMLView",
            "description": "",
            "description_tooltip": null,
            "layout": "IPY_MODEL_a1a69756a7f84df988b5540d3841c1eb",
            "placeholder": "​",
            "style": "IPY_MODEL_2b09a5669f584cfaba8f6761b5f3c3d6",
            "value": "100%"
          }
        },
        "bb2bf6cbc12c434e8c887617dc1367a0": {
          "model_module": "@jupyter-widgets/controls",
          "model_name": "FloatProgressModel",
          "model_module_version": "1.5.0",
          "state": {
            "_dom_classes": [],
            "_model_module": "@jupyter-widgets/controls",
            "_model_module_version": "1.5.0",
            "_model_name": "FloatProgressModel",
            "_view_count": null,
            "_view_module": "@jupyter-widgets/controls",
            "_view_module_version": "1.5.0",
            "_view_name": "ProgressView",
            "bar_style": "success",
            "description": "",
            "description_tooltip": null,
            "layout": "IPY_MODEL_3c5e3a63ed2b475fbddec82e284711e7",
            "max": 28881,
            "min": 0,
            "orientation": "horizontal",
            "style": "IPY_MODEL_f294ea719e9749c8a2b6a89749f96864",
            "value": 28881
          }
        },
        "b0d00ed852cc4329892ab3846cfc0d45": {
          "model_module": "@jupyter-widgets/controls",
          "model_name": "HTMLModel",
          "model_module_version": "1.5.0",
          "state": {
            "_dom_classes": [],
            "_model_module": "@jupyter-widgets/controls",
            "_model_module_version": "1.5.0",
            "_model_name": "HTMLModel",
            "_view_count": null,
            "_view_module": "@jupyter-widgets/controls",
            "_view_module_version": "1.5.0",
            "_view_name": "HTMLView",
            "description": "",
            "description_tooltip": null,
            "layout": "IPY_MODEL_a36d7e38a42a4f08882f87faeb4e28d4",
            "placeholder": "​",
            "style": "IPY_MODEL_67b89e40dc2f459bacc32bab82f7514d",
            "value": " 28881/28881 [00:00&lt;00:00, 1227759.81it/s]"
          }
        },
        "89f0eeacaa8b4770a4b80046e700a1b8": {
          "model_module": "@jupyter-widgets/base",
          "model_name": "LayoutModel",
          "model_module_version": "1.2.0",
          "state": {
            "_model_module": "@jupyter-widgets/base",
            "_model_module_version": "1.2.0",
            "_model_name": "LayoutModel",
            "_view_count": null,
            "_view_module": "@jupyter-widgets/base",
            "_view_module_version": "1.2.0",
            "_view_name": "LayoutView",
            "align_content": null,
            "align_items": null,
            "align_self": null,
            "border": null,
            "bottom": null,
            "display": null,
            "flex": null,
            "flex_flow": null,
            "grid_area": null,
            "grid_auto_columns": null,
            "grid_auto_flow": null,
            "grid_auto_rows": null,
            "grid_column": null,
            "grid_gap": null,
            "grid_row": null,
            "grid_template_areas": null,
            "grid_template_columns": null,
            "grid_template_rows": null,
            "height": null,
            "justify_content": null,
            "justify_items": null,
            "left": null,
            "margin": null,
            "max_height": null,
            "max_width": null,
            "min_height": null,
            "min_width": null,
            "object_fit": null,
            "object_position": null,
            "order": null,
            "overflow": null,
            "overflow_x": null,
            "overflow_y": null,
            "padding": null,
            "right": null,
            "top": null,
            "visibility": null,
            "width": null
          }
        },
        "a1a69756a7f84df988b5540d3841c1eb": {
          "model_module": "@jupyter-widgets/base",
          "model_name": "LayoutModel",
          "model_module_version": "1.2.0",
          "state": {
            "_model_module": "@jupyter-widgets/base",
            "_model_module_version": "1.2.0",
            "_model_name": "LayoutModel",
            "_view_count": null,
            "_view_module": "@jupyter-widgets/base",
            "_view_module_version": "1.2.0",
            "_view_name": "LayoutView",
            "align_content": null,
            "align_items": null,
            "align_self": null,
            "border": null,
            "bottom": null,
            "display": null,
            "flex": null,
            "flex_flow": null,
            "grid_area": null,
            "grid_auto_columns": null,
            "grid_auto_flow": null,
            "grid_auto_rows": null,
            "grid_column": null,
            "grid_gap": null,
            "grid_row": null,
            "grid_template_areas": null,
            "grid_template_columns": null,
            "grid_template_rows": null,
            "height": null,
            "justify_content": null,
            "justify_items": null,
            "left": null,
            "margin": null,
            "max_height": null,
            "max_width": null,
            "min_height": null,
            "min_width": null,
            "object_fit": null,
            "object_position": null,
            "order": null,
            "overflow": null,
            "overflow_x": null,
            "overflow_y": null,
            "padding": null,
            "right": null,
            "top": null,
            "visibility": null,
            "width": null
          }
        },
        "2b09a5669f584cfaba8f6761b5f3c3d6": {
          "model_module": "@jupyter-widgets/controls",
          "model_name": "DescriptionStyleModel",
          "model_module_version": "1.5.0",
          "state": {
            "_model_module": "@jupyter-widgets/controls",
            "_model_module_version": "1.5.0",
            "_model_name": "DescriptionStyleModel",
            "_view_count": null,
            "_view_module": "@jupyter-widgets/base",
            "_view_module_version": "1.2.0",
            "_view_name": "StyleView",
            "description_width": ""
          }
        },
        "3c5e3a63ed2b475fbddec82e284711e7": {
          "model_module": "@jupyter-widgets/base",
          "model_name": "LayoutModel",
          "model_module_version": "1.2.0",
          "state": {
            "_model_module": "@jupyter-widgets/base",
            "_model_module_version": "1.2.0",
            "_model_name": "LayoutModel",
            "_view_count": null,
            "_view_module": "@jupyter-widgets/base",
            "_view_module_version": "1.2.0",
            "_view_name": "LayoutView",
            "align_content": null,
            "align_items": null,
            "align_self": null,
            "border": null,
            "bottom": null,
            "display": null,
            "flex": null,
            "flex_flow": null,
            "grid_area": null,
            "grid_auto_columns": null,
            "grid_auto_flow": null,
            "grid_auto_rows": null,
            "grid_column": null,
            "grid_gap": null,
            "grid_row": null,
            "grid_template_areas": null,
            "grid_template_columns": null,
            "grid_template_rows": null,
            "height": null,
            "justify_content": null,
            "justify_items": null,
            "left": null,
            "margin": null,
            "max_height": null,
            "max_width": null,
            "min_height": null,
            "min_width": null,
            "object_fit": null,
            "object_position": null,
            "order": null,
            "overflow": null,
            "overflow_x": null,
            "overflow_y": null,
            "padding": null,
            "right": null,
            "top": null,
            "visibility": null,
            "width": null
          }
        },
        "f294ea719e9749c8a2b6a89749f96864": {
          "model_module": "@jupyter-widgets/controls",
          "model_name": "ProgressStyleModel",
          "model_module_version": "1.5.0",
          "state": {
            "_model_module": "@jupyter-widgets/controls",
            "_model_module_version": "1.5.0",
            "_model_name": "ProgressStyleModel",
            "_view_count": null,
            "_view_module": "@jupyter-widgets/base",
            "_view_module_version": "1.2.0",
            "_view_name": "StyleView",
            "bar_color": null,
            "description_width": ""
          }
        },
        "a36d7e38a42a4f08882f87faeb4e28d4": {
          "model_module": "@jupyter-widgets/base",
          "model_name": "LayoutModel",
          "model_module_version": "1.2.0",
          "state": {
            "_model_module": "@jupyter-widgets/base",
            "_model_module_version": "1.2.0",
            "_model_name": "LayoutModel",
            "_view_count": null,
            "_view_module": "@jupyter-widgets/base",
            "_view_module_version": "1.2.0",
            "_view_name": "LayoutView",
            "align_content": null,
            "align_items": null,
            "align_self": null,
            "border": null,
            "bottom": null,
            "display": null,
            "flex": null,
            "flex_flow": null,
            "grid_area": null,
            "grid_auto_columns": null,
            "grid_auto_flow": null,
            "grid_auto_rows": null,
            "grid_column": null,
            "grid_gap": null,
            "grid_row": null,
            "grid_template_areas": null,
            "grid_template_columns": null,
            "grid_template_rows": null,
            "height": null,
            "justify_content": null,
            "justify_items": null,
            "left": null,
            "margin": null,
            "max_height": null,
            "max_width": null,
            "min_height": null,
            "min_width": null,
            "object_fit": null,
            "object_position": null,
            "order": null,
            "overflow": null,
            "overflow_x": null,
            "overflow_y": null,
            "padding": null,
            "right": null,
            "top": null,
            "visibility": null,
            "width": null
          }
        },
        "67b89e40dc2f459bacc32bab82f7514d": {
          "model_module": "@jupyter-widgets/controls",
          "model_name": "DescriptionStyleModel",
          "model_module_version": "1.5.0",
          "state": {
            "_model_module": "@jupyter-widgets/controls",
            "_model_module_version": "1.5.0",
            "_model_name": "DescriptionStyleModel",
            "_view_count": null,
            "_view_module": "@jupyter-widgets/base",
            "_view_module_version": "1.2.0",
            "_view_name": "StyleView",
            "description_width": ""
          }
        },
        "19e732a8ae1b4b47908f3a791d586d57": {
          "model_module": "@jupyter-widgets/controls",
          "model_name": "HBoxModel",
          "model_module_version": "1.5.0",
          "state": {
            "_dom_classes": [],
            "_model_module": "@jupyter-widgets/controls",
            "_model_module_version": "1.5.0",
            "_model_name": "HBoxModel",
            "_view_count": null,
            "_view_module": "@jupyter-widgets/controls",
            "_view_module_version": "1.5.0",
            "_view_name": "HBoxView",
            "box_style": "",
            "children": [
              "IPY_MODEL_96acf4100711467e8b34d7519808b1a5",
              "IPY_MODEL_dbb80c033b2f4910ab169c0fc3659d20",
              "IPY_MODEL_4bf010c06745420888d96f50356b851d"
            ],
            "layout": "IPY_MODEL_8280182bf1784b459f7db10fdab7f238"
          }
        },
        "96acf4100711467e8b34d7519808b1a5": {
          "model_module": "@jupyter-widgets/controls",
          "model_name": "HTMLModel",
          "model_module_version": "1.5.0",
          "state": {
            "_dom_classes": [],
            "_model_module": "@jupyter-widgets/controls",
            "_model_module_version": "1.5.0",
            "_model_name": "HTMLModel",
            "_view_count": null,
            "_view_module": "@jupyter-widgets/controls",
            "_view_module_version": "1.5.0",
            "_view_name": "HTMLView",
            "description": "",
            "description_tooltip": null,
            "layout": "IPY_MODEL_5d2b50d157ed4ca8ae6aa31c4ba47efd",
            "placeholder": "​",
            "style": "IPY_MODEL_e30bcde0427045c5b1997e889008d50e",
            "value": "100%"
          }
        },
        "dbb80c033b2f4910ab169c0fc3659d20": {
          "model_module": "@jupyter-widgets/controls",
          "model_name": "FloatProgressModel",
          "model_module_version": "1.5.0",
          "state": {
            "_dom_classes": [],
            "_model_module": "@jupyter-widgets/controls",
            "_model_module_version": "1.5.0",
            "_model_name": "FloatProgressModel",
            "_view_count": null,
            "_view_module": "@jupyter-widgets/controls",
            "_view_module_version": "1.5.0",
            "_view_name": "ProgressView",
            "bar_style": "success",
            "description": "",
            "description_tooltip": null,
            "layout": "IPY_MODEL_d61dbc316a644857a02ee069a1e85159",
            "max": 1648877,
            "min": 0,
            "orientation": "horizontal",
            "style": "IPY_MODEL_4f9af199502c4ce9a2073961f0fd94d1",
            "value": 1648877
          }
        },
        "4bf010c06745420888d96f50356b851d": {
          "model_module": "@jupyter-widgets/controls",
          "model_name": "HTMLModel",
          "model_module_version": "1.5.0",
          "state": {
            "_dom_classes": [],
            "_model_module": "@jupyter-widgets/controls",
            "_model_module_version": "1.5.0",
            "_model_name": "HTMLModel",
            "_view_count": null,
            "_view_module": "@jupyter-widgets/controls",
            "_view_module_version": "1.5.0",
            "_view_name": "HTMLView",
            "description": "",
            "description_tooltip": null,
            "layout": "IPY_MODEL_1e7d7e8ac9c44912a35e153a571b45b2",
            "placeholder": "​",
            "style": "IPY_MODEL_34143a0a0eab4e338ce7fa65fb019406",
            "value": " 1648877/1648877 [00:00&lt;00:00, 46493700.10it/s]"
          }
        },
        "8280182bf1784b459f7db10fdab7f238": {
          "model_module": "@jupyter-widgets/base",
          "model_name": "LayoutModel",
          "model_module_version": "1.2.0",
          "state": {
            "_model_module": "@jupyter-widgets/base",
            "_model_module_version": "1.2.0",
            "_model_name": "LayoutModel",
            "_view_count": null,
            "_view_module": "@jupyter-widgets/base",
            "_view_module_version": "1.2.0",
            "_view_name": "LayoutView",
            "align_content": null,
            "align_items": null,
            "align_self": null,
            "border": null,
            "bottom": null,
            "display": null,
            "flex": null,
            "flex_flow": null,
            "grid_area": null,
            "grid_auto_columns": null,
            "grid_auto_flow": null,
            "grid_auto_rows": null,
            "grid_column": null,
            "grid_gap": null,
            "grid_row": null,
            "grid_template_areas": null,
            "grid_template_columns": null,
            "grid_template_rows": null,
            "height": null,
            "justify_content": null,
            "justify_items": null,
            "left": null,
            "margin": null,
            "max_height": null,
            "max_width": null,
            "min_height": null,
            "min_width": null,
            "object_fit": null,
            "object_position": null,
            "order": null,
            "overflow": null,
            "overflow_x": null,
            "overflow_y": null,
            "padding": null,
            "right": null,
            "top": null,
            "visibility": null,
            "width": null
          }
        },
        "5d2b50d157ed4ca8ae6aa31c4ba47efd": {
          "model_module": "@jupyter-widgets/base",
          "model_name": "LayoutModel",
          "model_module_version": "1.2.0",
          "state": {
            "_model_module": "@jupyter-widgets/base",
            "_model_module_version": "1.2.0",
            "_model_name": "LayoutModel",
            "_view_count": null,
            "_view_module": "@jupyter-widgets/base",
            "_view_module_version": "1.2.0",
            "_view_name": "LayoutView",
            "align_content": null,
            "align_items": null,
            "align_self": null,
            "border": null,
            "bottom": null,
            "display": null,
            "flex": null,
            "flex_flow": null,
            "grid_area": null,
            "grid_auto_columns": null,
            "grid_auto_flow": null,
            "grid_auto_rows": null,
            "grid_column": null,
            "grid_gap": null,
            "grid_row": null,
            "grid_template_areas": null,
            "grid_template_columns": null,
            "grid_template_rows": null,
            "height": null,
            "justify_content": null,
            "justify_items": null,
            "left": null,
            "margin": null,
            "max_height": null,
            "max_width": null,
            "min_height": null,
            "min_width": null,
            "object_fit": null,
            "object_position": null,
            "order": null,
            "overflow": null,
            "overflow_x": null,
            "overflow_y": null,
            "padding": null,
            "right": null,
            "top": null,
            "visibility": null,
            "width": null
          }
        },
        "e30bcde0427045c5b1997e889008d50e": {
          "model_module": "@jupyter-widgets/controls",
          "model_name": "DescriptionStyleModel",
          "model_module_version": "1.5.0",
          "state": {
            "_model_module": "@jupyter-widgets/controls",
            "_model_module_version": "1.5.0",
            "_model_name": "DescriptionStyleModel",
            "_view_count": null,
            "_view_module": "@jupyter-widgets/base",
            "_view_module_version": "1.2.0",
            "_view_name": "StyleView",
            "description_width": ""
          }
        },
        "d61dbc316a644857a02ee069a1e85159": {
          "model_module": "@jupyter-widgets/base",
          "model_name": "LayoutModel",
          "model_module_version": "1.2.0",
          "state": {
            "_model_module": "@jupyter-widgets/base",
            "_model_module_version": "1.2.0",
            "_model_name": "LayoutModel",
            "_view_count": null,
            "_view_module": "@jupyter-widgets/base",
            "_view_module_version": "1.2.0",
            "_view_name": "LayoutView",
            "align_content": null,
            "align_items": null,
            "align_self": null,
            "border": null,
            "bottom": null,
            "display": null,
            "flex": null,
            "flex_flow": null,
            "grid_area": null,
            "grid_auto_columns": null,
            "grid_auto_flow": null,
            "grid_auto_rows": null,
            "grid_column": null,
            "grid_gap": null,
            "grid_row": null,
            "grid_template_areas": null,
            "grid_template_columns": null,
            "grid_template_rows": null,
            "height": null,
            "justify_content": null,
            "justify_items": null,
            "left": null,
            "margin": null,
            "max_height": null,
            "max_width": null,
            "min_height": null,
            "min_width": null,
            "object_fit": null,
            "object_position": null,
            "order": null,
            "overflow": null,
            "overflow_x": null,
            "overflow_y": null,
            "padding": null,
            "right": null,
            "top": null,
            "visibility": null,
            "width": null
          }
        },
        "4f9af199502c4ce9a2073961f0fd94d1": {
          "model_module": "@jupyter-widgets/controls",
          "model_name": "ProgressStyleModel",
          "model_module_version": "1.5.0",
          "state": {
            "_model_module": "@jupyter-widgets/controls",
            "_model_module_version": "1.5.0",
            "_model_name": "ProgressStyleModel",
            "_view_count": null,
            "_view_module": "@jupyter-widgets/base",
            "_view_module_version": "1.2.0",
            "_view_name": "StyleView",
            "bar_color": null,
            "description_width": ""
          }
        },
        "1e7d7e8ac9c44912a35e153a571b45b2": {
          "model_module": "@jupyter-widgets/base",
          "model_name": "LayoutModel",
          "model_module_version": "1.2.0",
          "state": {
            "_model_module": "@jupyter-widgets/base",
            "_model_module_version": "1.2.0",
            "_model_name": "LayoutModel",
            "_view_count": null,
            "_view_module": "@jupyter-widgets/base",
            "_view_module_version": "1.2.0",
            "_view_name": "LayoutView",
            "align_content": null,
            "align_items": null,
            "align_self": null,
            "border": null,
            "bottom": null,
            "display": null,
            "flex": null,
            "flex_flow": null,
            "grid_area": null,
            "grid_auto_columns": null,
            "grid_auto_flow": null,
            "grid_auto_rows": null,
            "grid_column": null,
            "grid_gap": null,
            "grid_row": null,
            "grid_template_areas": null,
            "grid_template_columns": null,
            "grid_template_rows": null,
            "height": null,
            "justify_content": null,
            "justify_items": null,
            "left": null,
            "margin": null,
            "max_height": null,
            "max_width": null,
            "min_height": null,
            "min_width": null,
            "object_fit": null,
            "object_position": null,
            "order": null,
            "overflow": null,
            "overflow_x": null,
            "overflow_y": null,
            "padding": null,
            "right": null,
            "top": null,
            "visibility": null,
            "width": null
          }
        },
        "34143a0a0eab4e338ce7fa65fb019406": {
          "model_module": "@jupyter-widgets/controls",
          "model_name": "DescriptionStyleModel",
          "model_module_version": "1.5.0",
          "state": {
            "_model_module": "@jupyter-widgets/controls",
            "_model_module_version": "1.5.0",
            "_model_name": "DescriptionStyleModel",
            "_view_count": null,
            "_view_module": "@jupyter-widgets/base",
            "_view_module_version": "1.2.0",
            "_view_name": "StyleView",
            "description_width": ""
          }
        },
        "a0f3e9187a674b068133789286ae5241": {
          "model_module": "@jupyter-widgets/controls",
          "model_name": "HBoxModel",
          "model_module_version": "1.5.0",
          "state": {
            "_dom_classes": [],
            "_model_module": "@jupyter-widgets/controls",
            "_model_module_version": "1.5.0",
            "_model_name": "HBoxModel",
            "_view_count": null,
            "_view_module": "@jupyter-widgets/controls",
            "_view_module_version": "1.5.0",
            "_view_name": "HBoxView",
            "box_style": "",
            "children": [
              "IPY_MODEL_4b98fd62177745e498f6c2ff392f7ca7",
              "IPY_MODEL_55cdb62a7dd247caa6a7afe71b7d98bc",
              "IPY_MODEL_c3c9cdb18c914549ad468b576770ba1d"
            ],
            "layout": "IPY_MODEL_bf72aca9ad484a72937439afc0993871"
          }
        },
        "4b98fd62177745e498f6c2ff392f7ca7": {
          "model_module": "@jupyter-widgets/controls",
          "model_name": "HTMLModel",
          "model_module_version": "1.5.0",
          "state": {
            "_dom_classes": [],
            "_model_module": "@jupyter-widgets/controls",
            "_model_module_version": "1.5.0",
            "_model_name": "HTMLModel",
            "_view_count": null,
            "_view_module": "@jupyter-widgets/controls",
            "_view_module_version": "1.5.0",
            "_view_name": "HTMLView",
            "description": "",
            "description_tooltip": null,
            "layout": "IPY_MODEL_74e19348d6f342b6ae29db1effe07a56",
            "placeholder": "​",
            "style": "IPY_MODEL_ea042bfd3d2c4e398e000bd0810fe0d7",
            "value": "100%"
          }
        },
        "55cdb62a7dd247caa6a7afe71b7d98bc": {
          "model_module": "@jupyter-widgets/controls",
          "model_name": "FloatProgressModel",
          "model_module_version": "1.5.0",
          "state": {
            "_dom_classes": [],
            "_model_module": "@jupyter-widgets/controls",
            "_model_module_version": "1.5.0",
            "_model_name": "FloatProgressModel",
            "_view_count": null,
            "_view_module": "@jupyter-widgets/controls",
            "_view_module_version": "1.5.0",
            "_view_name": "ProgressView",
            "bar_style": "success",
            "description": "",
            "description_tooltip": null,
            "layout": "IPY_MODEL_1faa2c09787f43459d359c1ca57ec06e",
            "max": 4542,
            "min": 0,
            "orientation": "horizontal",
            "style": "IPY_MODEL_73e5efede3c14b699fca79349f4d46b2",
            "value": 4542
          }
        },
        "c3c9cdb18c914549ad468b576770ba1d": {
          "model_module": "@jupyter-widgets/controls",
          "model_name": "HTMLModel",
          "model_module_version": "1.5.0",
          "state": {
            "_dom_classes": [],
            "_model_module": "@jupyter-widgets/controls",
            "_model_module_version": "1.5.0",
            "_model_name": "HTMLModel",
            "_view_count": null,
            "_view_module": "@jupyter-widgets/controls",
            "_view_module_version": "1.5.0",
            "_view_name": "HTMLView",
            "description": "",
            "description_tooltip": null,
            "layout": "IPY_MODEL_a67ed51480e2496d867d2f4b51a4c8f1",
            "placeholder": "​",
            "style": "IPY_MODEL_d2dbc153ae314e669a87053af9c0eeae",
            "value": " 4542/4542 [00:00&lt;00:00, 133615.72it/s]"
          }
        },
        "bf72aca9ad484a72937439afc0993871": {
          "model_module": "@jupyter-widgets/base",
          "model_name": "LayoutModel",
          "model_module_version": "1.2.0",
          "state": {
            "_model_module": "@jupyter-widgets/base",
            "_model_module_version": "1.2.0",
            "_model_name": "LayoutModel",
            "_view_count": null,
            "_view_module": "@jupyter-widgets/base",
            "_view_module_version": "1.2.0",
            "_view_name": "LayoutView",
            "align_content": null,
            "align_items": null,
            "align_self": null,
            "border": null,
            "bottom": null,
            "display": null,
            "flex": null,
            "flex_flow": null,
            "grid_area": null,
            "grid_auto_columns": null,
            "grid_auto_flow": null,
            "grid_auto_rows": null,
            "grid_column": null,
            "grid_gap": null,
            "grid_row": null,
            "grid_template_areas": null,
            "grid_template_columns": null,
            "grid_template_rows": null,
            "height": null,
            "justify_content": null,
            "justify_items": null,
            "left": null,
            "margin": null,
            "max_height": null,
            "max_width": null,
            "min_height": null,
            "min_width": null,
            "object_fit": null,
            "object_position": null,
            "order": null,
            "overflow": null,
            "overflow_x": null,
            "overflow_y": null,
            "padding": null,
            "right": null,
            "top": null,
            "visibility": null,
            "width": null
          }
        },
        "74e19348d6f342b6ae29db1effe07a56": {
          "model_module": "@jupyter-widgets/base",
          "model_name": "LayoutModel",
          "model_module_version": "1.2.0",
          "state": {
            "_model_module": "@jupyter-widgets/base",
            "_model_module_version": "1.2.0",
            "_model_name": "LayoutModel",
            "_view_count": null,
            "_view_module": "@jupyter-widgets/base",
            "_view_module_version": "1.2.0",
            "_view_name": "LayoutView",
            "align_content": null,
            "align_items": null,
            "align_self": null,
            "border": null,
            "bottom": null,
            "display": null,
            "flex": null,
            "flex_flow": null,
            "grid_area": null,
            "grid_auto_columns": null,
            "grid_auto_flow": null,
            "grid_auto_rows": null,
            "grid_column": null,
            "grid_gap": null,
            "grid_row": null,
            "grid_template_areas": null,
            "grid_template_columns": null,
            "grid_template_rows": null,
            "height": null,
            "justify_content": null,
            "justify_items": null,
            "left": null,
            "margin": null,
            "max_height": null,
            "max_width": null,
            "min_height": null,
            "min_width": null,
            "object_fit": null,
            "object_position": null,
            "order": null,
            "overflow": null,
            "overflow_x": null,
            "overflow_y": null,
            "padding": null,
            "right": null,
            "top": null,
            "visibility": null,
            "width": null
          }
        },
        "ea042bfd3d2c4e398e000bd0810fe0d7": {
          "model_module": "@jupyter-widgets/controls",
          "model_name": "DescriptionStyleModel",
          "model_module_version": "1.5.0",
          "state": {
            "_model_module": "@jupyter-widgets/controls",
            "_model_module_version": "1.5.0",
            "_model_name": "DescriptionStyleModel",
            "_view_count": null,
            "_view_module": "@jupyter-widgets/base",
            "_view_module_version": "1.2.0",
            "_view_name": "StyleView",
            "description_width": ""
          }
        },
        "1faa2c09787f43459d359c1ca57ec06e": {
          "model_module": "@jupyter-widgets/base",
          "model_name": "LayoutModel",
          "model_module_version": "1.2.0",
          "state": {
            "_model_module": "@jupyter-widgets/base",
            "_model_module_version": "1.2.0",
            "_model_name": "LayoutModel",
            "_view_count": null,
            "_view_module": "@jupyter-widgets/base",
            "_view_module_version": "1.2.0",
            "_view_name": "LayoutView",
            "align_content": null,
            "align_items": null,
            "align_self": null,
            "border": null,
            "bottom": null,
            "display": null,
            "flex": null,
            "flex_flow": null,
            "grid_area": null,
            "grid_auto_columns": null,
            "grid_auto_flow": null,
            "grid_auto_rows": null,
            "grid_column": null,
            "grid_gap": null,
            "grid_row": null,
            "grid_template_areas": null,
            "grid_template_columns": null,
            "grid_template_rows": null,
            "height": null,
            "justify_content": null,
            "justify_items": null,
            "left": null,
            "margin": null,
            "max_height": null,
            "max_width": null,
            "min_height": null,
            "min_width": null,
            "object_fit": null,
            "object_position": null,
            "order": null,
            "overflow": null,
            "overflow_x": null,
            "overflow_y": null,
            "padding": null,
            "right": null,
            "top": null,
            "visibility": null,
            "width": null
          }
        },
        "73e5efede3c14b699fca79349f4d46b2": {
          "model_module": "@jupyter-widgets/controls",
          "model_name": "ProgressStyleModel",
          "model_module_version": "1.5.0",
          "state": {
            "_model_module": "@jupyter-widgets/controls",
            "_model_module_version": "1.5.0",
            "_model_name": "ProgressStyleModel",
            "_view_count": null,
            "_view_module": "@jupyter-widgets/base",
            "_view_module_version": "1.2.0",
            "_view_name": "StyleView",
            "bar_color": null,
            "description_width": ""
          }
        },
        "a67ed51480e2496d867d2f4b51a4c8f1": {
          "model_module": "@jupyter-widgets/base",
          "model_name": "LayoutModel",
          "model_module_version": "1.2.0",
          "state": {
            "_model_module": "@jupyter-widgets/base",
            "_model_module_version": "1.2.0",
            "_model_name": "LayoutModel",
            "_view_count": null,
            "_view_module": "@jupyter-widgets/base",
            "_view_module_version": "1.2.0",
            "_view_name": "LayoutView",
            "align_content": null,
            "align_items": null,
            "align_self": null,
            "border": null,
            "bottom": null,
            "display": null,
            "flex": null,
            "flex_flow": null,
            "grid_area": null,
            "grid_auto_columns": null,
            "grid_auto_flow": null,
            "grid_auto_rows": null,
            "grid_column": null,
            "grid_gap": null,
            "grid_row": null,
            "grid_template_areas": null,
            "grid_template_columns": null,
            "grid_template_rows": null,
            "height": null,
            "justify_content": null,
            "justify_items": null,
            "left": null,
            "margin": null,
            "max_height": null,
            "max_width": null,
            "min_height": null,
            "min_width": null,
            "object_fit": null,
            "object_position": null,
            "order": null,
            "overflow": null,
            "overflow_x": null,
            "overflow_y": null,
            "padding": null,
            "right": null,
            "top": null,
            "visibility": null,
            "width": null
          }
        },
        "d2dbc153ae314e669a87053af9c0eeae": {
          "model_module": "@jupyter-widgets/controls",
          "model_name": "DescriptionStyleModel",
          "model_module_version": "1.5.0",
          "state": {
            "_model_module": "@jupyter-widgets/controls",
            "_model_module_version": "1.5.0",
            "_model_name": "DescriptionStyleModel",
            "_view_count": null,
            "_view_module": "@jupyter-widgets/base",
            "_view_module_version": "1.2.0",
            "_view_name": "StyleView",
            "description_width": ""
          }
        }
      }
    }
  },
  "nbformat": 4,
  "nbformat_minor": 5
}