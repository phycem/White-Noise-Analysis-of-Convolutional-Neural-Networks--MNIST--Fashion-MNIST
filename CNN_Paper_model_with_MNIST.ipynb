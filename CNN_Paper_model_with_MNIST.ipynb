{
  "cells": [
    {
      "cell_type": "markdown",
      "source": [
        "How is MNIST only providing the training and the test sets? What about the validation?\n",
        "\n",
        "In order to perform cross-study comparison of model performance it makes a lot of sense to have a single test set for benchmarking. This way, different investigators can compare their respective models in an \"apples to apples\" manner. The test set is tested only once, as already mentioned, and is in a practical sense the final arbiter of model performance."
      ],
      "metadata": {
        "id": "s6OQUQbC3neR"
      },
      "id": "s6OQUQbC3neR"
    },
    {
      "cell_type": "code",
      "execution_count": null,
      "metadata": {
        "id": "b85ef51d"
      },
      "outputs": [],
      "source": [
        "import torch\n",
        "from torchvision import datasets, transforms\n",
        "import torch.nn.functional as F\n",
        "from torch.autograd import Variable\n",
        "import torch.optim as optim\n",
        "import numpy as np\n",
        "import random\n",
        "import matplotlib.pyplot as plt\n",
        "import math \n",
        "from tqdm import tqdm\n",
        "import sys\n",
        "from torchvision.datasets import MNIST\n",
        "from torch.utils.data import DataLoader\n",
        "from torch.utils.data import SubsetRandomSampler\n",
        "from PIL import Image\n",
        "from sklearn.metrics import classification_report, confusion_matrix\n",
        "import os\n",
        "from sklearn.metrics import accuracy_score"
      ],
      "id": "b85ef51d"
    },
    {
      "cell_type": "markdown",
      "source": [
        "##To get different random model weights"
      ],
      "metadata": {
        "id": "6GtXtBMUIW6Y"
      },
      "id": "6GtXtBMUIW6Y"
    },
    {
      "cell_type": "code",
      "execution_count": null,
      "metadata": {
        "id": "RlqaIVwpNhUe"
      },
      "outputs": [],
      "source": [
        "#https://wandb.ai/sauravmaheshkar/RSNA-MICCAI/reports/How-to-Set-Random-Seeds-in-PyTorch-and-Tensorflow--VmlldzoxMDA2MDQy\n",
        "def set_seed(seed: int = 42) -> None:\n",
        "    np.random.seed(seed)\n",
        "    random.seed(seed)\n",
        "    torch.manual_seed(seed)\n",
        "    torch.cuda.manual_seed(seed)\n",
        "    # When running on the CuDNN backend, two further options must be set\n",
        "    torch.backends.cudnn.deterministic = True\n",
        "    torch.backends.cudnn.benchmark = False\n",
        "    # Set a fixed value for the hash seed\n",
        "    os.environ[\"PYTHONHASHSEED\"] = str(seed)\n",
        "    print(f\"Random seed set as {seed}\")\n"
      ],
      "id": "RlqaIVwpNhUe"
    },
    {
      "cell_type": "code",
      "execution_count": null,
      "metadata": {
        "colab": {
          "base_uri": "https://localhost:8080/"
        },
        "id": "kQI0s3yTe4Qv",
        "outputId": "8628b38d-3959-4ad4-82cc-b5541cfc8450"
      },
      "outputs": [
        {
          "output_type": "stream",
          "name": "stdout",
          "text": [
            "Random seed set as 42\n"
          ]
        }
      ],
      "source": [
        "set_seed()"
      ],
      "id": "kQI0s3yTe4Qv"
    },
    {
      "cell_type": "code",
      "execution_count": null,
      "metadata": {
        "colab": {
          "base_uri": "https://localhost:8080/",
          "height": 746,
          "referenced_widgets": [
            "a24f508ab24e4b1991d7fce4834acae5",
            "897217f5456a4462a8a9d358bf70736c",
            "aaa90727081245b4bf3b19cb12d321a6",
            "1d2b6bc4b52a40b3b54a0dd9b543a093",
            "07d230e453c242c48da9d4e98b26dc02",
            "09a81b03f84347e8a883c176968797ec",
            "cf02856b0de54a70a98cf936ef224958",
            "b8a12f29b091485da5c142830687557a",
            "c9778cd0707a4840833509791373281c",
            "11fd0b4e220f41f19b7ef4932926d819",
            "f1aa44fecda2459cba9441c9b8091810",
            "55b5354bb9d849b3a3ed30112defedb6",
            "beb7eb1f320b47fca9d5b9f718f28cc2",
            "1e9554d581554cc4a72e908dd1b56a83",
            "5a0183151def44be8005d2ace1b0af50",
            "5eec072ad4694b93a09a42884237a4e2",
            "658f18f2d7c74f0c82486aec866d67f3",
            "d407b750903648aba821f174f210ce18",
            "f3f23fcd3f7d4afc9c6e98d70d41dec0",
            "914e56251850420eb9d174f032ec02e7",
            "00622a4831a24e859cc036de7087b4ad",
            "69dc6f85a04b498194e265fcb0a9f311",
            "c6a96244e11f4510af7c6b2735b9ee72",
            "c0af4cfa016147c18499f668162fa66c",
            "80ed951b01b64612b2a57e084daceb60",
            "dcae7b0176c14445913b6596463811fe",
            "59bf3aca40b543c997cbbc796e12d6de",
            "5ab00467eba44d52831c73f69a3b021c",
            "e18d61d85b6a4bb99d4b48ad0dffefca",
            "e15ff6f8ce684b53837b35663b22eab6",
            "78632d044e7e4ca3b54aeae20637da60",
            "da5a9bd7318e4d64b8599346839eb7ce",
            "bb815d1728bb449fb342cbbf5b617c08",
            "fa70fa40e25a4e11be1024a9737638fb",
            "804b665baddd423f958ecc3e42c76202",
            "659c31f24c5b4c728f2bdd0bf423263b",
            "85445d37c0564460ab43228a3a6b8570",
            "308490fac48146f2a714a3b50527c092",
            "b3003ff7ffb94cb4990a3b356643b5c3",
            "fc3efa6642724ca5bf69d2226d72cfb7",
            "62ecf4c1e177403e89bf2f27aa8ef3ed",
            "ea70e3879ad84c0d99e5fe02d8e1a2fa",
            "021e1d66467b46ff8b56789437b59c1d",
            "7debebcf06c84e6b88d51bfaa3b9f0ec"
          ]
        },
        "id": "8e96e614",
        "outputId": "35ae499b-1cee-491e-bbef-fcd604c7e438"
      },
      "outputs": [
        {
          "output_type": "stream",
          "name": "stdout",
          "text": [
            "Downloading http://yann.lecun.com/exdb/mnist/train-images-idx3-ubyte.gz\n",
            "Downloading http://yann.lecun.com/exdb/mnist/train-images-idx3-ubyte.gz to data/MNIST/raw/train-images-idx3-ubyte.gz\n"
          ]
        },
        {
          "output_type": "display_data",
          "data": {
            "text/plain": [
              "  0%|          | 0/9912422 [00:00<?, ?it/s]"
            ],
            "application/vnd.jupyter.widget-view+json": {
              "version_major": 2,
              "version_minor": 0,
              "model_id": "a24f508ab24e4b1991d7fce4834acae5"
            }
          },
          "metadata": {}
        },
        {
          "output_type": "stream",
          "name": "stdout",
          "text": [
            "Extracting data/MNIST/raw/train-images-idx3-ubyte.gz to data/MNIST/raw\n",
            "\n",
            "Downloading http://yann.lecun.com/exdb/mnist/train-labels-idx1-ubyte.gz\n",
            "Downloading http://yann.lecun.com/exdb/mnist/train-labels-idx1-ubyte.gz to data/MNIST/raw/train-labels-idx1-ubyte.gz\n"
          ]
        },
        {
          "output_type": "display_data",
          "data": {
            "text/plain": [
              "  0%|          | 0/28881 [00:00<?, ?it/s]"
            ],
            "application/vnd.jupyter.widget-view+json": {
              "version_major": 2,
              "version_minor": 0,
              "model_id": "55b5354bb9d849b3a3ed30112defedb6"
            }
          },
          "metadata": {}
        },
        {
          "output_type": "stream",
          "name": "stdout",
          "text": [
            "Extracting data/MNIST/raw/train-labels-idx1-ubyte.gz to data/MNIST/raw\n",
            "\n",
            "Downloading http://yann.lecun.com/exdb/mnist/t10k-images-idx3-ubyte.gz\n",
            "Downloading http://yann.lecun.com/exdb/mnist/t10k-images-idx3-ubyte.gz to data/MNIST/raw/t10k-images-idx3-ubyte.gz\n"
          ]
        },
        {
          "output_type": "display_data",
          "data": {
            "text/plain": [
              "  0%|          | 0/1648877 [00:00<?, ?it/s]"
            ],
            "application/vnd.jupyter.widget-view+json": {
              "version_major": 2,
              "version_minor": 0,
              "model_id": "c6a96244e11f4510af7c6b2735b9ee72"
            }
          },
          "metadata": {}
        },
        {
          "output_type": "stream",
          "name": "stdout",
          "text": [
            "Extracting data/MNIST/raw/t10k-images-idx3-ubyte.gz to data/MNIST/raw\n",
            "\n",
            "Downloading http://yann.lecun.com/exdb/mnist/t10k-labels-idx1-ubyte.gz\n",
            "Downloading http://yann.lecun.com/exdb/mnist/t10k-labels-idx1-ubyte.gz to data/MNIST/raw/t10k-labels-idx1-ubyte.gz\n"
          ]
        },
        {
          "output_type": "display_data",
          "data": {
            "text/plain": [
              "  0%|          | 0/4542 [00:00<?, ?it/s]"
            ],
            "application/vnd.jupyter.widget-view+json": {
              "version_major": 2,
              "version_minor": 0,
              "model_id": "fa70fa40e25a4e11be1024a9737638fb"
            }
          },
          "metadata": {}
        },
        {
          "output_type": "stream",
          "name": "stdout",
          "text": [
            "Extracting data/MNIST/raw/t10k-labels-idx1-ubyte.gz to data/MNIST/raw\n",
            "\n"
          ]
        },
        {
          "output_type": "display_data",
          "data": {
            "text/plain": [
              "<Figure size 864x432 with 10 Axes>"
            ],
            "image/png": "[encoded data removed]"
          },
          "metadata": {
            "needs_background": "light"
          }
        }
      ],
      "source": [
        "# Define the digits to print original images for\n",
        "digits = [0, 1, 2, 3, 4, 5, 6, 7, 8, 9]\n",
        "\n",
        "# Load MNIST dataset\n",
        "mnist_dataset = MNIST(root='data/', download=True)\n",
        "\n",
        "# Print original images for each digit\n",
        "fig, axs = plt.subplots(2, 5, figsize=(12, 6))\n",
        "for i, ax in enumerate(axs.flat):\n",
        "    digit_indices = np.where(np.array(mnist_dataset.targets) == digits[i])[0]\n",
        "    img = mnist_dataset.data[digit_indices[0]].numpy()\n",
        "    ax.imshow(img)\n",
        "    ax.set_title(f\"Digit {i}\")\n",
        "    ax.axis('off')\n",
        "plt.show()\n"
      ],
      "id": "8e96e614"
    },
    {
      "cell_type": "code",
      "source": [
        "all_noise_maps.shape"
      ],
      "metadata": {
        "colab": {
          "base_uri": "https://localhost:8080/"
        },
        "id": "l5uw2kOHUbAA",
        "outputId": "d2826965-261e-4a96-c1ef-cbfbdf6f45e9"
      },
      "id": "l5uw2kOHUbAA",
      "execution_count": null,
      "outputs": [
        {
          "output_type": "execute_result",
          "data": {
            "text/plain": [
              "(9786, 28, 28)"
            ]
          },
          "metadata": {},
          "execution_count": 35
        }
      ]
    },
    {
      "cell_type": "code",
      "source": [
        "mnist_dataset = MNIST(root='data/',train=False, download=True)\n",
        "mnist_dataset"
      ],
      "metadata": {
        "colab": {
          "base_uri": "https://localhost:8080/"
        },
        "id": "fO8stt-AlT_U",
        "outputId": "077473d3-f2d8-48dd-ba95-adfae259bc72"
      },
      "id": "fO8stt-AlT_U",
      "execution_count": null,
      "outputs": [
        {
          "output_type": "execute_result",
          "data": {
            "text/plain": [
              "Dataset MNIST\n",
              "    Number of datapoints: 10000\n",
              "    Root location: data/\n",
              "    Split: Test"
            ]
          },
          "metadata": {},
          "execution_count": 66
        }
      ]
    },
    {
      "cell_type": "markdown",
      "source": [
        "#Question 3A: Classification image for each digit by white noise equation. First define a function for all the noise images.Then do a loop over for all the images to average them."
      ],
      "metadata": {
        "id": "kjJ4MLhn_kBN"
      },
      "id": "kjJ4MLhn_kBN"
    },
    {
      "cell_type": "code",
      "source": [
        "# Define the gamma value\n",
        "gamma = 0.2\n",
        "\n",
        "# Define the number of samples and image shape\n",
        "n_samples = 500\n",
        "img_shape = (28, 28)\n",
        "\n",
        "# Define the digits to generate noise maps for\n",
        "digits = [0, 1, 2, 3, 4, 5, 6, 7, 8, 9]\n",
        "\n",
        "def generate_noise_maps_per_digit(digit, n_samples, gamma, img_shape=(28, 28)):\n",
        "    noise_maps = []\n",
        "    mnist_dataset = MNIST(root='data/',train=False, download=True)\n",
        "    digit_indices = np.where(np.array(mnist_dataset.targets) == digit)[0]\n",
        "    digit_indices = digit_indices[:n_samples]\n",
        "    for idx in digit_indices:\n",
        "        # Get original image\n",
        "        img = mnist_dataset.data[idx].numpy()\n",
        "        # Generate random noise\n",
        "        noise = np.random.randn(*img_shape)\n",
        "        # Combine noise with original image\n",
        "        noisy_img = gamma * noise + (1 - gamma) * img\n",
        "        noise_maps.append(noisy_img)\n",
        "    return np.array(noise_maps)\n",
        "\n",
        "# Generate noise maps for each digit and average them\n",
        "noise_maps=[]\n",
        "avgd_noise_maps = []\n",
        "for digit in digits:\n",
        "    digit_noise_maps = generate_noise_maps_per_digit(digit, n_samples, gamma, img_shape=(28,28))\n",
        "    avg_noise_map = np.mean(digit_noise_maps, axis=0)\n",
        "    avgd_noise_maps.append(avg_noise_map)\n",
        "    noise_maps.append(digit_noise_maps)\n",
        "\n",
        "all_noise_maps = np.concatenate(noise_maps)\n",
        "    \n",
        "\n",
        "# Plot the noise maps\n",
        "fig, axs = plt.subplots(2, 5, figsize=(12, 6))\n",
        "for i, ax in enumerate(axs.flat):\n",
        "    ax.imshow(avgd_noise_maps[i])\n",
        "    ax.set_title(f\"Class {i}\")\n",
        "    ax.axis('off')\n",
        "plt.show()\n"
      ],
      "metadata": {
        "colab": {
          "base_uri": "https://localhost:8080/",
          "height": 746,
          "referenced_widgets": [
            "931f02377be54d72aac2cd4fcc98fae7",
            "5ff0bae6acd04b3fbf7d455ca303c6de",
            "b8296d17ad334dc990117390b05988ef",
            "be5a16cfd7bd41fbab948fc04e948a99",
            "a1fcc70aba6b4e08a319222fc22f28f7",
            "016283aa784e4ae7af97b6724d7330fe",
            "ac8be1348b6e4b4ebe6f7dc3f1ca76db",
            "a9e54f9975804d9a807f05d450689a68",
            "50139d3749e34a259e26ff14ea82d7ac",
            "e1af9ad0f0324d00823b7ee7e143bcfb",
            "58c8f2a68aec4fa9a270e0df69e3f1c4",
            "22a534adeafc440da02d8702a07fd8e0",
            "452208130b0849e8bdff11d80debc9c3",
            "6d4467687e6347e5932eab1eafca7425",
            "89e14e9fea5648f783f689d8c467d5c7",
            "4248f29bd23c4eb9aba335ae806c479a",
            "10af5d81a6b94226adb677c1d248054b",
            "33c0051fbb204feabac82728a479a143",
            "289e61579ea542d399ecf66174109faf",
            "d9de2932adea47baa43bc557085e566f",
            "3923d0a417814d59a600b11666c7a881",
            "7e072843ef34451c83db9a20caf1aa6f",
            "50a5e1646e264a98be7b68757ab3643f",
            "089468ed38a644809646036cbdbdf9ef",
            "2730da1c67e249d28e5308c7cb8bd381",
            "054a55dacb714302ab1338c38fad33c7",
            "ac20379d62a44ea38d0c9ea6deb1fcea",
            "a89a3cc608c9489f838545bca42d9592",
            "c7b2551b4eca4f19b70f6998810dadd2",
            "fb64451853154c98b375a9ed485dfeed",
            "de39e7593623421985930ed7a2639008",
            "ca25c4d959c242cf81a42fb1fe4faba3",
            "d199d6b3061147fcb0b397515147894d",
            "952ef2d0a9b64cfaa093c1a78b44be91",
            "749194e42a0c4f148037ca521e3096c2",
            "2225ffcbef204f07b2a2bd9a2ddce99d",
            "0166b8eec5ac4459b02c193e5f21443b",
            "aad7e6d5c7b54b749b553d89a5e18f1c",
            "1d485cc51d5a4c409ca866def8ecf719",
            "292b11c01c1c4926b27c410959d850ae",
            "7fc66fff80854946ba18b94ebc21c58c",
            "0b71ea803c334379b80148495e0861c2",
            "f061fad1b48c42ccab0a8ce81e232f44",
            "90ddc49269d94f7b967eee795dcc7d43"
          ]
        },
        "id": "i9xZpPf0kDGU",
        "outputId": "ea3b4fb3-8c30-4f79-f4e4-ddfe1afd1887"
      },
      "execution_count": null,
      "outputs": [
        {
          "output_type": "stream",
          "name": "stdout",
          "text": [
            "Downloading http://yann.lecun.com/exdb/mnist/train-images-idx3-ubyte.gz\n",
            "Downloading http://yann.lecun.com/exdb/mnist/train-images-idx3-ubyte.gz to data/MNIST/raw/train-images-idx3-ubyte.gz\n"
          ]
        },
        {
          "output_type": "display_data",
          "data": {
            "text/plain": [
              "  0%|          | 0/9912422 [00:00<?, ?it/s]"
            ],
            "application/vnd.jupyter.widget-view+json": {
              "version_major": 2,
              "version_minor": 0,
              "model_id": "931f02377be54d72aac2cd4fcc98fae7"
            }
          },
          "metadata": {}
        },
        {
          "output_type": "stream",
          "name": "stdout",
          "text": [
            "Extracting data/MNIST/raw/train-images-idx3-ubyte.gz to data/MNIST/raw\n",
            "\n",
            "Downloading http://yann.lecun.com/exdb/mnist/train-labels-idx1-ubyte.gz\n",
            "Downloading http://yann.lecun.com/exdb/mnist/train-labels-idx1-ubyte.gz to data/MNIST/raw/train-labels-idx1-ubyte.gz\n"
          ]
        },
        {
          "output_type": "display_data",
          "data": {
            "text/plain": [
              "  0%|          | 0/28881 [00:00<?, ?it/s]"
            ],
            "application/vnd.jupyter.widget-view+json": {
              "version_major": 2,
              "version_minor": 0,
              "model_id": "22a534adeafc440da02d8702a07fd8e0"
            }
          },
          "metadata": {}
        },
        {
          "output_type": "stream",
          "name": "stdout",
          "text": [
            "Extracting data/MNIST/raw/train-labels-idx1-ubyte.gz to data/MNIST/raw\n",
            "\n",
            "Downloading http://yann.lecun.com/exdb/mnist/t10k-images-idx3-ubyte.gz\n",
            "Downloading http://yann.lecun.com/exdb/mnist/t10k-images-idx3-ubyte.gz to data/MNIST/raw/t10k-images-idx3-ubyte.gz\n"
          ]
        },
        {
          "output_type": "display_data",
          "data": {
            "text/plain": [
              "  0%|          | 0/1648877 [00:00<?, ?it/s]"
            ],
            "application/vnd.jupyter.widget-view+json": {
              "version_major": 2,
              "version_minor": 0,
              "model_id": "50a5e1646e264a98be7b68757ab3643f"
            }
          },
          "metadata": {}
        },
        {
          "output_type": "stream",
          "name": "stdout",
          "text": [
            "Extracting data/MNIST/raw/t10k-images-idx3-ubyte.gz to data/MNIST/raw\n",
            "\n",
            "Downloading http://yann.lecun.com/exdb/mnist/t10k-labels-idx1-ubyte.gz\n",
            "Downloading http://yann.lecun.com/exdb/mnist/t10k-labels-idx1-ubyte.gz to data/MNIST/raw/t10k-labels-idx1-ubyte.gz\n"
          ]
        },
        {
          "output_type": "display_data",
          "data": {
            "text/plain": [
              "  0%|          | 0/4542 [00:00<?, ?it/s]"
            ],
            "application/vnd.jupyter.widget-view+json": {
              "version_major": 2,
              "version_minor": 0,
              "model_id": "952ef2d0a9b64cfaa093c1a78b44be91"
            }
          },
          "metadata": {}
        },
        {
          "output_type": "stream",
          "name": "stdout",
          "text": [
            "Extracting data/MNIST/raw/t10k-labels-idx1-ubyte.gz to data/MNIST/raw\n",
            "\n"
          ]
        },
        {
          "output_type": "display_data",
          "data": {
            "text/plain": [
              "<Figure size 864x432 with 10 Axes>"
            ],
            "image/png": "[encoded data removed]"
          },
          "metadata": {
            "needs_background": "light"
          }
        }
      ],
      "id": "i9xZpPf0kDGU"
    },
    {
      "cell_type": "code",
      "source": [
        "all_noise_maps.shape"
      ],
      "metadata": {
        "colab": {
          "base_uri": "https://localhost:8080/"
        },
        "id": "NtSKDjJ_PhCz",
        "outputId": "5e08680a-5572-4bf2-a013-ec2e283c13ed"
      },
      "id": "NtSKDjJ_PhCz",
      "execution_count": null,
      "outputs": [
        {
          "output_type": "execute_result",
          "data": {
            "text/plain": [
              "(9786, 28, 28)"
            ]
          },
          "metadata": {},
          "execution_count": 19
        }
      ]
    },
    {
      "cell_type": "markdown",
      "source": [
        "#This is the noise at the background without MNIST digits. "
      ],
      "metadata": {
        "id": "aAzTzQhfBC0J"
      },
      "id": "aAzTzQhfBC0J"
    },
    {
      "cell_type": "code",
      "execution_count": null,
      "metadata": {
        "colab": {
          "base_uri": "https://localhost:8080/",
          "height": 1000
        },
        "id": "4cda6b90",
        "outputId": "10a2d7cb-dc36-42a7-e8d8-7e4f32a34193"
      },
      "outputs": [
        {
          "output_type": "display_data",
          "data": {
            "text/plain": [
              "<Figure size 432x288 with 1 Axes>"
            ],
            "image/png": "[encoded data removed]"
          },
          "metadata": {
            "needs_background": "light"
          }
        },
        {
          "output_type": "display_data",
          "data": {
            "text/plain": [
              "<Figure size 432x288 with 1 Axes>"
            ],
            "image/png": "[encoded data removed]"
          },
          "metadata": {
            "needs_background": "light"
          }
        },
        {
          "output_type": "display_data",
          "data": {
            "text/plain": [
              "<Figure size 432x288 with 1 Axes>"
            ],
            "image/png": "[encoded data removed]"
          },
          "metadata": {
            "needs_background": "light"
          }
        },
        {
          "output_type": "display_data",
          "data": {
            "text/plain": [
              "<Figure size 432x288 with 1 Axes>"
            ],
            "image/png": "[encoded data removed]"
          },
          "metadata": {
            "needs_background": "light"
          }
        },
        {
          "output_type": "display_data",
          "data": {
            "text/plain": [
              "<Figure size 432x288 with 1 Axes>"
            ],
            "image/png": "[encoded data removed]"
          },
          "metadata": {
            "needs_background": "light"
          }
        },
        {
          "output_type": "display_data",
          "data": {
            "text/plain": [
              "<Figure size 432x288 with 1 Axes>"
            ],
            "image/png": "[encoded data removed]"
          },
          "metadata": {
            "needs_background": "light"
          }
        },
        {
          "output_type": "display_data",
          "data": {
            "text/plain": [
              "<Figure size 432x288 with 1 Axes>"
            ],
            "image/png": "[encoded data removed]"
          },
          "metadata": {
            "needs_background": "light"
          }
        },
        {
          "output_type": "display_data",
          "data": {
            "text/plain": [
              "<Figure size 432x288 with 1 Axes>"
            ],
            "image/png": "[encoded data removed]"
          },
          "metadata": {
            "needs_background": "light"
          }
        },
        {
          "output_type": "display_data",
          "data": {
            "text/plain": [
              "<Figure size 432x288 with 1 Axes>"
            ],
            "image/png": "[encoded data removed]"
          },
          "metadata": {
            "needs_background": "light"
          }
        },
        {
          "output_type": "display_data",
          "data": {
            "text/plain": [
              "<Figure size 432x288 with 1 Axes>"
            ],
            "image/png": "[encoded data removed]"
          },
          "metadata": {
            "needs_background": "light"
          }
        }
      ],
      "source": [
        "def generate_noise_maps(n_samples, gamma, img_shape=(28, 28)):\n",
        "    background_noise_maps = []\n",
        "    for _ in range(n_samples):\n",
        "        # Generate random noise\n",
        "        noise = np.random.randn(*img_shape)\n",
        "        # Combine noise with original image\n",
        "        noisy_img = gamma * noise + (1 - gamma) * np.ones(img_shape)\n",
        "        background_noise_maps.append(noisy_img)\n",
        "    return np.array(background_noise_maps)\n",
        "\n",
        "# assuming `noisy_images` is a list of numpy arrays with shape (28, 28)\n",
        "for i in range(len(generate_noise_maps(10,0.4, img_shape=(28, 28)))):\n",
        "    fig, ax = plt.subplots()\n",
        "    ax.imshow(generate_noise_maps(10,0.1, img_shape=(28, 28))[i])\n",
        "    ax.axis('off')\n",
        "    plt.show()\n",
        "\n"
      ],
      "id": "4cda6b90"
    },
    {
      "cell_type": "markdown",
      "source": [
        "#Train the model and test on MNIST test dataset "
      ],
      "metadata": {
        "id": "dXUKoPVGBnA3"
      },
      "id": "dXUKoPVGBnA3"
    },
    {
      "cell_type": "code",
      "execution_count": null,
      "metadata": {
        "colab": {
          "base_uri": "https://localhost:8080/"
        },
        "id": "oOBV6OUZAtCC",
        "outputId": "4bce5d6d-86a9-415c-e8ff-2a9fecda2104"
      },
      "outputs": [
        {
          "output_type": "stream",
          "name": "stdout",
          "text": [
            "Epoch 1/20, loss: 0.0028, accuracy: 0.9868\n",
            "Best model saved!\n",
            "Epoch 2/20, loss: 0.0800, accuracy: 0.9883\n",
            "Best model saved!\n",
            "Epoch 3/20, loss: 0.1814, accuracy: 0.9902\n",
            "Best model saved!\n",
            "Epoch 4/20, loss: 0.0392, accuracy: 0.9921\n",
            "Best model saved!\n",
            "Epoch 5/20, loss: 0.0009, accuracy: 0.9918\n",
            "Epoch 6/20, loss: 0.0007, accuracy: 0.9903\n",
            "Epoch 7/20, loss: 0.0001, accuracy: 0.9923\n",
            "Best model saved!\n",
            "Epoch 8/20, loss: 0.0000, accuracy: 0.9914\n",
            "Epoch 9/20, loss: 0.0018, accuracy: 0.9928\n",
            "Best model saved!\n",
            "Epoch 10/20, loss: 0.0002, accuracy: 0.9917\n",
            "Epoch 11/20, loss: 0.0000, accuracy: 0.9940\n",
            "Best model saved!\n",
            "Epoch 12/20, loss: 0.0000, accuracy: 0.9914\n",
            "Epoch 13/20, loss: 0.0001, accuracy: 0.9921\n",
            "Epoch 14/20, loss: 0.0008, accuracy: 0.9927\n",
            "Epoch 15/20, loss: 0.0000, accuracy: 0.9923\n",
            "Epoch 16/20, loss: 0.0000, accuracy: 0.9944\n",
            "Best model saved!\n",
            "Epoch 17/20, loss: 0.0000, accuracy: 0.9919\n",
            "Epoch 18/20, loss: 0.0000, accuracy: 0.9926\n",
            "Epoch 19/20, loss: 0.0000, accuracy: 0.9914\n",
            "Epoch 20/20, loss: 0.0000, accuracy: 0.9934\n"
          ]
        }
      ],
      "source": [
        "# Set device to CPU\n",
        "device = torch.device('cpu')\n",
        "\n",
        "# Define transformations for the data\n",
        "transform = transforms.Compose([\n",
        "    transforms.Grayscale(),\n",
        "    transforms.ToTensor(),\n",
        "    transforms.Normalize((0.1307,), (0.3081,))\n",
        "])\n",
        "\n",
        "# Load the training and test datasets\n",
        "train_dataset = datasets.MNIST('data/', train=True, download=True, transform=transform)\n",
        "test_dataset = datasets.MNIST('data/', train=False, download=True, transform=transform)\n",
        "\n",
        "# Create data loaders for the datasets\n",
        "train_loader = torch.utils.data.DataLoader(train_dataset, batch_size=64, shuffle=True)\n",
        "test_loader = torch.utils.data.DataLoader(test_dataset, batch_size=64, shuffle=False)\n",
        "\n",
        "# Move data and model to device (CUDA or CPU)\n",
        "train_loader = train_loader\n",
        "\n",
        "# set random seed\n",
        "#torch.manual_seed(123)\n",
        "\n",
        "# define the model architecture\n",
        "class Model(torch.nn.Module):\n",
        "    def __init__(self):\n",
        "        super(Model, self).__init__()\n",
        "        self.conv1 = torch.nn.Conv2d(1, 20, kernel_size=5)\n",
        "        self.conv2 = torch.nn.Conv2d(20, 50, kernel_size=5)\n",
        "        self.fc1 = torch.nn.Linear(4*4*50, 500)\n",
        "        self.fc2 = torch.nn.Linear(500, 10)\n",
        "\n",
        "    def forward(self, x):\n",
        "        x = F.relu(F.max_pool2d(self.conv1(x), 2))\n",
        "        x = F.relu(F.max_pool2d(self.conv2(x), 2))\n",
        "        x = x.view(-1, 4*4*50)\n",
        "        x = F.relu(self.fc1(x))\n",
        "        x = self.fc2(x)\n",
        "        x = F.log_softmax(x, dim=1)\n",
        "        return x\n",
        "    \n",
        "    \n",
        "model = Model()\n",
        "    \n",
        "# define the optimizer\n",
        "optimizer = optim.Adam(model.parameters(), lr=1e-3) \n",
        "\n",
        "# define the loss function\n",
        "loss_fn = torch.nn.CrossEntropyLoss()\n",
        "\n",
        "# set the number of epochs\n",
        "EPOCHS = 20\n",
        "\n",
        "# create empty list to store the losses for each batch\n",
        "losses = []\n",
        "\n",
        "# initialize best accuracy to zero\n",
        "best_accuracy = 0\n",
        "\n",
        "# train the model\n",
        "for epoch in range(EPOCHS):\n",
        "    # set the model to train mode\n",
        "    model.train()\n",
        "\n",
        "    # loop over the batches in the training set\n",
        "    for batch_idx, (data, target) in enumerate(train_loader):\n",
        "        data, target = data.cpu(), target.cpu()\n",
        "        # move the data to the device\n",
        "        #data, target = data.to(device), target.to(device)\n",
        "\n",
        "        # zero out the gradients\n",
        "        optimizer.zero_grad()\n",
        "\n",
        "        # forward pass\n",
        "        y_pred = model(data)\n",
        "\n",
        "        # calculate the loss\n",
        "        loss = loss_fn(y_pred, target)\n",
        "\n",
        "        # backward pass\n",
        "        loss.backward()\n",
        "\n",
        "        # update the weights\n",
        "        optimizer.step()\n",
        "\n",
        "        # save the loss for this batch\n",
        "        losses.append(loss.item())\n",
        "\n",
        "    # evaluate the model on the test set\n",
        "    model.eval()\n",
        "\n",
        "    # create empty list to store the predictions\n",
        "    predictions = []\n",
        "\n",
        "    # loop over the batches in the test set\n",
        "    for data, target in test_loader:\n",
        "        # move the data to the device\n",
        "        data = data.cpu()\n",
        "        target = target.cpu()\n",
        "\n",
        "        # forward pass\n",
        "        #output = model([:,None,...])[0]\n",
        "        #output = model(data.unsqueeze(1))[0]\n",
        "        output = model(data)\n",
        "\n",
        "\n",
        "        # get the predicted class\n",
        "        #pred = output.argmax(dim=1, keepdim=True)\n",
        "        \n",
        "        pred = output.data.max(1)[1]\n",
        "        d = pred.eq(target.data).cpu()\n",
        "        accuracy = d.sum().type(dtype=torch.float64)/d.size()[0]\n",
        "\n",
        "        # save the predictions\n",
        "        predictions.append(pred.cpu().numpy())\n",
        "\n",
        "    # concatenate the predictions into a single array\n",
        "    predictions = np.concatenate(predictions)\n",
        "\n",
        "    # calculate the accuracy\n",
        "    test_targets = test_loader.dataset.targets.numpy()\n",
        "    accuracy = np.mean(predictions == test_targets)\n",
        "\n",
        "    # print the loss and accuracy for this epoch\n",
        "    print(f\"Epoch {epoch+1}/{EPOCHS}, loss: {losses[-1]:.4f}, accuracy: {accuracy:.4f}\")\n",
        "\n",
        "    # save the model if it has the best accuracy so far\n",
        "    if accuracy > best_accuracy:\n",
        "        best_accuracy = accuracy\n",
        "        torch.save(model.state_dict(), \"best_model.pt\")\n",
        "        print(\"Best model saved!\")\n",
        "\n"
      ],
      "id": "oOBV6OUZAtCC"
    },
    {
      "cell_type": "markdown",
      "source": [
        "#3B Feed the average noise map back in to the CNN and report which class they are classified as"
      ],
      "metadata": {
        "id": "HNrhTEYxCiWa"
      },
      "id": "HNrhTEYxCiWa"
    },
    {
      "cell_type": "code",
      "source": [
        "# predict on averaged image\n",
        "# Define the number of samples and image shape\n",
        "n_samples = 500\n",
        "img_shape = (28, 28)\n",
        "\n",
        "# Define the digits to generate noise maps for\n",
        "digits = [0, 1, 2, 3, 4, 5, 6, 7, 8, 9]\n",
        "\n",
        "# Define the threshold for predictions\n",
        "threshold = 0.7\n",
        "\n",
        "for digit in digits:\n",
        "    test_tensor = torch.from_numpy((avgd_noise_maps[digit])[None,...]).type(torch.FloatTensor)\n",
        "    output = model(test_tensor)\n",
        "    \n",
        "    # Get the predicted class and corresponding probability\n",
        "    probs = torch.softmax(output, dim=1)\n",
        "    max_prob, pred_class = torch.max(probs, dim=1)\n",
        "    \n",
        "    # Filter out predictions with low confidence\n",
        "    if max_prob >= threshold:\n",
        "        # Convert the noise map to an image\n",
        "        noise_map =avgd_noise_maps[digit]\n",
        "        img = (noise_map * 255)\n",
        "    \n",
        "        # Display the image with the predicted and actual class labels\n",
        "        plt.imshow(img)\n",
        "        plt.title(f\"Predicted: {pred_class.item()}, Actual: {digit}\")\n",
        "        plt.show()"
      ],
      "metadata": {
        "colab": {
          "base_uri": "https://localhost:8080/",
          "height": 1000
        },
        "id": "qCOTBtrrLtaO",
        "outputId": "2e133ae8-2400-4e0e-fe5a-0e9d9f6ffcc1"
      },
      "id": "qCOTBtrrLtaO",
      "execution_count": null,
      "outputs": [
        {
          "output_type": "display_data",
          "data": {
            "text/plain": [
              "<Figure size 432x288 with 1 Axes>"
            ],
            "image/png": "[encoded data removed]"
          },
          "metadata": {
            "needs_background": "light"
          }
        },
        {
          "output_type": "display_data",
          "data": {
            "text/plain": [
              "<Figure size 432x288 with 1 Axes>"
            ],
            "image/png": "[encoded data removed]"
          },
          "metadata": {
            "needs_background": "light"
          }
        },
        {
          "output_type": "display_data",
          "data": {
            "text/plain": [
              "<Figure size 432x288 with 1 Axes>"
            ],
            "image/png": "[encoded data removed]"
          },
          "metadata": {
            "needs_background": "light"
          }
        },
        {
          "output_type": "display_data",
          "data": {
            "text/plain": [
              "<Figure size 432x288 with 1 Axes>"
            ],
            "image/png": "[encoded data removed]"
          },
          "metadata": {
            "needs_background": "light"
          }
        },
        {
          "output_type": "display_data",
          "data": {
            "text/plain": [
              "<Figure size 432x288 with 1 Axes>"
            ],
            "image/png": "[encoded data removed]"
          },
          "metadata": {
            "needs_background": "light"
          }
        },
        {
          "output_type": "display_data",
          "data": {
            "text/plain": [
              "<Figure size 432x288 with 1 Axes>"
            ],
            "image/png": "[encoded data removed]"
          },
          "metadata": {
            "needs_background": "light"
          }
        },
        {
          "output_type": "display_data",
          "data": {
            "text/plain": [
              "<Figure size 432x288 with 1 Axes>"
            ],
            "image/png": "[encoded data removed]"
          },
          "metadata": {
            "needs_background": "light"
          }
        },
        {
          "output_type": "display_data",
          "data": {
            "text/plain": [
              "<Figure size 432x288 with 1 Axes>"
            ],
            "image/png": "[encoded data removed]"
          },
          "metadata": {
            "needs_background": "light"
          }
        },
        {
          "output_type": "display_data",
          "data": {
            "text/plain": [
              "<Figure size 432x288 with 1 Axes>"
            ],
            "image/png": "[encoded data removed]"
          },
          "metadata": {
            "needs_background": "light"
          }
        },
        {
          "output_type": "display_data",
          "data": {
            "text/plain": [
              "<Figure size 432x288 with 1 Axes>"
            ],
            "image/png": "[encoded data removed]"
          },
          "metadata": {
            "needs_background": "light"
          }
        }
      ]
    },
    {
      "cell_type": "markdown",
      "source": [
        "#3C  Note: Below is the confusion matrix for whole **MNIST dataset** as a test data"
      ],
      "metadata": {
        "id": "QGqkfQst4A9U"
      },
      "id": "QGqkfQst4A9U"
    },
    {
      "cell_type": "code",
      "execution_count": null,
      "metadata": {
        "colab": {
          "base_uri": "https://localhost:8080/",
          "height": 279
        },
        "id": "1zqShV3mkGUl",
        "outputId": "6cdbd9b0-ece9-4c8b-def1-1cef5ef05221"
      },
      "outputs": [
        {
          "output_type": "display_data",
          "data": {
            "text/plain": [
              "<Figure size 432x288 with 2 Axes>"
            ],
            "image/png": "[encoded data removed]"
          },
          "metadata": {
            "needs_background": "light"
          }
        }
      ],
      "source": [
        "# Define the transform to normalize the data\n",
        "transform = transforms.Compose([transforms.ToTensor(),\n",
        "                                transforms.Normalize((0.5,), (0.5,))])\n",
        "\n",
        "# Load the test dataset\n",
        "test_dataset = datasets.MNIST('data/', train=False, download=True, transform=transform)\n",
        "\n",
        "# Create data loader for the test dataset\n",
        "test_loader = torch.utils.data.DataLoader(test_dataset, batch_size=64, shuffle=False)\n",
        "\n",
        "\n",
        "# Set the model to evaluation mode\n",
        "model.eval()\n",
        "\n",
        "# Get the true labels and predicted labels for the test set\n",
        "true_labels = []\n",
        "predicted_labels = []\n",
        "\n",
        "with torch.no_grad():\n",
        "    for images, labels in test_loader:\n",
        "        outputs = model(images)\n",
        "        _, predicted = torch.max(outputs.data, 1)\n",
        "        true_labels += labels.numpy().tolist()\n",
        "        predicted_labels += predicted.numpy().tolist()\n",
        "\n",
        "# Generate the confusion matrix\n",
        "cm = confusion_matrix(true_labels, predicted_labels, normalize='true')\n",
        "\n",
        "# Plot the confusion matrix\n",
        "plt.imshow(cm, cmap='Blues')\n",
        "plt.colorbar()\n",
        "\n",
        "# Add labels to the plot\n",
        "classes = [str(i) for i in range(10)]\n",
        "tick_marks = np.arange(len(classes))\n",
        "plt.xticks(tick_marks, classes)\n",
        "plt.yticks(tick_marks, classes)\n",
        "plt.xlabel('Predicted Labels')\n",
        "plt.ylabel('True Labels')\n",
        "\n",
        "# Add values to the plot\n",
        "thresh = cm.max() / 2.\n",
        "for i in range(cm.shape[0]):\n",
        "    for j in range(cm.shape[1]):\n",
        "        plt.text(j, i, format(cm[i, j], '.2f'),\n",
        "                 ha=\"center\", va=\"center\",\n",
        "                 color=\"white\" if cm[i, j] > thresh else \"black\")\n",
        "\n",
        "# Show the plot\n",
        "plt.show()\n"
      ],
      "id": "1zqShV3mkGUl"
    },
    {
      "cell_type": "code",
      "execution_count": null,
      "metadata": {
        "colab": {
          "base_uri": "https://localhost:8080/"
        },
        "id": "05JTqiLLuwmy",
        "outputId": "7d303ca2-7f6c-4670-88f7-54dfd9d845e6"
      },
      "outputs": [
        {
          "output_type": "stream",
          "name": "stdout",
          "text": [
            "              precision    recall  f1-score   support\n",
            "\n",
            "           0       0.96      0.90      0.93       980\n",
            "           1       0.92      0.98      0.95      1135\n",
            "           2       0.95      0.89      0.92      1032\n",
            "           3       0.84      0.97      0.90      1010\n",
            "           4       0.93      0.91      0.92       982\n",
            "           5       0.90      0.95      0.92       892\n",
            "           6       0.99      0.90      0.94       958\n",
            "           7       0.78      0.92      0.85      1028\n",
            "           8       0.92      0.83      0.87       974\n",
            "           9       0.88      0.77      0.82      1009\n",
            "\n",
            "    accuracy                           0.90     10000\n",
            "   macro avg       0.91      0.90      0.90     10000\n",
            "weighted avg       0.91      0.90      0.90     10000\n",
            "\n"
          ]
        }
      ],
      "source": [
        "# assuming you have y_true and y_pred from your model\n",
        "report = classification_report(true_labels, predicted_labels)\n",
        "\n",
        "print(report)"
      ],
      "id": "05JTqiLLuwmy"
    },
    {
      "cell_type": "markdown",
      "source": [
        "#3C Using all the noise maps as a classifier and report the accuracy scores across all classes with confusion matrices. "
      ],
      "metadata": {
        "id": "atA2LaEMC4Y0"
      },
      "id": "atA2LaEMC4Y0"
    },
    {
      "cell_type": "code",
      "source": [
        "# Define the threshold for predictions\n",
        "threshold = 0.6\n",
        "\n",
        "# Set the model to evaluation mode\n",
        "model.eval()\n",
        "\n",
        "# Get the true labels and predicted labels for the noise maps\n",
        "true_labels = []\n",
        "predicted_labels = []\n",
        "\n",
        "with torch.no_grad():\n",
        "    for i in range(all_noise_maps.shape[0]):\n",
        "        test_tensor = torch.from_numpy(all_noise_maps[i][None,...]).type(torch.FloatTensor)\n",
        "        outputs = model(test_tensor)\n",
        "        prob = torch.softmax(outputs, dim=1)\n",
        "        max_prob, predicted_label = torch.max(prob.data, 1)\n",
        "        if max_prob > threshold:\n",
        "            true_label = i // n_samples  # Get the true label from the digit index\n",
        "            true_labels.append(true_label)\n",
        "            predicted_labels.append(predicted_label.item())\n",
        "\n",
        "# Calculate the accuracy score\n",
        "accuracy = accuracy_score(true_labels, predicted_labels)\n",
        "print('Accuracy:', accuracy)\n",
        "\n",
        "# Generate the confusion matrix\n",
        "cm = confusion_matrix(true_labels, predicted_labels, normalize='true')\n",
        "\n",
        "# Plot the confusion matrix\n",
        "plt.imshow(cm, cmap='Blues')\n",
        "plt.colorbar()\n",
        "\n",
        "# Add labels to the plot\n",
        "classes = [str(i) for i in range(10)]\n",
        "tick_marks = np.arange(len(classes))\n",
        "plt.xticks(tick_marks, classes)\n",
        "plt.yticks(tick_marks, classes)\n",
        "plt.xlabel('Predicted Labels')\n",
        "plt.ylabel('True Labels')\n",
        "\n",
        "# Add values to the plot\n",
        "thresh = cm.max() / 2.\n",
        "for i in range(cm.shape[0]):\n",
        "    for j in range(cm.shape[1]):\n",
        "        plt.text(j, i, format(cm[i, j], '.2f'),\n",
        "                 ha=\"center\", va=\"center\",\n",
        "                 color=\"white\" if cm[i, j] > thresh else \"black\")\n",
        "\n",
        "# Show the plot\n",
        "plt.show()\n"
      ],
      "metadata": {
        "colab": {
          "base_uri": "https://localhost:8080/",
          "height": 296
        },
        "id": "TU41aD-MXxNS",
        "outputId": "8dabb22a-b487-474b-9260-de824c968283"
      },
      "id": "TU41aD-MXxNS",
      "execution_count": null,
      "outputs": [
        {
          "output_type": "stream",
          "name": "stdout",
          "text": [
            "Accuracy: 0.9040465971796444\n"
          ]
        },
        {
          "output_type": "display_data",
          "data": {
            "text/plain": [
              "<Figure size 432x288 with 2 Axes>"
            ],
            "image/png": "[encoded data removed]"
          },
          "metadata": {
            "needs_background": "light"
          }
        }
      ]
    },
    {
      "cell_type": "code",
      "execution_count": null,
      "metadata": {
        "colab": {
          "base_uri": "https://localhost:8080/"
        },
        "id": "HKHK9dPbWELl",
        "outputId": "583bce42-56dc-4d09-9317-d24d8e6f4a53"
      },
      "outputs": [
        {
          "output_type": "stream",
          "name": "stdout",
          "text": [
            "              precision    recall  f1-score   support\n",
            "\n",
            "           0       1.00      0.97      0.98      1000\n",
            "           1       0.98      0.96      0.97      1000\n",
            "           2       0.97      0.97      0.97      1000\n",
            "           3       0.97      0.97      0.97      1000\n",
            "           4       0.96      0.96      0.96      1000\n",
            "           5       0.95      0.84      0.89      1000\n",
            "           6       0.84      0.80      0.82      1000\n",
            "           7       0.80      0.80      0.80      1000\n",
            "           8       0.79      0.79      0.79      1000\n",
            "           9       0.78      0.99      0.87       786\n",
            "\n",
            "    accuracy                           0.90      9786\n",
            "   macro avg       0.90      0.91      0.90      9786\n",
            "weighted avg       0.91      0.90      0.90      9786\n",
            "\n"
          ]
        }
      ],
      "source": [
        "# assuming you have y_true and y_pred from your model\n",
        "report = classification_report(true_labels, predicted_labels)\n",
        "\n",
        "print(report)"
      ],
      "id": "HKHK9dPbWELl"
    },
    {
      "cell_type": "markdown",
      "source": [
        "#EXTRA MATERIAL FROM THE ARTICLE GITHUB"
      ],
      "metadata": {
        "id": "hMKAogbK_UPk"
      },
      "id": "hMKAogbK_UPk"
    },
    {
      "cell_type": "code",
      "execution_count": null,
      "metadata": {
        "colab": {
          "base_uri": "https://localhost:8080/",
          "height": 265
        },
        "id": "a51d9061",
        "outputId": "b4360f04-ad9c-4d91-e1e0-1a03431c0e08"
      },
      "outputs": [
        {
          "output_type": "stream",
          "name": "stdout",
          "text": [
            "torch.Size([20, 1, 5, 5])\n"
          ]
        },
        {
          "output_type": "display_data",
          "data": {
            "text/plain": [
              "<Figure size 432x288 with 20 Axes>"
            ],
            "image/png": "[encoded data removed]"
          },
          "metadata": {
            "needs_background": "light"
          }
        }
      ],
      "source": [
        "# plot conv1 wights\n",
        "w_ = model.state_dict()['conv1.weight']\n",
        "print(w_.shape)\n",
        "for i in range(w_.shape[0]):\n",
        "    plt.subplot(4, 5, i+1)\n",
        "    plt.axis('off')\n",
        "    to_show = w_[i][0].cpu().numpy()\n",
        "    plt.imshow((to_show - to_show.min())/(to_show.max() - to_show.min()))\n",
        "plt.show()"
      ],
      "id": "a51d9061"
    },
    {
      "cell_type": "code",
      "execution_count": null,
      "metadata": {
        "colab": {
          "base_uri": "https://localhost:8080/"
        },
        "id": "9d466243",
        "outputId": "52d2c2e9-49b4-484d-84ad-261a26300b39"
      },
      "outputs": [
        {
          "output_type": "stream",
          "name": "stdout",
          "text": [
            "-------Net summary------\n",
            "input image:\n",
            "\t n features: 28 \n",
            " \t jump: 1 \n",
            " \t receptive size: 1 \t start: 0.5 \n",
            "conv1:\n",
            "\t n features: 24 \n",
            " \t jump: 1 \n",
            " \t receptive size: 5 \t start: 2.5 \n",
            "pool1:\n",
            "\t n features: 12 \n",
            " \t jump: 2 \n",
            " \t receptive size: 6 \t start: 3.0 \n",
            "conv2:\n",
            "\t n features: 8 \n",
            " \t jump: 2 \n",
            " \t receptive size: 14 \t start: 7.0 \n",
            "pool2:\n",
            "\t n features: 4 \n",
            " \t jump: 4 \n",
            " \t receptive size: 16 \t start: 8.0 \n",
            "------------------------\n"
          ]
        }
      ],
      "source": [
        "# [filter size, stride, padding]\n",
        "convnet =   [[5,1,0], [2,2,0], [5,1,0], [2,2,0]]\n",
        "layer_names = ['conv1','pool1','conv2','pool2']\n",
        "imsize = 28\n",
        "\n",
        "def outFromIn(conv, layerIn):\n",
        "    n_in = layerIn[0]\n",
        "    j_in = layerIn[1]\n",
        "    r_in = layerIn[2]\n",
        "    start_in = layerIn[3]\n",
        "    \n",
        "    k = conv[0]\n",
        "    s = conv[1]\n",
        "    p = conv[2]\n",
        "    \n",
        "    n_out = (n_in - k + 2*p)//s + 1\n",
        "    actualP = (n_out-1)*s - n_in + k\n",
        "    pR = math.ceil(actualP/2)\n",
        "    pL = math.floor(actualP/2)\n",
        "    \n",
        "    j_out = j_in * s\n",
        "    r_out = r_in + (k - 1)*j_in\n",
        "    start_out = start_in + ((k-1)/2 - pL)*j_in\n",
        "    return n_out, j_out, r_out, start_out\n",
        "  \n",
        "def printLayer(layer, layer_name):\n",
        "    print(layer_name + \":\")\n",
        "    print(\"\\t n features: %s \\n \\t jump: %s \\n \\t receptive size: %s \\t start: %s \" % (\n",
        "        layer[0], layer[1], layer[2], layer[3]))\n",
        "    \n",
        "layerInfos = []\n",
        "#first layer is the data layer (image) with n_0 = image size; j_0 = 1; r_0 = 1; and start_0 = 0.5\n",
        "print (\"-------Net summary------\")\n",
        "currentLayer = [imsize, 1, 1, 0.5]\n",
        "printLayer(currentLayer, \"input image\")\n",
        "for i in range(len(convnet)):\n",
        "    currentLayer = outFromIn(convnet[i], currentLayer)\n",
        "    layerInfos.append(currentLayer)\n",
        "    printLayer(currentLayer, layer_names[i])\n",
        "print (\"------------------------\")"
      ],
      "id": "9d466243"
    },
    {
      "cell_type": "code",
      "execution_count": null,
      "metadata": {
        "colab": {
          "base_uri": "https://localhost:8080/"
        },
        "id": "5a77d5bd",
        "outputId": "587faa01-ecd0-4f6f-ae60-c1597a76e271"
      },
      "outputs": [
        {
          "output_type": "stream",
          "name": "stdout",
          "text": [
            "(0,0): 0, 14, 0, 14\n",
            "(0,1): 0, 14, 2, 16\n",
            "(0,2): 0, 14, 4, 18\n",
            "(0,3): 0, 14, 6, 20\n",
            "(0,4): 0, 14, 8, 22\n",
            "(0,5): 0, 14, 10, 24\n",
            "(0,6): 0, 14, 12, 26\n",
            "(0,7): 0, 14, 14, 28\n",
            "(1,0): 2, 16, 0, 14\n",
            "(1,1): 2, 16, 2, 16\n",
            "(1,2): 2, 16, 4, 18\n",
            "(1,3): 2, 16, 6, 20\n",
            "(1,4): 2, 16, 8, 22\n",
            "(1,5): 2, 16, 10, 24\n",
            "(1,6): 2, 16, 12, 26\n",
            "(1,7): 2, 16, 14, 28\n",
            "(2,0): 4, 18, 0, 14\n",
            "(2,1): 4, 18, 2, 16\n",
            "(2,2): 4, 18, 4, 18\n",
            "(2,3): 4, 18, 6, 20\n",
            "(2,4): 4, 18, 8, 22\n",
            "(2,5): 4, 18, 10, 24\n",
            "(2,6): 4, 18, 12, 26\n",
            "(2,7): 4, 18, 14, 28\n",
            "(3,0): 6, 20, 0, 14\n",
            "(3,1): 6, 20, 2, 16\n",
            "(3,2): 6, 20, 4, 18\n",
            "(3,3): 6, 20, 6, 20\n",
            "(3,4): 6, 20, 8, 22\n",
            "(3,5): 6, 20, 10, 24\n",
            "(3,6): 6, 20, 12, 26\n",
            "(3,7): 6, 20, 14, 28\n",
            "(4,0): 8, 22, 0, 14\n",
            "(4,1): 8, 22, 2, 16\n",
            "(4,2): 8, 22, 4, 18\n",
            "(4,3): 8, 22, 6, 20\n",
            "(4,4): 8, 22, 8, 22\n",
            "(4,5): 8, 22, 10, 24\n",
            "(4,6): 8, 22, 12, 26\n",
            "(4,7): 8, 22, 14, 28\n",
            "(5,0): 10, 24, 0, 14\n",
            "(5,1): 10, 24, 2, 16\n",
            "(5,2): 10, 24, 4, 18\n",
            "(5,3): 10, 24, 6, 20\n",
            "(5,4): 10, 24, 8, 22\n",
            "(5,5): 10, 24, 10, 24\n",
            "(5,6): 10, 24, 12, 26\n",
            "(5,7): 10, 24, 14, 28\n",
            "(6,0): 12, 26, 0, 14\n",
            "(6,1): 12, 26, 2, 16\n",
            "(6,2): 12, 26, 4, 18\n",
            "(6,3): 12, 26, 6, 20\n",
            "(6,4): 12, 26, 8, 22\n",
            "(6,5): 12, 26, 10, 24\n",
            "(6,6): 12, 26, 12, 26\n",
            "(6,7): 12, 26, 14, 28\n",
            "(7,0): 14, 28, 0, 14\n",
            "(7,1): 14, 28, 2, 16\n",
            "(7,2): 14, 28, 4, 18\n",
            "(7,3): 14, 28, 6, 20\n",
            "(7,4): 14, 28, 8, 22\n",
            "(7,5): 14, 28, 10, 24\n",
            "(7,6): 14, 28, 12, 26\n",
            "(7,7): 14, 28, 14, 28\n"
          ]
        }
      ],
      "source": [
        "# helper block for checking particular neuron's rf position\n",
        "# start center, jump, rf (receptive field) size, feature map size, channel_num\n",
        "rf_info = {'conv1':[2.5, 1, 5, 24, 20], 'conv2':[7, 2, 14, 8, 50]}\n",
        "\n",
        "key = 'conv2'\n",
        "p_rf = rf_info[key][2]\n",
        "p_feat = rf_info[key][3]\n",
        "\n",
        "for i in range(p_feat):\n",
        "    for j in range(p_feat):\n",
        "        center_i = rf_info[key][0] + i * rf_info[key][1]\n",
        "        center_j = rf_info[key][0] + j * rf_info[key][1]\n",
        "        left = int(center_i - p_rf / 2)\n",
        "        right = int(center_i + p_rf / 2)\n",
        "        up = int(center_j - p_rf / 2)\n",
        "        bottom = int(center_j + p_rf / 2)\n",
        "        \n",
        "        print('({},{}): {}, {}, {}, {}'.format(i, j, left, right, up, bottom))"
      ],
      "id": "5a77d5bd"
    },
    {
      "cell_type": "code",
      "execution_count": null,
      "metadata": {
        "colab": {
          "background_save": true
        },
        "id": "12bbf4a8"
      },
      "outputs": [],
      "source": [],
      "id": "12bbf4a8"
    }
  ],
  "metadata": {
    "colab": {
      "provenance": []
    },
    "kernelspec": {
      "display_name": "Python 3 (ipykernel)",
      "language": "python",
      "name": "python3"
    },
    "language_info": {
      "codemirror_mode": {
        "name": "ipython",
        "version": 3
      },
      "file_extension": ".py",
      "mimetype": "text/x-python",
      "name": "python",
      "nbconvert_exporter": "python",
      "pygments_lexer": "ipython3",
      "version": "3.9.16"
    },
    "widgets": {
      "application/vnd.jupyter.widget-state+json": {
        "a24f508ab24e4b1991d7fce4834acae5": {
          "model_module": "@jupyter-widgets/controls",
          "model_name": "HBoxModel",
          "model_module_version": "1.5.0",
          "state": {
            "_dom_classes": [],
            "_model_module": "@jupyter-widgets/controls",
            "_model_module_version": "1.5.0",
            "_model_name": "HBoxModel",
            "_view_count": null,
            "_view_module": "@jupyter-widgets/controls",
            "_view_module_version": "1.5.0",
            "_view_name": "HBoxView",
            "box_style": "",
            "children": [
              "IPY_MODEL_897217f5456a4462a8a9d358bf70736c",
              "IPY_MODEL_aaa90727081245b4bf3b19cb12d321a6",
              "IPY_MODEL_1d2b6bc4b52a40b3b54a0dd9b543a093"
            ],
            "layout": "IPY_MODEL_07d230e453c242c48da9d4e98b26dc02"
          }
        },
        "897217f5456a4462a8a9d358bf70736c": {
          "model_module": "@jupyter-widgets/controls",
          "model_name": "HTMLModel",
          "model_module_version": "1.5.0",
          "state": {
            "_dom_classes": [],
            "_model_module": "@jupyter-widgets/controls",
            "_model_module_version": "1.5.0",
            "_model_name": "HTMLModel",
            "_view_count": null,
            "_view_module": "@jupyter-widgets/controls",
            "_view_module_version": "1.5.0",
            "_view_name": "HTMLView",
            "description": "",
            "description_tooltip": null,
            "layout": "IPY_MODEL_09a81b03f84347e8a883c176968797ec",
            "placeholder": "​",
            "style": "IPY_MODEL_cf02856b0de54a70a98cf936ef224958",
            "value": "100%"
          }
        },
        "aaa90727081245b4bf3b19cb12d321a6": {
          "model_module": "@jupyter-widgets/controls",
          "model_name": "FloatProgressModel",
          "model_module_version": "1.5.0",
          "state": {
            "_dom_classes": [],
            "_model_module": "@jupyter-widgets/controls",
            "_model_module_version": "1.5.0",
            "_model_name": "FloatProgressModel",
            "_view_count": null,
            "_view_module": "@jupyter-widgets/controls",
            "_view_module_version": "1.5.0",
            "_view_name": "ProgressView",
            "bar_style": "success",
            "description": "",
            "description_tooltip": null,
            "layout": "IPY_MODEL_b8a12f29b091485da5c142830687557a",
            "max": 9912422,
            "min": 0,
            "orientation": "horizontal",
            "style": "IPY_MODEL_c9778cd0707a4840833509791373281c",
            "value": 9912422
          }
        },
        "1d2b6bc4b52a40b3b54a0dd9b543a093": {
          "model_module": "@jupyter-widgets/controls",
          "model_name": "HTMLModel",
          "model_module_version": "1.5.0",
          "state": {
            "_dom_classes": [],
            "_model_module": "@jupyter-widgets/controls",
            "_model_module_version": "1.5.0",
            "_model_name": "HTMLModel",
            "_view_count": null,
            "_view_module": "@jupyter-widgets/controls",
            "_view_module_version": "1.5.0",
            "_view_name": "HTMLView",
            "description": "",
            "description_tooltip": null,
            "layout": "IPY_MODEL_11fd0b4e220f41f19b7ef4932926d819",
            "placeholder": "​",
            "style": "IPY_MODEL_f1aa44fecda2459cba9441c9b8091810",
            "value": " 9912422/9912422 [00:00&lt;00:00, 178657358.64it/s]"
          }
        },
        "07d230e453c242c48da9d4e98b26dc02": {
          "model_module": "@jupyter-widgets/base",
          "model_name": "LayoutModel",
          "model_module_version": "1.2.0",
          "state": {
            "_model_module": "@jupyter-widgets/base",
            "_model_module_version": "1.2.0",
            "_model_name": "LayoutModel",
            "_view_count": null,
            "_view_module": "@jupyter-widgets/base",
            "_view_module_version": "1.2.0",
            "_view_name": "LayoutView",
            "align_content": null,
            "align_items": null,
            "align_self": null,
            "border": null,
            "bottom": null,
            "display": null,
            "flex": null,
            "flex_flow": null,
            "grid_area": null,
            "grid_auto_columns": null,
            "grid_auto_flow": null,
            "grid_auto_rows": null,
            "grid_column": null,
            "grid_gap": null,
            "grid_row": null,
            "grid_template_areas": null,
            "grid_template_columns": null,
            "grid_template_rows": null,
            "height": null,
            "justify_content": null,
            "justify_items": null,
            "left": null,
            "margin": null,
            "max_height": null,
            "max_width": null,
            "min_height": null,
            "min_width": null,
            "object_fit": null,
            "object_position": null,
            "order": null,
            "overflow": null,
            "overflow_x": null,
            "overflow_y": null,
            "padding": null,
            "right": null,
            "top": null,
            "visibility": null,
            "width": null
          }
        },
        "09a81b03f84347e8a883c176968797ec": {
          "model_module": "@jupyter-widgets/base",
          "model_name": "LayoutModel",
          "model_module_version": "1.2.0",
          "state": {
            "_model_module": "@jupyter-widgets/base",
            "_model_module_version": "1.2.0",
            "_model_name": "LayoutModel",
            "_view_count": null,
            "_view_module": "@jupyter-widgets/base",
            "_view_module_version": "1.2.0",
            "_view_name": "LayoutView",
            "align_content": null,
            "align_items": null,
            "align_self": null,
            "border": null,
            "bottom": null,
            "display": null,
            "flex": null,
            "flex_flow": null,
            "grid_area": null,
            "grid_auto_columns": null,
            "grid_auto_flow": null,
            "grid_auto_rows": null,
            "grid_column": null,
            "grid_gap": null,
            "grid_row": null,
            "grid_template_areas": null,
            "grid_template_columns": null,
            "grid_template_rows": null,
            "height": null,
            "justify_content": null,
            "justify_items": null,
            "left": null,
            "margin": null,
            "max_height": null,
            "max_width": null,
            "min_height": null,
            "min_width": null,
            "object_fit": null,
            "object_position": null,
            "order": null,
            "overflow": null,
            "overflow_x": null,
            "overflow_y": null,
            "padding": null,
            "right": null,
            "top": null,
            "visibility": null,
            "width": null
          }
        },
        "cf02856b0de54a70a98cf936ef224958": {
          "model_module": "@jupyter-widgets/controls",
          "model_name": "DescriptionStyleModel",
          "model_module_version": "1.5.0",
          "state": {
            "_model_module": "@jupyter-widgets/controls",
            "_model_module_version": "1.5.0",
            "_model_name": "DescriptionStyleModel",
            "_view_count": null,
            "_view_module": "@jupyter-widgets/base",
            "_view_module_version": "1.2.0",
            "_view_name": "StyleView",
            "description_width": ""
          }
        },
        "b8a12f29b091485da5c142830687557a": {
          "model_module": "@jupyter-widgets/base",
          "model_name": "LayoutModel",
          "model_module_version": "1.2.0",
          "state": {
            "_model_module": "@jupyter-widgets/base",
            "_model_module_version": "1.2.0",
            "_model_name": "LayoutModel",
            "_view_count": null,
            "_view_module": "@jupyter-widgets/base",
            "_view_module_version": "1.2.0",
            "_view_name": "LayoutView",
            "align_content": null,
            "align_items": null,
            "align_self": null,
            "border": null,
            "bottom": null,
            "display": null,
            "flex": null,
            "flex_flow": null,
            "grid_area": null,
            "grid_auto_columns": null,
            "grid_auto_flow": null,
            "grid_auto_rows": null,
            "grid_column": null,
            "grid_gap": null,
            "grid_row": null,
            "grid_template_areas": null,
            "grid_template_columns": null,
            "grid_template_rows": null,
            "height": null,
            "justify_content": null,
            "justify_items": null,
            "left": null,
            "margin": null,
            "max_height": null,
            "max_width": null,
            "min_height": null,
            "min_width": null,
            "object_fit": null,
            "object_position": null,
            "order": null,
            "overflow": null,
            "overflow_x": null,
            "overflow_y": null,
            "padding": null,
            "right": null,
            "top": null,
            "visibility": null,
            "width": null
          }
        },
        "c9778cd0707a4840833509791373281c": {
          "model_module": "@jupyter-widgets/controls",
          "model_name": "ProgressStyleModel",
          "model_module_version": "1.5.0",
          "state": {
            "_model_module": "@jupyter-widgets/controls",
            "_model_module_version": "1.5.0",
            "_model_name": "ProgressStyleModel",
            "_view_count": null,
            "_view_module": "@jupyter-widgets/base",
            "_view_module_version": "1.2.0",
            "_view_name": "StyleView",
            "bar_color": null,
            "description_width": ""
          }
        },
        "11fd0b4e220f41f19b7ef4932926d819": {
          "model_module": "@jupyter-widgets/base",
          "model_name": "LayoutModel",
          "model_module_version": "1.2.0",
          "state": {
            "_model_module": "@jupyter-widgets/base",
            "_model_module_version": "1.2.0",
            "_model_name": "LayoutModel",
            "_view_count": null,
            "_view_module": "@jupyter-widgets/base",
            "_view_module_version": "1.2.0",
            "_view_name": "LayoutView",
            "align_content": null,
            "align_items": null,
            "align_self": null,
            "border": null,
            "bottom": null,
            "display": null,
            "flex": null,
            "flex_flow": null,
            "grid_area": null,
            "grid_auto_columns": null,
            "grid_auto_flow": null,
            "grid_auto_rows": null,
            "grid_column": null,
            "grid_gap": null,
            "grid_row": null,
            "grid_template_areas": null,
            "grid_template_columns": null,
            "grid_template_rows": null,
            "height": null,
            "justify_content": null,
            "justify_items": null,
            "left": null,
            "margin": null,
            "max_height": null,
            "max_width": null,
            "min_height": null,
            "min_width": null,
            "object_fit": null,
            "object_position": null,
            "order": null,
            "overflow": null,
            "overflow_x": null,
            "overflow_y": null,
            "padding": null,
            "right": null,
            "top": null,
            "visibility": null,
            "width": null
          }
        },
        "f1aa44fecda2459cba9441c9b8091810": {
          "model_module": "@jupyter-widgets/controls",
          "model_name": "DescriptionStyleModel",
          "model_module_version": "1.5.0",
          "state": {
            "_model_module": "@jupyter-widgets/controls",
            "_model_module_version": "1.5.0",
            "_model_name": "DescriptionStyleModel",
            "_view_count": null,
            "_view_module": "@jupyter-widgets/base",
            "_view_module_version": "1.2.0",
            "_view_name": "StyleView",
            "description_width": ""
          }
        },
        "55b5354bb9d849b3a3ed30112defedb6": {
          "model_module": "@jupyter-widgets/controls",
          "model_name": "HBoxModel",
          "model_module_version": "1.5.0",
          "state": {
            "_dom_classes": [],
            "_model_module": "@jupyter-widgets/controls",
            "_model_module_version": "1.5.0",
            "_model_name": "HBoxModel",
            "_view_count": null,
            "_view_module": "@jupyter-widgets/controls",
            "_view_module_version": "1.5.0",
            "_view_name": "HBoxView",
            "box_style": "",
            "children": [
              "IPY_MODEL_beb7eb1f320b47fca9d5b9f718f28cc2",
              "IPY_MODEL_1e9554d581554cc4a72e908dd1b56a83",
              "IPY_MODEL_5a0183151def44be8005d2ace1b0af50"
            ],
            "layout": "IPY_MODEL_5eec072ad4694b93a09a42884237a4e2"
          }
        },
        "beb7eb1f320b47fca9d5b9f718f28cc2": {
          "model_module": "@jupyter-widgets/controls",
          "model_name": "HTMLModel",
          "model_module_version": "1.5.0",
          "state": {
            "_dom_classes": [],
            "_model_module": "@jupyter-widgets/controls",
            "_model_module_version": "1.5.0",
            "_model_name": "HTMLModel",
            "_view_count": null,
            "_view_module": "@jupyter-widgets/controls",
            "_view_module_version": "1.5.0",
            "_view_name": "HTMLView",
            "description": "",
            "description_tooltip": null,
            "layout": "IPY_MODEL_658f18f2d7c74f0c82486aec866d67f3",
            "placeholder": "​",
            "style": "IPY_MODEL_d407b750903648aba821f174f210ce18",
            "value": "100%"
          }
        },
        "1e9554d581554cc4a72e908dd1b56a83": {
          "model_module": "@jupyter-widgets/controls",
          "model_name": "FloatProgressModel",
          "model_module_version": "1.5.0",
          "state": {
            "_dom_classes": [],
            "_model_module": "@jupyter-widgets/controls",
            "_model_module_version": "1.5.0",
            "_model_name": "FloatProgressModel",
            "_view_count": null,
            "_view_module": "@jupyter-widgets/controls",
            "_view_module_version": "1.5.0",
            "_view_name": "ProgressView",
            "bar_style": "success",
            "description": "",
            "description_tooltip": null,
            "layout": "IPY_MODEL_f3f23fcd3f7d4afc9c6e98d70d41dec0",
            "max": 28881,
            "min": 0,
            "orientation": "horizontal",
            "style": "IPY_MODEL_914e56251850420eb9d174f032ec02e7",
            "value": 28881
          }
        },
        "5a0183151def44be8005d2ace1b0af50": {
          "model_module": "@jupyter-widgets/controls",
          "model_name": "HTMLModel",
          "model_module_version": "1.5.0",
          "state": {
            "_dom_classes": [],
            "_model_module": "@jupyter-widgets/controls",
            "_model_module_version": "1.5.0",
            "_model_name": "HTMLModel",
            "_view_count": null,
            "_view_module": "@jupyter-widgets/controls",
            "_view_module_version": "1.5.0",
            "_view_name": "HTMLView",
            "description": "",
            "description_tooltip": null,
            "layout": "IPY_MODEL_00622a4831a24e859cc036de7087b4ad",
            "placeholder": "​",
            "style": "IPY_MODEL_69dc6f85a04b498194e265fcb0a9f311",
            "value": " 28881/28881 [00:00&lt;00:00, 1510721.51it/s]"
          }
        },
        "5eec072ad4694b93a09a42884237a4e2": {
          "model_module": "@jupyter-widgets/base",
          "model_name": "LayoutModel",
          "model_module_version": "1.2.0",
          "state": {
            "_model_module": "@jupyter-widgets/base",
            "_model_module_version": "1.2.0",
            "_model_name": "LayoutModel",
            "_view_count": null,
            "_view_module": "@jupyter-widgets/base",
            "_view_module_version": "1.2.0",
            "_view_name": "LayoutView",
            "align_content": null,
            "align_items": null,
            "align_self": null,
            "border": null,
            "bottom": null,
            "display": null,
            "flex": null,
            "flex_flow": null,
            "grid_area": null,
            "grid_auto_columns": null,
            "grid_auto_flow": null,
            "grid_auto_rows": null,
            "grid_column": null,
            "grid_gap": null,
            "grid_row": null,
            "grid_template_areas": null,
            "grid_template_columns": null,
            "grid_template_rows": null,
            "height": null,
            "justify_content": null,
            "justify_items": null,
            "left": null,
            "margin": null,
            "max_height": null,
            "max_width": null,
            "min_height": null,
            "min_width": null,
            "object_fit": null,
            "object_position": null,
            "order": null,
            "overflow": null,
            "overflow_x": null,
            "overflow_y": null,
            "padding": null,
            "right": null,
            "top": null,
            "visibility": null,
            "width": null
          }
        },
        "658f18f2d7c74f0c82486aec866d67f3": {
          "model_module": "@jupyter-widgets/base",
          "model_name": "LayoutModel",
          "model_module_version": "1.2.0",
          "state": {
            "_model_module": "@jupyter-widgets/base",
            "_model_module_version": "1.2.0",
            "_model_name": "LayoutModel",
            "_view_count": null,
            "_view_module": "@jupyter-widgets/base",
            "_view_module_version": "1.2.0",
            "_view_name": "LayoutView",
            "align_content": null,
            "align_items": null,
            "align_self": null,
            "border": null,
            "bottom": null,
            "display": null,
            "flex": null,
            "flex_flow": null,
            "grid_area": null,
            "grid_auto_columns": null,
            "grid_auto_flow": null,
            "grid_auto_rows": null,
            "grid_column": null,
            "grid_gap": null,
            "grid_row": null,
            "grid_template_areas": null,
            "grid_template_columns": null,
            "grid_template_rows": null,
            "height": null,
            "justify_content": null,
            "justify_items": null,
            "left": null,
            "margin": null,
            "max_height": null,
            "max_width": null,
            "min_height": null,
            "min_width": null,
            "object_fit": null,
            "object_position": null,
            "order": null,
            "overflow": null,
            "overflow_x": null,
            "overflow_y": null,
            "padding": null,
            "right": null,
            "top": null,
            "visibility": null,
            "width": null
          }
        },
        "d407b750903648aba821f174f210ce18": {
          "model_module": "@jupyter-widgets/controls",
          "model_name": "DescriptionStyleModel",
          "model_module_version": "1.5.0",
          "state": {
            "_model_module": "@jupyter-widgets/controls",
            "_model_module_version": "1.5.0",
            "_model_name": "DescriptionStyleModel",
            "_view_count": null,
            "_view_module": "@jupyter-widgets/base",
            "_view_module_version": "1.2.0",
            "_view_name": "StyleView",
            "description_width": ""
          }
        },
        "f3f23fcd3f7d4afc9c6e98d70d41dec0": {
          "model_module": "@jupyter-widgets/base",
          "model_name": "LayoutModel",
          "model_module_version": "1.2.0",
          "state": {
            "_model_module": "@jupyter-widgets/base",
            "_model_module_version": "1.2.0",
            "_model_name": "LayoutModel",
            "_view_count": null,
            "_view_module": "@jupyter-widgets/base",
            "_view_module_version": "1.2.0",
            "_view_name": "LayoutView",
            "align_content": null,
            "align_items": null,
            "align_self": null,
            "border": null,
            "bottom": null,
            "display": null,
            "flex": null,
            "flex_flow": null,
            "grid_area": null,
            "grid_auto_columns": null,
            "grid_auto_flow": null,
            "grid_auto_rows": null,
            "grid_column": null,
            "grid_gap": null,
            "grid_row": null,
            "grid_template_areas": null,
            "grid_template_columns": null,
            "grid_template_rows": null,
            "height": null,
            "justify_content": null,
            "justify_items": null,
            "left": null,
            "margin": null,
            "max_height": null,
            "max_width": null,
            "min_height": null,
            "min_width": null,
            "object_fit": null,
            "object_position": null,
            "order": null,
            "overflow": null,
            "overflow_x": null,
            "overflow_y": null,
            "padding": null,
            "right": null,
            "top": null,
            "visibility": null,
            "width": null
          }
        },
        "914e56251850420eb9d174f032ec02e7": {
          "model_module": "@jupyter-widgets/controls",
          "model_name": "ProgressStyleModel",
          "model_module_version": "1.5.0",
          "state": {
            "_model_module": "@jupyter-widgets/controls",
            "_model_module_version": "1.5.0",
            "_model_name": "ProgressStyleModel",
            "_view_count": null,
            "_view_module": "@jupyter-widgets/base",
            "_view_module_version": "1.2.0",
            "_view_name": "StyleView",
            "bar_color": null,
            "description_width": ""
          }
        },
        "00622a4831a24e859cc036de7087b4ad": {
          "model_module": "@jupyter-widgets/base",
          "model_name": "LayoutModel",
          "model_module_version": "1.2.0",
          "state": {
            "_model_module": "@jupyter-widgets/base",
            "_model_module_version": "1.2.0",
            "_model_name": "LayoutModel",
            "_view_count": null,
            "_view_module": "@jupyter-widgets/base",
            "_view_module_version": "1.2.0",
            "_view_name": "LayoutView",
            "align_content": null,
            "align_items": null,
            "align_self": null,
            "border": null,
            "bottom": null,
            "display": null,
            "flex": null,
            "flex_flow": null,
            "grid_area": null,
            "grid_auto_columns": null,
            "grid_auto_flow": null,
            "grid_auto_rows": null,
            "grid_column": null,
            "grid_gap": null,
            "grid_row": null,
            "grid_template_areas": null,
            "grid_template_columns": null,
            "grid_template_rows": null,
            "height": null,
            "justify_content": null,
            "justify_items": null,
            "left": null,
            "margin": null,
            "max_height": null,
            "max_width": null,
            "min_height": null,
            "min_width": null,
            "object_fit": null,
            "object_position": null,
            "order": null,
            "overflow": null,
            "overflow_x": null,
            "overflow_y": null,
            "padding": null,
            "right": null,
            "top": null,
            "visibility": null,
            "width": null
          }
        },
        "69dc6f85a04b498194e265fcb0a9f311": {
          "model_module": "@jupyter-widgets/controls",
          "model_name": "DescriptionStyleModel",
          "model_module_version": "1.5.0",
          "state": {
            "_model_module": "@jupyter-widgets/controls",
            "_model_module_version": "1.5.0",
            "_model_name": "DescriptionStyleModel",
            "_view_count": null,
            "_view_module": "@jupyter-widgets/base",
            "_view_module_version": "1.2.0",
            "_view_name": "StyleView",
            "description_width": ""
          }
        },
        "c6a96244e11f4510af7c6b2735b9ee72": {
          "model_module": "@jupyter-widgets/controls",
          "model_name": "HBoxModel",
          "model_module_version": "1.5.0",
          "state": {
            "_dom_classes": [],
            "_model_module": "@jupyter-widgets/controls",
            "_model_module_version": "1.5.0",
            "_model_name": "HBoxModel",
            "_view_count": null,
            "_view_module": "@jupyter-widgets/controls",
            "_view_module_version": "1.5.0",
            "_view_name": "HBoxView",
            "box_style": "",
            "children": [
              "IPY_MODEL_c0af4cfa016147c18499f668162fa66c",
              "IPY_MODEL_80ed951b01b64612b2a57e084daceb60",
              "IPY_MODEL_dcae7b0176c14445913b6596463811fe"
            ],
            "layout": "IPY_MODEL_59bf3aca40b543c997cbbc796e12d6de"
          }
        },
        "c0af4cfa016147c18499f668162fa66c": {
          "model_module": "@jupyter-widgets/controls",
          "model_name": "HTMLModel",
          "model_module_version": "1.5.0",
          "state": {
            "_dom_classes": [],
            "_model_module": "@jupyter-widgets/controls",
            "_model_module_version": "1.5.0",
            "_model_name": "HTMLModel",
            "_view_count": null,
            "_view_module": "@jupyter-widgets/controls",
            "_view_module_version": "1.5.0",
            "_view_name": "HTMLView",
            "description": "",
            "description_tooltip": null,
            "layout": "IPY_MODEL_5ab00467eba44d52831c73f69a3b021c",
            "placeholder": "​",
            "style": "IPY_MODEL_e18d61d85b6a4bb99d4b48ad0dffefca",
            "value": "100%"
          }
        },
        "80ed951b01b64612b2a57e084daceb60": {
          "model_module": "@jupyter-widgets/controls",
          "model_name": "FloatProgressModel",
          "model_module_version": "1.5.0",
          "state": {
            "_dom_classes": [],
            "_model_module": "@jupyter-widgets/controls",
            "_model_module_version": "1.5.0",
            "_model_name": "FloatProgressModel",
            "_view_count": null,
            "_view_module": "@jupyter-widgets/controls",
            "_view_module_version": "1.5.0",
            "_view_name": "ProgressView",
            "bar_style": "success",
            "description": "",
            "description_tooltip": null,
            "layout": "IPY_MODEL_e15ff6f8ce684b53837b35663b22eab6",
            "max": 1648877,
            "min": 0,
            "orientation": "horizontal",
            "style": "IPY_MODEL_78632d044e7e4ca3b54aeae20637da60",
            "value": 1648877
          }
        },
        "dcae7b0176c14445913b6596463811fe": {
          "model_module": "@jupyter-widgets/controls",
          "model_name": "HTMLModel",
          "model_module_version": "1.5.0",
          "state": {
            "_dom_classes": [],
            "_model_module": "@jupyter-widgets/controls",
            "_model_module_version": "1.5.0",
            "_model_name": "HTMLModel",
            "_view_count": null,
            "_view_module": "@jupyter-widgets/controls",
            "_view_module_version": "1.5.0",
            "_view_name": "HTMLView",
            "description": "",
            "description_tooltip": null,
            "layout": "IPY_MODEL_da5a9bd7318e4d64b8599346839eb7ce",
            "placeholder": "​",
            "style": "IPY_MODEL_bb815d1728bb449fb342cbbf5b617c08",
            "value": " 1648877/1648877 [00:00&lt;00:00, 57329062.02it/s]"
          }
        },
        "59bf3aca40b543c997cbbc796e12d6de": {
          "model_module": "@jupyter-widgets/base",
          "model_name": "LayoutModel",
          "model_module_version": "1.2.0",
          "state": {
            "_model_module": "@jupyter-widgets/base",
            "_model_module_version": "1.2.0",
            "_model_name": "LayoutModel",
            "_view_count": null,
            "_view_module": "@jupyter-widgets/base",
            "_view_module_version": "1.2.0",
            "_view_name": "LayoutView",
            "align_content": null,
            "align_items": null,
            "align_self": null,
            "border": null,
            "bottom": null,
            "display": null,
            "flex": null,
            "flex_flow": null,
            "grid_area": null,
            "grid_auto_columns": null,
            "grid_auto_flow": null,
            "grid_auto_rows": null,
            "grid_column": null,
            "grid_gap": null,
            "grid_row": null,
            "grid_template_areas": null,
            "grid_template_columns": null,
            "grid_template_rows": null,
            "height": null,
            "justify_content": null,
            "justify_items": null,
            "left": null,
            "margin": null,
            "max_height": null,
            "max_width": null,
            "min_height": null,
            "min_width": null,
            "object_fit": null,
            "object_position": null,
            "order": null,
            "overflow": null,
            "overflow_x": null,
            "overflow_y": null,
            "padding": null,
            "right": null,
            "top": null,
            "visibility": null,
            "width": null
          }
        },
        "5ab00467eba44d52831c73f69a3b021c": {
          "model_module": "@jupyter-widgets/base",
          "model_name": "LayoutModel",
          "model_module_version": "1.2.0",
          "state": {
            "_model_module": "@jupyter-widgets/base",
            "_model_module_version": "1.2.0",
            "_model_name": "LayoutModel",
            "_view_count": null,
            "_view_module": "@jupyter-widgets/base",
            "_view_module_version": "1.2.0",
            "_view_name": "LayoutView",
            "align_content": null,
            "align_items": null,
            "align_self": null,
            "border": null,
            "bottom": null,
            "display": null,
            "flex": null,
            "flex_flow": null,
            "grid_area": null,
            "grid_auto_columns": null,
            "grid_auto_flow": null,
            "grid_auto_rows": null,
            "grid_column": null,
            "grid_gap": null,
            "grid_row": null,
            "grid_template_areas": null,
            "grid_template_columns": null,
            "grid_template_rows": null,
            "height": null,
            "justify_content": null,
            "justify_items": null,
            "left": null,
            "margin": null,
            "max_height": null,
            "max_width": null,
            "min_height": null,
            "min_width": null,
            "object_fit": null,
            "object_position": null,
            "order": null,
            "overflow": null,
            "overflow_x": null,
            "overflow_y": null,
            "padding": null,
            "right": null,
            "top": null,
            "visibility": null,
            "width": null
          }
        },
        "e18d61d85b6a4bb99d4b48ad0dffefca": {
          "model_module": "@jupyter-widgets/controls",
          "model_name": "DescriptionStyleModel",
          "model_module_version": "1.5.0",
          "state": {
            "_model_module": "@jupyter-widgets/controls",
            "_model_module_version": "1.5.0",
            "_model_name": "DescriptionStyleModel",
            "_view_count": null,
            "_view_module": "@jupyter-widgets/base",
            "_view_module_version": "1.2.0",
            "_view_name": "StyleView",
            "description_width": ""
          }
        },
        "e15ff6f8ce684b53837b35663b22eab6": {
          "model_module": "@jupyter-widgets/base",
          "model_name": "LayoutModel",
          "model_module_version": "1.2.0",
          "state": {
            "_model_module": "@jupyter-widgets/base",
            "_model_module_version": "1.2.0",
            "_model_name": "LayoutModel",
            "_view_count": null,
            "_view_module": "@jupyter-widgets/base",
            "_view_module_version": "1.2.0",
            "_view_name": "LayoutView",
            "align_content": null,
            "align_items": null,
            "align_self": null,
            "border": null,
            "bottom": null,
            "display": null,
            "flex": null,
            "flex_flow": null,
            "grid_area": null,
            "grid_auto_columns": null,
            "grid_auto_flow": null,
            "grid_auto_rows": null,
            "grid_column": null,
            "grid_gap": null,
            "grid_row": null,
            "grid_template_areas": null,
            "grid_template_columns": null,
            "grid_template_rows": null,
            "height": null,
            "justify_content": null,
            "justify_items": null,
            "left": null,
            "margin": null,
            "max_height": null,
            "max_width": null,
            "min_height": null,
            "min_width": null,
            "object_fit": null,
            "object_position": null,
            "order": null,
            "overflow": null,
            "overflow_x": null,
            "overflow_y": null,
            "padding": null,
            "right": null,
            "top": null,
            "visibility": null,
            "width": null
          }
        },
        "78632d044e7e4ca3b54aeae20637da60": {
          "model_module": "@jupyter-widgets/controls",
          "model_name": "ProgressStyleModel",
          "model_module_version": "1.5.0",
          "state": {
            "_model_module": "@jupyter-widgets/controls",
            "_model_module_version": "1.5.0",
            "_model_name": "ProgressStyleModel",
            "_view_count": null,
            "_view_module": "@jupyter-widgets/base",
            "_view_module_version": "1.2.0",
            "_view_name": "StyleView",
            "bar_color": null,
            "description_width": ""
          }
        },
        "da5a9bd7318e4d64b8599346839eb7ce": {
          "model_module": "@jupyter-widgets/base",
          "model_name": "LayoutModel",
          "model_module_version": "1.2.0",
          "state": {
            "_model_module": "@jupyter-widgets/base",
            "_model_module_version": "1.2.0",
            "_model_name": "LayoutModel",
            "_view_count": null,
            "_view_module": "@jupyter-widgets/base",
            "_view_module_version": "1.2.0",
            "_view_name": "LayoutView",
            "align_content": null,
            "align_items": null,
            "align_self": null,
            "border": null,
            "bottom": null,
            "display": null,
            "flex": null,
            "flex_flow": null,
            "grid_area": null,
            "grid_auto_columns": null,
            "grid_auto_flow": null,
            "grid_auto_rows": null,
            "grid_column": null,
            "grid_gap": null,
            "grid_row": null,
            "grid_template_areas": null,
            "grid_template_columns": null,
            "grid_template_rows": null,
            "height": null,
            "justify_content": null,
            "justify_items": null,
            "left": null,
            "margin": null,
            "max_height": null,
            "max_width": null,
            "min_height": null,
            "min_width": null,
            "object_fit": null,
            "object_position": null,
            "order": null,
            "overflow": null,
            "overflow_x": null,
            "overflow_y": null,
            "padding": null,
            "right": null,
            "top": null,
            "visibility": null,
            "width": null
          }
        },
        "bb815d1728bb449fb342cbbf5b617c08": {
          "model_module": "@jupyter-widgets/controls",
          "model_name": "DescriptionStyleModel",
          "model_module_version": "1.5.0",
          "state": {
            "_model_module": "@jupyter-widgets/controls",
            "_model_module_version": "1.5.0",
            "_model_name": "DescriptionStyleModel",
            "_view_count": null,
            "_view_module": "@jupyter-widgets/base",
            "_view_module_version": "1.2.0",
            "_view_name": "StyleView",
            "description_width": ""
          }
        },
        "fa70fa40e25a4e11be1024a9737638fb": {
          "model_module": "@jupyter-widgets/controls",
          "model_name": "HBoxModel",
          "model_module_version": "1.5.0",
          "state": {
            "_dom_classes": [],
            "_model_module": "@jupyter-widgets/controls",
            "_model_module_version": "1.5.0",
            "_model_name": "HBoxModel",
            "_view_count": null,
            "_view_module": "@jupyter-widgets/controls",
            "_view_module_version": "1.5.0",
            "_view_name": "HBoxView",
            "box_style": "",
            "children": [
              "IPY_MODEL_804b665baddd423f958ecc3e42c76202",
              "IPY_MODEL_659c31f24c5b4c728f2bdd0bf423263b",
              "IPY_MODEL_85445d37c0564460ab43228a3a6b8570"
            ],
            "layout": "IPY_MODEL_308490fac48146f2a714a3b50527c092"
          }
        },
        "804b665baddd423f958ecc3e42c76202": {
          "model_module": "@jupyter-widgets/controls",
          "model_name": "HTMLModel",
          "model_module_version": "1.5.0",
          "state": {
            "_dom_classes": [],
            "_model_module": "@jupyter-widgets/controls",
            "_model_module_version": "1.5.0",
            "_model_name": "HTMLModel",
            "_view_count": null,
            "_view_module": "@jupyter-widgets/controls",
            "_view_module_version": "1.5.0",
            "_view_name": "HTMLView",
            "description": "",
            "description_tooltip": null,
            "layout": "IPY_MODEL_b3003ff7ffb94cb4990a3b356643b5c3",
            "placeholder": "​",
            "style": "IPY_MODEL_fc3efa6642724ca5bf69d2226d72cfb7",
            "value": "100%"
          }
        },
        "659c31f24c5b4c728f2bdd0bf423263b": {
          "model_module": "@jupyter-widgets/controls",
          "model_name": "FloatProgressModel",
          "model_module_version": "1.5.0",
          "state": {
            "_dom_classes": [],
            "_model_module": "@jupyter-widgets/controls",
            "_model_module_version": "1.5.0",
            "_model_name": "FloatProgressModel",
            "_view_count": null,
            "_view_module": "@jupyter-widgets/controls",
            "_view_module_version": "1.5.0",
            "_view_name": "ProgressView",
            "bar_style": "success",
            "description": "",
            "description_tooltip": null,
            "layout": "IPY_MODEL_62ecf4c1e177403e89bf2f27aa8ef3ed",
            "max": 4542,
            "min": 0,
            "orientation": "horizontal",
            "style": "IPY_MODEL_ea70e3879ad84c0d99e5fe02d8e1a2fa",
            "value": 4542
          }
        },
        "85445d37c0564460ab43228a3a6b8570": {
          "model_module": "@jupyter-widgets/controls",
          "model_name": "HTMLModel",
          "model_module_version": "1.5.0",
          "state": {
            "_dom_classes": [],
            "_model_module": "@jupyter-widgets/controls",
            "_model_module_version": "1.5.0",
            "_model_name": "HTMLModel",
            "_view_count": null,
            "_view_module": "@jupyter-widgets/controls",
            "_view_module_version": "1.5.0",
            "_view_name": "HTMLView",
            "description": "",
            "description_tooltip": null,
            "layout": "IPY_MODEL_021e1d66467b46ff8b56789437b59c1d",
            "placeholder": "​",
            "style": "IPY_MODEL_7debebcf06c84e6b88d51bfaa3b9f0ec",
            "value": " 4542/4542 [00:00&lt;00:00, 147620.16it/s]"
          }
        },
        "308490fac48146f2a714a3b50527c092": {
          "model_module": "@jupyter-widgets/base",
          "model_name": "LayoutModel",
          "model_module_version": "1.2.0",
          "state": {
            "_model_module": "@jupyter-widgets/base",
            "_model_module_version": "1.2.0",
            "_model_name": "LayoutModel",
            "_view_count": null,
            "_view_module": "@jupyter-widgets/base",
            "_view_module_version": "1.2.0",
            "_view_name": "LayoutView",
            "align_content": null,
            "align_items": null,
            "align_self": null,
            "border": null,
            "bottom": null,
            "display": null,
            "flex": null,
            "flex_flow": null,
            "grid_area": null,
            "grid_auto_columns": null,
            "grid_auto_flow": null,
            "grid_auto_rows": null,
            "grid_column": null,
            "grid_gap": null,
            "grid_row": null,
            "grid_template_areas": null,
            "grid_template_columns": null,
            "grid_template_rows": null,
            "height": null,
            "justify_content": null,
            "justify_items": null,
            "left": null,
            "margin": null,
            "max_height": null,
            "max_width": null,
            "min_height": null,
            "min_width": null,
            "object_fit": null,
            "object_position": null,
            "order": null,
            "overflow": null,
            "overflow_x": null,
            "overflow_y": null,
            "padding": null,
            "right": null,
            "top": null,
            "visibility": null,
            "width": null
          }
        },
        "b3003ff7ffb94cb4990a3b356643b5c3": {
          "model_module": "@jupyter-widgets/base",
          "model_name": "LayoutModel",
          "model_module_version": "1.2.0",
          "state": {
            "_model_module": "@jupyter-widgets/base",
            "_model_module_version": "1.2.0",
            "_model_name": "LayoutModel",
            "_view_count": null,
            "_view_module": "@jupyter-widgets/base",
            "_view_module_version": "1.2.0",
            "_view_name": "LayoutView",
            "align_content": null,
            "align_items": null,
            "align_self": null,
            "border": null,
            "bottom": null,
            "display": null,
            "flex": null,
            "flex_flow": null,
            "grid_area": null,
            "grid_auto_columns": null,
            "grid_auto_flow": null,
            "grid_auto_rows": null,
            "grid_column": null,
            "grid_gap": null,
            "grid_row": null,
            "grid_template_areas": null,
            "grid_template_columns": null,
            "grid_template_rows": null,
            "height": null,
            "justify_content": null,
            "justify_items": null,
            "left": null,
            "margin": null,
            "max_height": null,
            "max_width": null,
            "min_height": null,
            "min_width": null,
            "object_fit": null,
            "object_position": null,
            "order": null,
            "overflow": null,
            "overflow_x": null,
            "overflow_y": null,
            "padding": null,
            "right": null,
            "top": null,
            "visibility": null,
            "width": null
          }
        },
        "fc3efa6642724ca5bf69d2226d72cfb7": {
          "model_module": "@jupyter-widgets/controls",
          "model_name": "DescriptionStyleModel",
          "model_module_version": "1.5.0",
          "state": {
            "_model_module": "@jupyter-widgets/controls",
            "_model_module_version": "1.5.0",
            "_model_name": "DescriptionStyleModel",
            "_view_count": null,
            "_view_module": "@jupyter-widgets/base",
            "_view_module_version": "1.2.0",
            "_view_name": "StyleView",
            "description_width": ""
          }
        },
        "62ecf4c1e177403e89bf2f27aa8ef3ed": {
          "model_module": "@jupyter-widgets/base",
          "model_name": "LayoutModel",
          "model_module_version": "1.2.0",
          "state": {
            "_model_module": "@jupyter-widgets/base",
            "_model_module_version": "1.2.0",
            "_model_name": "LayoutModel",
            "_view_count": null,
            "_view_module": "@jupyter-widgets/base",
            "_view_module_version": "1.2.0",
            "_view_name": "LayoutView",
            "align_content": null,
            "align_items": null,
            "align_self": null,
            "border": null,
            "bottom": null,
            "display": null,
            "flex": null,
            "flex_flow": null,
            "grid_area": null,
            "grid_auto_columns": null,
            "grid_auto_flow": null,
            "grid_auto_rows": null,
            "grid_column": null,
            "grid_gap": null,
            "grid_row": null,
            "grid_template_areas": null,
            "grid_template_columns": null,
            "grid_template_rows": null,
            "height": null,
            "justify_content": null,
            "justify_items": null,
            "left": null,
            "margin": null,
            "max_height": null,
            "max_width": null,
            "min_height": null,
            "min_width": null,
            "object_fit": null,
            "object_position": null,
            "order": null,
            "overflow": null,
            "overflow_x": null,
            "overflow_y": null,
            "padding": null,
            "right": null,
            "top": null,
            "visibility": null,
            "width": null
          }
        },
        "ea70e3879ad84c0d99e5fe02d8e1a2fa": {
          "model_module": "@jupyter-widgets/controls",
          "model_name": "ProgressStyleModel",
          "model_module_version": "1.5.0",
          "state": {
            "_model_module": "@jupyter-widgets/controls",
            "_model_module_version": "1.5.0",
            "_model_name": "ProgressStyleModel",
            "_view_count": null,
            "_view_module": "@jupyter-widgets/base",
            "_view_module_version": "1.2.0",
            "_view_name": "StyleView",
            "bar_color": null,
            "description_width": ""
          }
        },
        "021e1d66467b46ff8b56789437b59c1d": {
          "model_module": "@jupyter-widgets/base",
          "model_name": "LayoutModel",
          "model_module_version": "1.2.0",
          "state": {
            "_model_module": "@jupyter-widgets/base",
            "_model_module_version": "1.2.0",
            "_model_name": "LayoutModel",
            "_view_count": null,
            "_view_module": "@jupyter-widgets/base",
            "_view_module_version": "1.2.0",
            "_view_name": "LayoutView",
            "align_content": null,
            "align_items": null,
            "align_self": null,
            "border": null,
            "bottom": null,
            "display": null,
            "flex": null,
            "flex_flow": null,
            "grid_area": null,
            "grid_auto_columns": null,
            "grid_auto_flow": null,
            "grid_auto_rows": null,
            "grid_column": null,
            "grid_gap": null,
            "grid_row": null,
            "grid_template_areas": null,
            "grid_template_columns": null,
            "grid_template_rows": null,
            "height": null,
            "justify_content": null,
            "justify_items": null,
            "left": null,
            "margin": null,
            "max_height": null,
            "max_width": null,
            "min_height": null,
            "min_width": null,
            "object_fit": null,
            "object_position": null,
            "order": null,
            "overflow": null,
            "overflow_x": null,
            "overflow_y": null,
            "padding": null,
            "right": null,
            "top": null,
            "visibility": null,
            "width": null
          }
        },
        "7debebcf06c84e6b88d51bfaa3b9f0ec": {
          "model_module": "@jupyter-widgets/controls",
          "model_name": "DescriptionStyleModel",
          "model_module_version": "1.5.0",
          "state": {
            "_model_module": "@jupyter-widgets/controls",
            "_model_module_version": "1.5.0",
            "_model_name": "DescriptionStyleModel",
            "_view_count": null,
            "_view_module": "@jupyter-widgets/base",
            "_view_module_version": "1.2.0",
            "_view_name": "StyleView",
            "description_width": ""
          }
        },
        "931f02377be54d72aac2cd4fcc98fae7": {
          "model_module": "@jupyter-widgets/controls",
          "model_name": "HBoxModel",
          "model_module_version": "1.5.0",
          "state": {
            "_dom_classes": [],
            "_model_module": "@jupyter-widgets/controls",
            "_model_module_version": "1.5.0",
            "_model_name": "HBoxModel",
            "_view_count": null,
            "_view_module": "@jupyter-widgets/controls",
            "_view_module_version": "1.5.0",
            "_view_name": "HBoxView",
            "box_style": "",
            "children": [
              "IPY_MODEL_5ff0bae6acd04b3fbf7d455ca303c6de",
              "IPY_MODEL_b8296d17ad334dc990117390b05988ef",
              "IPY_MODEL_be5a16cfd7bd41fbab948fc04e948a99"
            ],
            "layout": "IPY_MODEL_a1fcc70aba6b4e08a319222fc22f28f7"
          }
        },
        "5ff0bae6acd04b3fbf7d455ca303c6de": {
          "model_module": "@jupyter-widgets/controls",
          "model_name": "HTMLModel",
          "model_module_version": "1.5.0",
          "state": {
            "_dom_classes": [],
            "_model_module": "@jupyter-widgets/controls",
            "_model_module_version": "1.5.0",
            "_model_name": "HTMLModel",
            "_view_count": null,
            "_view_module": "@jupyter-widgets/controls",
            "_view_module_version": "1.5.0",
            "_view_name": "HTMLView",
            "description": "",
            "description_tooltip": null,
            "layout": "IPY_MODEL_016283aa784e4ae7af97b6724d7330fe",
            "placeholder": "​",
            "style": "IPY_MODEL_ac8be1348b6e4b4ebe6f7dc3f1ca76db",
            "value": "100%"
          }
        },
        "b8296d17ad334dc990117390b05988ef": {
          "model_module": "@jupyter-widgets/controls",
          "model_name": "FloatProgressModel",
          "model_module_version": "1.5.0",
          "state": {
            "_dom_classes": [],
            "_model_module": "@jupyter-widgets/controls",
            "_model_module_version": "1.5.0",
            "_model_name": "FloatProgressModel",
            "_view_count": null,
            "_view_module": "@jupyter-widgets/controls",
            "_view_module_version": "1.5.0",
            "_view_name": "ProgressView",
            "bar_style": "success",
            "description": "",
            "description_tooltip": null,
            "layout": "IPY_MODEL_a9e54f9975804d9a807f05d450689a68",
            "max": 9912422,
            "min": 0,
            "orientation": "horizontal",
            "style": "IPY_MODEL_50139d3749e34a259e26ff14ea82d7ac",
            "value": 9912422
          }
        },
        "be5a16cfd7bd41fbab948fc04e948a99": {
          "model_module": "@jupyter-widgets/controls",
          "model_name": "HTMLModel",
          "model_module_version": "1.5.0",
          "state": {
            "_dom_classes": [],
            "_model_module": "@jupyter-widgets/controls",
            "_model_module_version": "1.5.0",
            "_model_name": "HTMLModel",
            "_view_count": null,
            "_view_module": "@jupyter-widgets/controls",
            "_view_module_version": "1.5.0",
            "_view_name": "HTMLView",
            "description": "",
            "description_tooltip": null,
            "layout": "IPY_MODEL_e1af9ad0f0324d00823b7ee7e143bcfb",
            "placeholder": "​",
            "style": "IPY_MODEL_58c8f2a68aec4fa9a270e0df69e3f1c4",
            "value": " 9912422/9912422 [00:00&lt;00:00, 24233840.84it/s]"
          }
        },
        "a1fcc70aba6b4e08a319222fc22f28f7": {
          "model_module": "@jupyter-widgets/base",
          "model_name": "LayoutModel",
          "model_module_version": "1.2.0",
          "state": {
            "_model_module": "@jupyter-widgets/base",
            "_model_module_version": "1.2.0",
            "_model_name": "LayoutModel",
            "_view_count": null,
            "_view_module": "@jupyter-widgets/base",
            "_view_module_version": "1.2.0",
            "_view_name": "LayoutView",
            "align_content": null,
            "align_items": null,
            "align_self": null,
            "border": null,
            "bottom": null,
            "display": null,
            "flex": null,
            "flex_flow": null,
            "grid_area": null,
            "grid_auto_columns": null,
            "grid_auto_flow": null,
            "grid_auto_rows": null,
            "grid_column": null,
            "grid_gap": null,
            "grid_row": null,
            "grid_template_areas": null,
            "grid_template_columns": null,
            "grid_template_rows": null,
            "height": null,
            "justify_content": null,
            "justify_items": null,
            "left": null,
            "margin": null,
            "max_height": null,
            "max_width": null,
            "min_height": null,
            "min_width": null,
            "object_fit": null,
            "object_position": null,
            "order": null,
            "overflow": null,
            "overflow_x": null,
            "overflow_y": null,
            "padding": null,
            "right": null,
            "top": null,
            "visibility": null,
            "width": null
          }
        },
        "016283aa784e4ae7af97b6724d7330fe": {
          "model_module": "@jupyter-widgets/base",
          "model_name": "LayoutModel",
          "model_module_version": "1.2.0",
          "state": {
            "_model_module": "@jupyter-widgets/base",
            "_model_module_version": "1.2.0",
            "_model_name": "LayoutModel",
            "_view_count": null,
            "_view_module": "@jupyter-widgets/base",
            "_view_module_version": "1.2.0",
            "_view_name": "LayoutView",
            "align_content": null,
            "align_items": null,
            "align_self": null,
            "border": null,
            "bottom": null,
            "display": null,
            "flex": null,
            "flex_flow": null,
            "grid_area": null,
            "grid_auto_columns": null,
            "grid_auto_flow": null,
            "grid_auto_rows": null,
            "grid_column": null,
            "grid_gap": null,
            "grid_row": null,
            "grid_template_areas": null,
            "grid_template_columns": null,
            "grid_template_rows": null,
            "height": null,
            "justify_content": null,
            "justify_items": null,
            "left": null,
            "margin": null,
            "max_height": null,
            "max_width": null,
            "min_height": null,
            "min_width": null,
            "object_fit": null,
            "object_position": null,
            "order": null,
            "overflow": null,
            "overflow_x": null,
            "overflow_y": null,
            "padding": null,
            "right": null,
            "top": null,
            "visibility": null,
            "width": null
          }
        },
        "ac8be1348b6e4b4ebe6f7dc3f1ca76db": {
          "model_module": "@jupyter-widgets/controls",
          "model_name": "DescriptionStyleModel",
          "model_module_version": "1.5.0",
          "state": {
            "_model_module": "@jupyter-widgets/controls",
            "_model_module_version": "1.5.0",
            "_model_name": "DescriptionStyleModel",
            "_view_count": null,
            "_view_module": "@jupyter-widgets/base",
            "_view_module_version": "1.2.0",
            "_view_name": "StyleView",
            "description_width": ""
          }
        },
        "a9e54f9975804d9a807f05d450689a68": {
          "model_module": "@jupyter-widgets/base",
          "model_name": "LayoutModel",
          "model_module_version": "1.2.0",
          "state": {
            "_model_module": "@jupyter-widgets/base",
            "_model_module_version": "1.2.0",
            "_model_name": "LayoutModel",
            "_view_count": null,
            "_view_module": "@jupyter-widgets/base",
            "_view_module_version": "1.2.0",
            "_view_name": "LayoutView",
            "align_content": null,
            "align_items": null,
            "align_self": null,
            "border": null,
            "bottom": null,
            "display": null,
            "flex": null,
            "flex_flow": null,
            "grid_area": null,
            "grid_auto_columns": null,
            "grid_auto_flow": null,
            "grid_auto_rows": null,
            "grid_column": null,
            "grid_gap": null,
            "grid_row": null,
            "grid_template_areas": null,
            "grid_template_columns": null,
            "grid_template_rows": null,
            "height": null,
            "justify_content": null,
            "justify_items": null,
            "left": null,
            "margin": null,
            "max_height": null,
            "max_width": null,
            "min_height": null,
            "min_width": null,
            "object_fit": null,
            "object_position": null,
            "order": null,
            "overflow": null,
            "overflow_x": null,
            "overflow_y": null,
            "padding": null,
            "right": null,
            "top": null,
            "visibility": null,
            "width": null
          }
        },
        "50139d3749e34a259e26ff14ea82d7ac": {
          "model_module": "@jupyter-widgets/controls",
          "model_name": "ProgressStyleModel",
          "model_module_version": "1.5.0",
          "state": {
            "_model_module": "@jupyter-widgets/controls",
            "_model_module_version": "1.5.0",
            "_model_name": "ProgressStyleModel",
            "_view_count": null,
            "_view_module": "@jupyter-widgets/base",
            "_view_module_version": "1.2.0",
            "_view_name": "StyleView",
            "bar_color": null,
            "description_width": ""
          }
        },
        "e1af9ad0f0324d00823b7ee7e143bcfb": {
          "model_module": "@jupyter-widgets/base",
          "model_name": "LayoutModel",
          "model_module_version": "1.2.0",
          "state": {
            "_model_module": "@jupyter-widgets/base",
            "_model_module_version": "1.2.0",
            "_model_name": "LayoutModel",
            "_view_count": null,
            "_view_module": "@jupyter-widgets/base",
            "_view_module_version": "1.2.0",
            "_view_name": "LayoutView",
            "align_content": null,
            "align_items": null,
            "align_self": null,
            "border": null,
            "bottom": null,
            "display": null,
            "flex": null,
            "flex_flow": null,
            "grid_area": null,
            "grid_auto_columns": null,
            "grid_auto_flow": null,
            "grid_auto_rows": null,
            "grid_column": null,
            "grid_gap": null,
            "grid_row": null,
            "grid_template_areas": null,
            "grid_template_columns": null,
            "grid_template_rows": null,
            "height": null,
            "justify_content": null,
            "justify_items": null,
            "left": null,
            "margin": null,
            "max_height": null,
            "max_width": null,
            "min_height": null,
            "min_width": null,
            "object_fit": null,
            "object_position": null,
            "order": null,
            "overflow": null,
            "overflow_x": null,
            "overflow_y": null,
            "padding": null,
            "right": null,
            "top": null,
            "visibility": null,
            "width": null
          }
        },
        "58c8f2a68aec4fa9a270e0df69e3f1c4": {
          "model_module": "@jupyter-widgets/controls",
          "model_name": "DescriptionStyleModel",
          "model_module_version": "1.5.0",
          "state": {
            "_model_module": "@jupyter-widgets/controls",
            "_model_module_version": "1.5.0",
            "_model_name": "DescriptionStyleModel",
            "_view_count": null,
            "_view_module": "@jupyter-widgets/base",
            "_view_module_version": "1.2.0",
            "_view_name": "StyleView",
            "description_width": ""
          }
        },
        "22a534adeafc440da02d8702a07fd8e0": {
          "model_module": "@jupyter-widgets/controls",
          "model_name": "HBoxModel",
          "model_module_version": "1.5.0",
          "state": {
            "_dom_classes": [],
            "_model_module": "@jupyter-widgets/controls",
            "_model_module_version": "1.5.0",
            "_model_name": "HBoxModel",
            "_view_count": null,
            "_view_module": "@jupyter-widgets/controls",
            "_view_module_version": "1.5.0",
            "_view_name": "HBoxView",
            "box_style": "",
            "children": [
              "IPY_MODEL_452208130b0849e8bdff11d80debc9c3",
              "IPY_MODEL_6d4467687e6347e5932eab1eafca7425",
              "IPY_MODEL_89e14e9fea5648f783f689d8c467d5c7"
            ],
            "layout": "IPY_MODEL_4248f29bd23c4eb9aba335ae806c479a"
          }
        },
        "452208130b0849e8bdff11d80debc9c3": {
          "model_module": "@jupyter-widgets/controls",
          "model_name": "HTMLModel",
          "model_module_version": "1.5.0",
          "state": {
            "_dom_classes": [],
            "_model_module": "@jupyter-widgets/controls",
            "_model_module_version": "1.5.0",
            "_model_name": "HTMLModel",
            "_view_count": null,
            "_view_module": "@jupyter-widgets/controls",
            "_view_module_version": "1.5.0",
            "_view_name": "HTMLView",
            "description": "",
            "description_tooltip": null,
            "layout": "IPY_MODEL_10af5d81a6b94226adb677c1d248054b",
            "placeholder": "​",
            "style": "IPY_MODEL_33c0051fbb204feabac82728a479a143",
            "value": "100%"
          }
        },
        "6d4467687e6347e5932eab1eafca7425": {
          "model_module": "@jupyter-widgets/controls",
          "model_name": "FloatProgressModel",
          "model_module_version": "1.5.0",
          "state": {
            "_dom_classes": [],
            "_model_module": "@jupyter-widgets/controls",
            "_model_module_version": "1.5.0",
            "_model_name": "FloatProgressModel",
            "_view_count": null,
            "_view_module": "@jupyter-widgets/controls",
            "_view_module_version": "1.5.0",
            "_view_name": "ProgressView",
            "bar_style": "success",
            "description": "",
            "description_tooltip": null,
            "layout": "IPY_MODEL_289e61579ea542d399ecf66174109faf",
            "max": 28881,
            "min": 0,
            "orientation": "horizontal",
            "style": "IPY_MODEL_d9de2932adea47baa43bc557085e566f",
            "value": 28881
          }
        },
        "89e14e9fea5648f783f689d8c467d5c7": {
          "model_module": "@jupyter-widgets/controls",
          "model_name": "HTMLModel",
          "model_module_version": "1.5.0",
          "state": {
            "_dom_classes": [],
            "_model_module": "@jupyter-widgets/controls",
            "_model_module_version": "1.5.0",
            "_model_name": "HTMLModel",
            "_view_count": null,
            "_view_module": "@jupyter-widgets/controls",
            "_view_module_version": "1.5.0",
            "_view_name": "HTMLView",
            "description": "",
            "description_tooltip": null,
            "layout": "IPY_MODEL_3923d0a417814d59a600b11666c7a881",
            "placeholder": "​",
            "style": "IPY_MODEL_7e072843ef34451c83db9a20caf1aa6f",
            "value": " 28881/28881 [00:00&lt;00:00, 412190.20it/s]"
          }
        },
        "4248f29bd23c4eb9aba335ae806c479a": {
          "model_module": "@jupyter-widgets/base",
          "model_name": "LayoutModel",
          "model_module_version": "1.2.0",
          "state": {
            "_model_module": "@jupyter-widgets/base",
            "_model_module_version": "1.2.0",
            "_model_name": "LayoutModel",
            "_view_count": null,
            "_view_module": "@jupyter-widgets/base",
            "_view_module_version": "1.2.0",
            "_view_name": "LayoutView",
            "align_content": null,
            "align_items": null,
            "align_self": null,
            "border": null,
            "bottom": null,
            "display": null,
            "flex": null,
            "flex_flow": null,
            "grid_area": null,
            "grid_auto_columns": null,
            "grid_auto_flow": null,
            "grid_auto_rows": null,
            "grid_column": null,
            "grid_gap": null,
            "grid_row": null,
            "grid_template_areas": null,
            "grid_template_columns": null,
            "grid_template_rows": null,
            "height": null,
            "justify_content": null,
            "justify_items": null,
            "left": null,
            "margin": null,
            "max_height": null,
            "max_width": null,
            "min_height": null,
            "min_width": null,
            "object_fit": null,
            "object_position": null,
            "order": null,
            "overflow": null,
            "overflow_x": null,
            "overflow_y": null,
            "padding": null,
            "right": null,
            "top": null,
            "visibility": null,
            "width": null
          }
        },
        "10af5d81a6b94226adb677c1d248054b": {
          "model_module": "@jupyter-widgets/base",
          "model_name": "LayoutModel",
          "model_module_version": "1.2.0",
          "state": {
            "_model_module": "@jupyter-widgets/base",
            "_model_module_version": "1.2.0",
            "_model_name": "LayoutModel",
            "_view_count": null,
            "_view_module": "@jupyter-widgets/base",
            "_view_module_version": "1.2.0",
            "_view_name": "LayoutView",
            "align_content": null,
            "align_items": null,
            "align_self": null,
            "border": null,
            "bottom": null,
            "display": null,
            "flex": null,
            "flex_flow": null,
            "grid_area": null,
            "grid_auto_columns": null,
            "grid_auto_flow": null,
            "grid_auto_rows": null,
            "grid_column": null,
            "grid_gap": null,
            "grid_row": null,
            "grid_template_areas": null,
            "grid_template_columns": null,
            "grid_template_rows": null,
            "height": null,
            "justify_content": null,
            "justify_items": null,
            "left": null,
            "margin": null,
            "max_height": null,
            "max_width": null,
            "min_height": null,
            "min_width": null,
            "object_fit": null,
            "object_position": null,
            "order": null,
            "overflow": null,
            "overflow_x": null,
            "overflow_y": null,
            "padding": null,
            "right": null,
            "top": null,
            "visibility": null,
            "width": null
          }
        },
        "33c0051fbb204feabac82728a479a143": {
          "model_module": "@jupyter-widgets/controls",
          "model_name": "DescriptionStyleModel",
          "model_module_version": "1.5.0",
          "state": {
            "_model_module": "@jupyter-widgets/controls",
            "_model_module_version": "1.5.0",
            "_model_name": "DescriptionStyleModel",
            "_view_count": null,
            "_view_module": "@jupyter-widgets/base",
            "_view_module_version": "1.2.0",
            "_view_name": "StyleView",
            "description_width": ""
          }
        },
        "289e61579ea542d399ecf66174109faf": {
          "model_module": "@jupyter-widgets/base",
          "model_name": "LayoutModel",
          "model_module_version": "1.2.0",
          "state": {
            "_model_module": "@jupyter-widgets/base",
            "_model_module_version": "1.2.0",
            "_model_name": "LayoutModel",
            "_view_count": null,
            "_view_module": "@jupyter-widgets/base",
            "_view_module_version": "1.2.0",
            "_view_name": "LayoutView",
            "align_content": null,
            "align_items": null,
            "align_self": null,
            "border": null,
            "bottom": null,
            "display": null,
            "flex": null,
            "flex_flow": null,
            "grid_area": null,
            "grid_auto_columns": null,
            "grid_auto_flow": null,
            "grid_auto_rows": null,
            "grid_column": null,
            "grid_gap": null,
            "grid_row": null,
            "grid_template_areas": null,
            "grid_template_columns": null,
            "grid_template_rows": null,
            "height": null,
            "justify_content": null,
            "justify_items": null,
            "left": null,
            "margin": null,
            "max_height": null,
            "max_width": null,
            "min_height": null,
            "min_width": null,
            "object_fit": null,
            "object_position": null,
            "order": null,
            "overflow": null,
            "overflow_x": null,
            "overflow_y": null,
            "padding": null,
            "right": null,
            "top": null,
            "visibility": null,
            "width": null
          }
        },
        "d9de2932adea47baa43bc557085e566f": {
          "model_module": "@jupyter-widgets/controls",
          "model_name": "ProgressStyleModel",
          "model_module_version": "1.5.0",
          "state": {
            "_model_module": "@jupyter-widgets/controls",
            "_model_module_version": "1.5.0",
            "_model_name": "ProgressStyleModel",
            "_view_count": null,
            "_view_module": "@jupyter-widgets/base",
            "_view_module_version": "1.2.0",
            "_view_name": "StyleView",
            "bar_color": null,
            "description_width": ""
          }
        },
        "3923d0a417814d59a600b11666c7a881": {
          "model_module": "@jupyter-widgets/base",
          "model_name": "LayoutModel",
          "model_module_version": "1.2.0",
          "state": {
            "_model_module": "@jupyter-widgets/base",
            "_model_module_version": "1.2.0",
            "_model_name": "LayoutModel",
            "_view_count": null,
            "_view_module": "@jupyter-widgets/base",
            "_view_module_version": "1.2.0",
            "_view_name": "LayoutView",
            "align_content": null,
            "align_items": null,
            "align_self": null,
            "border": null,
            "bottom": null,
            "display": null,
            "flex": null,
            "flex_flow": null,
            "grid_area": null,
            "grid_auto_columns": null,
            "grid_auto_flow": null,
            "grid_auto_rows": null,
            "grid_column": null,
            "grid_gap": null,
            "grid_row": null,
            "grid_template_areas": null,
            "grid_template_columns": null,
            "grid_template_rows": null,
            "height": null,
            "justify_content": null,
            "justify_items": null,
            "left": null,
            "margin": null,
            "max_height": null,
            "max_width": null,
            "min_height": null,
            "min_width": null,
            "object_fit": null,
            "object_position": null,
            "order": null,
            "overflow": null,
            "overflow_x": null,
            "overflow_y": null,
            "padding": null,
            "right": null,
            "top": null,
            "visibility": null,
            "width": null
          }
        },
        "7e072843ef34451c83db9a20caf1aa6f": {
          "model_module": "@jupyter-widgets/controls",
          "model_name": "DescriptionStyleModel",
          "model_module_version": "1.5.0",
          "state": {
            "_model_module": "@jupyter-widgets/controls",
            "_model_module_version": "1.5.0",
            "_model_name": "DescriptionStyleModel",
            "_view_count": null,
            "_view_module": "@jupyter-widgets/base",
            "_view_module_version": "1.2.0",
            "_view_name": "StyleView",
            "description_width": ""
          }
        },
        "50a5e1646e264a98be7b68757ab3643f": {
          "model_module": "@jupyter-widgets/controls",
          "model_name": "HBoxModel",
          "model_module_version": "1.5.0",
          "state": {
            "_dom_classes": [],
            "_model_module": "@jupyter-widgets/controls",
            "_model_module_version": "1.5.0",
            "_model_name": "HBoxModel",
            "_view_count": null,
            "_view_module": "@jupyter-widgets/controls",
            "_view_module_version": "1.5.0",
            "_view_name": "HBoxView",
            "box_style": "",
            "children": [
              "IPY_MODEL_089468ed38a644809646036cbdbdf9ef",
              "IPY_MODEL_2730da1c67e249d28e5308c7cb8bd381",
              "IPY_MODEL_054a55dacb714302ab1338c38fad33c7"
            ],
            "layout": "IPY_MODEL_ac20379d62a44ea38d0c9ea6deb1fcea"
          }
        },
        "089468ed38a644809646036cbdbdf9ef": {
          "model_module": "@jupyter-widgets/controls",
          "model_name": "HTMLModel",
          "model_module_version": "1.5.0",
          "state": {
            "_dom_classes": [],
            "_model_module": "@jupyter-widgets/controls",
            "_model_module_version": "1.5.0",
            "_model_name": "HTMLModel",
            "_view_count": null,
            "_view_module": "@jupyter-widgets/controls",
            "_view_module_version": "1.5.0",
            "_view_name": "HTMLView",
            "description": "",
            "description_tooltip": null,
            "layout": "IPY_MODEL_a89a3cc608c9489f838545bca42d9592",
            "placeholder": "​",
            "style": "IPY_MODEL_c7b2551b4eca4f19b70f6998810dadd2",
            "value": "100%"
          }
        },
        "2730da1c67e249d28e5308c7cb8bd381": {
          "model_module": "@jupyter-widgets/controls",
          "model_name": "FloatProgressModel",
          "model_module_version": "1.5.0",
          "state": {
            "_dom_classes": [],
            "_model_module": "@jupyter-widgets/controls",
            "_model_module_version": "1.5.0",
            "_model_name": "FloatProgressModel",
            "_view_count": null,
            "_view_module": "@jupyter-widgets/controls",
            "_view_module_version": "1.5.0",
            "_view_name": "ProgressView",
            "bar_style": "success",
            "description": "",
            "description_tooltip": null,
            "layout": "IPY_MODEL_fb64451853154c98b375a9ed485dfeed",
            "max": 1648877,
            "min": 0,
            "orientation": "horizontal",
            "style": "IPY_MODEL_de39e7593623421985930ed7a2639008",
            "value": 1648877
          }
        },
        "054a55dacb714302ab1338c38fad33c7": {
          "model_module": "@jupyter-widgets/controls",
          "model_name": "HTMLModel",
          "model_module_version": "1.5.0",
          "state": {
            "_dom_classes": [],
            "_model_module": "@jupyter-widgets/controls",
            "_model_module_version": "1.5.0",
            "_model_name": "HTMLModel",
            "_view_count": null,
            "_view_module": "@jupyter-widgets/controls",
            "_view_module_version": "1.5.0",
            "_view_name": "HTMLView",
            "description": "",
            "description_tooltip": null,
            "layout": "IPY_MODEL_ca25c4d959c242cf81a42fb1fe4faba3",
            "placeholder": "​",
            "style": "IPY_MODEL_d199d6b3061147fcb0b397515147894d",
            "value": " 1648877/1648877 [00:00&lt;00:00, 17361518.37it/s]"
          }
        },
        "ac20379d62a44ea38d0c9ea6deb1fcea": {
          "model_module": "@jupyter-widgets/base",
          "model_name": "LayoutModel",
          "model_module_version": "1.2.0",
          "state": {
            "_model_module": "@jupyter-widgets/base",
            "_model_module_version": "1.2.0",
            "_model_name": "LayoutModel",
            "_view_count": null,
            "_view_module": "@jupyter-widgets/base",
            "_view_module_version": "1.2.0",
            "_view_name": "LayoutView",
            "align_content": null,
            "align_items": null,
            "align_self": null,
            "border": null,
            "bottom": null,
            "display": null,
            "flex": null,
            "flex_flow": null,
            "grid_area": null,
            "grid_auto_columns": null,
            "grid_auto_flow": null,
            "grid_auto_rows": null,
            "grid_column": null,
            "grid_gap": null,
            "grid_row": null,
            "grid_template_areas": null,
            "grid_template_columns": null,
            "grid_template_rows": null,
            "height": null,
            "justify_content": null,
            "justify_items": null,
            "left": null,
            "margin": null,
            "max_height": null,
            "max_width": null,
            "min_height": null,
            "min_width": null,
            "object_fit": null,
            "object_position": null,
            "order": null,
            "overflow": null,
            "overflow_x": null,
            "overflow_y": null,
            "padding": null,
            "right": null,
            "top": null,
            "visibility": null,
            "width": null
          }
        },
        "a89a3cc608c9489f838545bca42d9592": {
          "model_module": "@jupyter-widgets/base",
          "model_name": "LayoutModel",
          "model_module_version": "1.2.0",
          "state": {
            "_model_module": "@jupyter-widgets/base",
            "_model_module_version": "1.2.0",
            "_model_name": "LayoutModel",
            "_view_count": null,
            "_view_module": "@jupyter-widgets/base",
            "_view_module_version": "1.2.0",
            "_view_name": "LayoutView",
            "align_content": null,
            "align_items": null,
            "align_self": null,
            "border": null,
            "bottom": null,
            "display": null,
            "flex": null,
            "flex_flow": null,
            "grid_area": null,
            "grid_auto_columns": null,
            "grid_auto_flow": null,
            "grid_auto_rows": null,
            "grid_column": null,
            "grid_gap": null,
            "grid_row": null,
            "grid_template_areas": null,
            "grid_template_columns": null,
            "grid_template_rows": null,
            "height": null,
            "justify_content": null,
            "justify_items": null,
            "left": null,
            "margin": null,
            "max_height": null,
            "max_width": null,
            "min_height": null,
            "min_width": null,
            "object_fit": null,
            "object_position": null,
            "order": null,
            "overflow": null,
            "overflow_x": null,
            "overflow_y": null,
            "padding": null,
            "right": null,
            "top": null,
            "visibility": null,
            "width": null
          }
        },
        "c7b2551b4eca4f19b70f6998810dadd2": {
          "model_module": "@jupyter-widgets/controls",
          "model_name": "DescriptionStyleModel",
          "model_module_version": "1.5.0",
          "state": {
            "_model_module": "@jupyter-widgets/controls",
            "_model_module_version": "1.5.0",
            "_model_name": "DescriptionStyleModel",
            "_view_count": null,
            "_view_module": "@jupyter-widgets/base",
            "_view_module_version": "1.2.0",
            "_view_name": "StyleView",
            "description_width": ""
          }
        },
        "fb64451853154c98b375a9ed485dfeed": {
          "model_module": "@jupyter-widgets/base",
          "model_name": "LayoutModel",
          "model_module_version": "1.2.0",
          "state": {
            "_model_module": "@jupyter-widgets/base",
            "_model_module_version": "1.2.0",
            "_model_name": "LayoutModel",
            "_view_count": null,
            "_view_module": "@jupyter-widgets/base",
            "_view_module_version": "1.2.0",
            "_view_name": "LayoutView",
            "align_content": null,
            "align_items": null,
            "align_self": null,
            "border": null,
            "bottom": null,
            "display": null,
            "flex": null,
            "flex_flow": null,
            "grid_area": null,
            "grid_auto_columns": null,
            "grid_auto_flow": null,
            "grid_auto_rows": null,
            "grid_column": null,
            "grid_gap": null,
            "grid_row": null,
            "grid_template_areas": null,
            "grid_template_columns": null,
            "grid_template_rows": null,
            "height": null,
            "justify_content": null,
            "justify_items": null,
            "left": null,
            "margin": null,
            "max_height": null,
            "max_width": null,
            "min_height": null,
            "min_width": null,
            "object_fit": null,
            "object_position": null,
            "order": null,
            "overflow": null,
            "overflow_x": null,
            "overflow_y": null,
            "padding": null,
            "right": null,
            "top": null,
            "visibility": null,
            "width": null
          }
        },
        "de39e7593623421985930ed7a2639008": {
          "model_module": "@jupyter-widgets/controls",
          "model_name": "ProgressStyleModel",
          "model_module_version": "1.5.0",
          "state": {
            "_model_module": "@jupyter-widgets/controls",
            "_model_module_version": "1.5.0",
            "_model_name": "ProgressStyleModel",
            "_view_count": null,
            "_view_module": "@jupyter-widgets/base",
            "_view_module_version": "1.2.0",
            "_view_name": "StyleView",
            "bar_color": null,
            "description_width": ""
          }
        },
        "ca25c4d959c242cf81a42fb1fe4faba3": {
          "model_module": "@jupyter-widgets/base",
          "model_name": "LayoutModel",
          "model_module_version": "1.2.0",
          "state": {
            "_model_module": "@jupyter-widgets/base",
            "_model_module_version": "1.2.0",
            "_model_name": "LayoutModel",
            "_view_count": null,
            "_view_module": "@jupyter-widgets/base",
            "_view_module_version": "1.2.0",
            "_view_name": "LayoutView",
            "align_content": null,
            "align_items": null,
            "align_self": null,
            "border": null,
            "bottom": null,
            "display": null,
            "flex": null,
            "flex_flow": null,
            "grid_area": null,
            "grid_auto_columns": null,
            "grid_auto_flow": null,
            "grid_auto_rows": null,
            "grid_column": null,
            "grid_gap": null,
            "grid_row": null,
            "grid_template_areas": null,
            "grid_template_columns": null,
            "grid_template_rows": null,
            "height": null,
            "justify_content": null,
            "justify_items": null,
            "left": null,
            "margin": null,
            "max_height": null,
            "max_width": null,
            "min_height": null,
            "min_width": null,
            "object_fit": null,
            "object_position": null,
            "order": null,
            "overflow": null,
            "overflow_x": null,
            "overflow_y": null,
            "padding": null,
            "right": null,
            "top": null,
            "visibility": null,
            "width": null
          }
        },
        "d199d6b3061147fcb0b397515147894d": {
          "model_module": "@jupyter-widgets/controls",
          "model_name": "DescriptionStyleModel",
          "model_module_version": "1.5.0",
          "state": {
            "_model_module": "@jupyter-widgets/controls",
            "_model_module_version": "1.5.0",
            "_model_name": "DescriptionStyleModel",
            "_view_count": null,
            "_view_module": "@jupyter-widgets/base",
            "_view_module_version": "1.2.0",
            "_view_name": "StyleView",
            "description_width": ""
          }
        },
        "952ef2d0a9b64cfaa093c1a78b44be91": {
          "model_module": "@jupyter-widgets/controls",
          "model_name": "HBoxModel",
          "model_module_version": "1.5.0",
          "state": {
            "_dom_classes": [],
            "_model_module": "@jupyter-widgets/controls",
            "_model_module_version": "1.5.0",
            "_model_name": "HBoxModel",
            "_view_count": null,
            "_view_module": "@jupyter-widgets/controls",
            "_view_module_version": "1.5.0",
            "_view_name": "HBoxView",
            "box_style": "",
            "children": [
              "IPY_MODEL_749194e42a0c4f148037ca521e3096c2",
              "IPY_MODEL_2225ffcbef204f07b2a2bd9a2ddce99d",
              "IPY_MODEL_0166b8eec5ac4459b02c193e5f21443b"
            ],
            "layout": "IPY_MODEL_aad7e6d5c7b54b749b553d89a5e18f1c"
          }
        },
        "749194e42a0c4f148037ca521e3096c2": {
          "model_module": "@jupyter-widgets/controls",
          "model_name": "HTMLModel",
          "model_module_version": "1.5.0",
          "state": {
            "_dom_classes": [],
            "_model_module": "@jupyter-widgets/controls",
            "_model_module_version": "1.5.0",
            "_model_name": "HTMLModel",
            "_view_count": null,
            "_view_module": "@jupyter-widgets/controls",
            "_view_module_version": "1.5.0",
            "_view_name": "HTMLView",
            "description": "",
            "description_tooltip": null,
            "layout": "IPY_MODEL_1d485cc51d5a4c409ca866def8ecf719",
            "placeholder": "​",
            "style": "IPY_MODEL_292b11c01c1c4926b27c410959d850ae",
            "value": "100%"
          }
        },
        "2225ffcbef204f07b2a2bd9a2ddce99d": {
          "model_module": "@jupyter-widgets/controls",
          "model_name": "FloatProgressModel",
          "model_module_version": "1.5.0",
          "state": {
            "_dom_classes": [],
            "_model_module": "@jupyter-widgets/controls",
            "_model_module_version": "1.5.0",
            "_model_name": "FloatProgressModel",
            "_view_count": null,
            "_view_module": "@jupyter-widgets/controls",
            "_view_module_version": "1.5.0",
            "_view_name": "ProgressView",
            "bar_style": "success",
            "description": "",
            "description_tooltip": null,
            "layout": "IPY_MODEL_7fc66fff80854946ba18b94ebc21c58c",
            "max": 4542,
            "min": 0,
            "orientation": "horizontal",
            "style": "IPY_MODEL_0b71ea803c334379b80148495e0861c2",
            "value": 4542
          }
        },
        "0166b8eec5ac4459b02c193e5f21443b": {
          "model_module": "@jupyter-widgets/controls",
          "model_name": "HTMLModel",
          "model_module_version": "1.5.0",
          "state": {
            "_dom_classes": [],
            "_model_module": "@jupyter-widgets/controls",
            "_model_module_version": "1.5.0",
            "_model_name": "HTMLModel",
            "_view_count": null,
            "_view_module": "@jupyter-widgets/controls",
            "_view_module_version": "1.5.0",
            "_view_name": "HTMLView",
            "description": "",
            "description_tooltip": null,
            "layout": "IPY_MODEL_f061fad1b48c42ccab0a8ce81e232f44",
            "placeholder": "​",
            "style": "IPY_MODEL_90ddc49269d94f7b967eee795dcc7d43",
            "value": " 4542/4542 [00:00&lt;00:00, 115188.28it/s]"
          }
        },
        "aad7e6d5c7b54b749b553d89a5e18f1c": {
          "model_module": "@jupyter-widgets/base",
          "model_name": "LayoutModel",
          "model_module_version": "1.2.0",
          "state": {
            "_model_module": "@jupyter-widgets/base",
            "_model_module_version": "1.2.0",
            "_model_name": "LayoutModel",
            "_view_count": null,
            "_view_module": "@jupyter-widgets/base",
            "_view_module_version": "1.2.0",
            "_view_name": "LayoutView",
            "align_content": null,
            "align_items": null,
            "align_self": null,
            "border": null,
            "bottom": null,
            "display": null,
            "flex": null,
            "flex_flow": null,
            "grid_area": null,
            "grid_auto_columns": null,
            "grid_auto_flow": null,
            "grid_auto_rows": null,
            "grid_column": null,
            "grid_gap": null,
            "grid_row": null,
            "grid_template_areas": null,
            "grid_template_columns": null,
            "grid_template_rows": null,
            "height": null,
            "justify_content": null,
            "justify_items": null,
            "left": null,
            "margin": null,
            "max_height": null,
            "max_width": null,
            "min_height": null,
            "min_width": null,
            "object_fit": null,
            "object_position": null,
            "order": null,
            "overflow": null,
            "overflow_x": null,
            "overflow_y": null,
            "padding": null,
            "right": null,
            "top": null,
            "visibility": null,
            "width": null
          }
        },
        "1d485cc51d5a4c409ca866def8ecf719": {
          "model_module": "@jupyter-widgets/base",
          "model_name": "LayoutModel",
          "model_module_version": "1.2.0",
          "state": {
            "_model_module": "@jupyter-widgets/base",
            "_model_module_version": "1.2.0",
            "_model_name": "LayoutModel",
            "_view_count": null,
            "_view_module": "@jupyter-widgets/base",
            "_view_module_version": "1.2.0",
            "_view_name": "LayoutView",
            "align_content": null,
            "align_items": null,
            "align_self": null,
            "border": null,
            "bottom": null,
            "display": null,
            "flex": null,
            "flex_flow": null,
            "grid_area": null,
            "grid_auto_columns": null,
            "grid_auto_flow": null,
            "grid_auto_rows": null,
            "grid_column": null,
            "grid_gap": null,
            "grid_row": null,
            "grid_template_areas": null,
            "grid_template_columns": null,
            "grid_template_rows": null,
            "height": null,
            "justify_content": null,
            "justify_items": null,
            "left": null,
            "margin": null,
            "max_height": null,
            "max_width": null,
            "min_height": null,
            "min_width": null,
            "object_fit": null,
            "object_position": null,
            "order": null,
            "overflow": null,
            "overflow_x": null,
            "overflow_y": null,
            "padding": null,
            "right": null,
            "top": null,
            "visibility": null,
            "width": null
          }
        },
        "292b11c01c1c4926b27c410959d850ae": {
          "model_module": "@jupyter-widgets/controls",
          "model_name": "DescriptionStyleModel",
          "model_module_version": "1.5.0",
          "state": {
            "_model_module": "@jupyter-widgets/controls",
            "_model_module_version": "1.5.0",
            "_model_name": "DescriptionStyleModel",
            "_view_count": null,
            "_view_module": "@jupyter-widgets/base",
            "_view_module_version": "1.2.0",
            "_view_name": "StyleView",
            "description_width": ""
          }
        },
        "7fc66fff80854946ba18b94ebc21c58c": {
          "model_module": "@jupyter-widgets/base",
          "model_name": "LayoutModel",
          "model_module_version": "1.2.0",
          "state": {
            "_model_module": "@jupyter-widgets/base",
            "_model_module_version": "1.2.0",
            "_model_name": "LayoutModel",
            "_view_count": null,
            "_view_module": "@jupyter-widgets/base",
            "_view_module_version": "1.2.0",
            "_view_name": "LayoutView",
            "align_content": null,
            "align_items": null,
            "align_self": null,
            "border": null,
            "bottom": null,
            "display": null,
            "flex": null,
            "flex_flow": null,
            "grid_area": null,
            "grid_auto_columns": null,
            "grid_auto_flow": null,
            "grid_auto_rows": null,
            "grid_column": null,
            "grid_gap": null,
            "grid_row": null,
            "grid_template_areas": null,
            "grid_template_columns": null,
            "grid_template_rows": null,
            "height": null,
            "justify_content": null,
            "justify_items": null,
            "left": null,
            "margin": null,
            "max_height": null,
            "max_width": null,
            "min_height": null,
            "min_width": null,
            "object_fit": null,
            "object_position": null,
            "order": null,
            "overflow": null,
            "overflow_x": null,
            "overflow_y": null,
            "padding": null,
            "right": null,
            "top": null,
            "visibility": null,
            "width": null
          }
        },
        "0b71ea803c334379b80148495e0861c2": {
          "model_module": "@jupyter-widgets/controls",
          "model_name": "ProgressStyleModel",
          "model_module_version": "1.5.0",
          "state": {
            "_model_module": "@jupyter-widgets/controls",
            "_model_module_version": "1.5.0",
            "_model_name": "ProgressStyleModel",
            "_view_count": null,
            "_view_module": "@jupyter-widgets/base",
            "_view_module_version": "1.2.0",
            "_view_name": "StyleView",
            "bar_color": null,
            "description_width": ""
          }
        },
        "f061fad1b48c42ccab0a8ce81e232f44": {
          "model_module": "@jupyter-widgets/base",
          "model_name": "LayoutModel",
          "model_module_version": "1.2.0",
          "state": {
            "_model_module": "@jupyter-widgets/base",
            "_model_module_version": "1.2.0",
            "_model_name": "LayoutModel",
            "_view_count": null,
            "_view_module": "@jupyter-widgets/base",
            "_view_module_version": "1.2.0",
            "_view_name": "LayoutView",
            "align_content": null,
            "align_items": null,
            "align_self": null,
            "border": null,
            "bottom": null,
            "display": null,
            "flex": null,
            "flex_flow": null,
            "grid_area": null,
            "grid_auto_columns": null,
            "grid_auto_flow": null,
            "grid_auto_rows": null,
            "grid_column": null,
            "grid_gap": null,
            "grid_row": null,
            "grid_template_areas": null,
            "grid_template_columns": null,
            "grid_template_rows": null,
            "height": null,
            "justify_content": null,
            "justify_items": null,
            "left": null,
            "margin": null,
            "max_height": null,
            "max_width": null,
            "min_height": null,
            "min_width": null,
            "object_fit": null,
            "object_position": null,
            "order": null,
            "overflow": null,
            "overflow_x": null,
            "overflow_y": null,
            "padding": null,
            "right": null,
            "top": null,
            "visibility": null,
            "width": null
          }
        },
        "90ddc49269d94f7b967eee795dcc7d43": {
          "model_module": "@jupyter-widgets/controls",
          "model_name": "DescriptionStyleModel",
          "model_module_version": "1.5.0",
          "state": {
            "_model_module": "@jupyter-widgets/controls",
            "_model_module_version": "1.5.0",
            "_model_name": "DescriptionStyleModel",
            "_view_count": null,
            "_view_module": "@jupyter-widgets/base",
            "_view_module_version": "1.2.0",
            "_view_name": "StyleView",
            "description_width": ""
          }
        }
      }
    }
  },
  "nbformat": 4,
  "nbformat_minor": 5
}