{
  "cells": [
    {
      "cell_type": "markdown",
      "source": [
        "How is MNIST only providing the training and the test sets? What about the validation?\n",
        "\n",
        "In order to perform cross-study comparison of model performance it makes a lot of sense to have a single test set for benchmarking. This way, different investigators can compare their respective models in an \"apples to apples\" manner. The test set is tested only once, as already mentioned, and is in a practical sense the final arbiter of model performance."
      ],
      "metadata": {
        "id": "s6OQUQbC3neR"
      },
      "id": "s6OQUQbC3neR"
    },
    {
      "cell_type": "code",
      "execution_count": 1,
      "metadata": {
        "id": "b85ef51d"
      },
      "outputs": [],
      "source": [
        "import torch\n",
        "from torchvision import datasets, transforms\n",
        "import torch.nn.functional as F\n",
        "from torch.autograd import Variable\n",
        "import torch.optim as optim\n",
        "import numpy as np\n",
        "import random\n",
        "import matplotlib.pyplot as plt\n",
        "import math \n",
        "from tqdm import tqdm\n",
        "import sys\n",
        "from torchvision.datasets import MNIST\n",
        "from torch.utils.data import DataLoader\n",
        "from torch.utils.data import SubsetRandomSampler\n",
        "from PIL import Image\n",
        "from sklearn.metrics import classification_report, confusion_matrix\n",
        "import os\n",
        "from sklearn.metrics import accuracy_score"
      ],
      "id": "b85ef51d"
    },
    {
      "cell_type": "markdown",
      "source": [
        "##To get different random model weights"
      ],
      "metadata": {
        "id": "6GtXtBMUIW6Y"
      },
      "id": "6GtXtBMUIW6Y"
    },
    {
      "cell_type": "code",
      "execution_count": 2,
      "metadata": {
        "id": "RlqaIVwpNhUe"
      },
      "outputs": [],
      "source": [
        "#https://wandb.ai/sauravmaheshkar/RSNA-MICCAI/reports/How-to-Set-Random-Seeds-in-PyTorch-and-Tensorflow--VmlldzoxMDA2MDQy\n",
        "def set_seed(seed: int = 42) -> None:\n",
        "    np.random.seed(seed)\n",
        "    random.seed(seed)\n",
        "    torch.manual_seed(seed)\n",
        "    torch.cuda.manual_seed(seed)\n",
        "    # When running on the CuDNN backend, two further options must be set\n",
        "    torch.backends.cudnn.deterministic = True\n",
        "    torch.backends.cudnn.benchmark = False\n",
        "    # Set a fixed value for the hash seed\n",
        "    os.environ[\"PYTHONHASHSEED\"] = str(seed)\n",
        "    print(f\"Random seed set as {seed}\")\n"
      ],
      "id": "RlqaIVwpNhUe"
    },
    {
      "cell_type": "code",
      "execution_count": 3,
      "metadata": {
        "colab": {
          "base_uri": "https://localhost:8080/"
        },
        "id": "kQI0s3yTe4Qv",
        "outputId": "36b314bd-3900-4f69-c904-b462f4227916"
      },
      "outputs": [
        {
          "output_type": "stream",
          "name": "stdout",
          "text": [
            "Random seed set as 42\n"
          ]
        }
      ],
      "source": [
        "set_seed()"
      ],
      "id": "kQI0s3yTe4Qv"
    },
    {
      "cell_type": "code",
      "execution_count": 4,
      "metadata": {
        "colab": {
          "base_uri": "https://localhost:8080/",
          "height": 746,
          "referenced_widgets": [
            "dada23bf6dc549a6b018a84c66363ebe",
            "4c237f87b5b34ad1ab38758296feb7c6",
            "06177f12ac99473faff8d409f470a0ae",
            "6c5b9711911e49258c4b2237bf19bca9",
            "344cbf1486d44fca9494f3a46616d3ad",
            "c4f6b075b5074bc6a8c6988af1679932",
            "06e2fe6223944984a62327c5d5805f1c",
            "fe568f72b1d3499d99300ed8ebaebd90",
            "05ad10948ad14293b0d6430dfa546de8",
            "2f725bc2594a4a3f9fdc3f3c83d5a7f3",
            "9d3880abfa044937b7244f79fbce7305",
            "cd79c075af9049b286273a0a9597b391",
            "2ff71f39928c46498fb36b74c0f17e21",
            "bdd0f974009c49548fd36ec194050ab9",
            "12819e8218b84ec1b8736afd94c57c3f",
            "61ae603f5536409090686dbd58b6f0d4",
            "80d08eb2a62e49498261c24141f504ac",
            "b6e62633f0374b84afd94f201af0c985",
            "3aff85490efe4719ace688da73d058aa",
            "5c17837d6862472dabefc8e226d7b7c8",
            "8e976323f6ab42fdb8847dfab4ce750a",
            "678c7a3cefbc46b29e5f728373a7a5ef",
            "102ec4adc1964532912fc03ebc60eb6a",
            "c78ff199567c4f5fae3a6085e1114695",
            "9365259b94754f3ba3abd49ecb595f7e",
            "d94a1e96307a489a847d2a2d7265120a",
            "6dd1e09d890c4f05846715f12458b0c3",
            "2cae66f5187e4c4c88fd839a4cbd3798",
            "84911268917d42e6b2e002eaa6b35a47",
            "b7c194488ce6430f99bf395fa67bdfb2",
            "6ba1f97bb05b468d9ef44043708eb020",
            "8b8d29e645044d7d9524e9ba1172c837",
            "9225ecae7fb541c184b1d2efb552136f",
            "90794c047c8c4f48a6b0a1a10a37f5f4",
            "5d04a5cebb46495bacb0d766614e55ae",
            "283f31677ba247799de52a842432dd86",
            "66cb0cd7ab6b4598b0afabe1801672fa",
            "dfd6bdc85e4141b9a751514094661470",
            "232333db6f734f50ac10e353344e9bcb",
            "490c0269be6d4eb2ba3f87f863243528",
            "299bbc9d56e546b88aeb1f9dab10a58f",
            "b9b9ed6f984744e5b8db23ea9434dc95",
            "dd3f0eed76f841f1a693b37ef8def321",
            "111ded8073574bc387e08d8e255da741"
          ]
        },
        "id": "8e96e614",
        "outputId": "a800cd65-5e61-440a-aa54-eb477720181f"
      },
      "outputs": [
        {
          "output_type": "stream",
          "name": "stdout",
          "text": [
            "Downloading http://yann.lecun.com/exdb/mnist/train-images-idx3-ubyte.gz\n",
            "Downloading http://yann.lecun.com/exdb/mnist/train-images-idx3-ubyte.gz to data/MNIST/raw/train-images-idx3-ubyte.gz\n"
          ]
        },
        {
          "output_type": "display_data",
          "data": {
            "text/plain": [
              "  0%|          | 0/9912422 [00:00<?, ?it/s]"
            ],
            "application/vnd.jupyter.widget-view+json": {
              "version_major": 2,
              "version_minor": 0,
              "model_id": "dada23bf6dc549a6b018a84c66363ebe"
            }
          },
          "metadata": {}
        },
        {
          "output_type": "stream",
          "name": "stdout",
          "text": [
            "Extracting data/MNIST/raw/train-images-idx3-ubyte.gz to data/MNIST/raw\n",
            "\n",
            "Downloading http://yann.lecun.com/exdb/mnist/train-labels-idx1-ubyte.gz\n",
            "Downloading http://yann.lecun.com/exdb/mnist/train-labels-idx1-ubyte.gz to data/MNIST/raw/train-labels-idx1-ubyte.gz\n"
          ]
        },
        {
          "output_type": "display_data",
          "data": {
            "text/plain": [
              "  0%|          | 0/28881 [00:00<?, ?it/s]"
            ],
            "application/vnd.jupyter.widget-view+json": {
              "version_major": 2,
              "version_minor": 0,
              "model_id": "cd79c075af9049b286273a0a9597b391"
            }
          },
          "metadata": {}
        },
        {
          "output_type": "stream",
          "name": "stdout",
          "text": [
            "Extracting data/MNIST/raw/train-labels-idx1-ubyte.gz to data/MNIST/raw\n",
            "\n",
            "Downloading http://yann.lecun.com/exdb/mnist/t10k-images-idx3-ubyte.gz\n",
            "Downloading http://yann.lecun.com/exdb/mnist/t10k-images-idx3-ubyte.gz to data/MNIST/raw/t10k-images-idx3-ubyte.gz\n"
          ]
        },
        {
          "output_type": "display_data",
          "data": {
            "text/plain": [
              "  0%|          | 0/1648877 [00:00<?, ?it/s]"
            ],
            "application/vnd.jupyter.widget-view+json": {
              "version_major": 2,
              "version_minor": 0,
              "model_id": "102ec4adc1964532912fc03ebc60eb6a"
            }
          },
          "metadata": {}
        },
        {
          "output_type": "stream",
          "name": "stdout",
          "text": [
            "Extracting data/MNIST/raw/t10k-images-idx3-ubyte.gz to data/MNIST/raw\n",
            "\n",
            "Downloading http://yann.lecun.com/exdb/mnist/t10k-labels-idx1-ubyte.gz\n",
            "Downloading http://yann.lecun.com/exdb/mnist/t10k-labels-idx1-ubyte.gz to data/MNIST/raw/t10k-labels-idx1-ubyte.gz\n"
          ]
        },
        {
          "output_type": "display_data",
          "data": {
            "text/plain": [
              "  0%|          | 0/4542 [00:00<?, ?it/s]"
            ],
            "application/vnd.jupyter.widget-view+json": {
              "version_major": 2,
              "version_minor": 0,
              "model_id": "90794c047c8c4f48a6b0a1a10a37f5f4"
            }
          },
          "metadata": {}
        },
        {
          "output_type": "stream",
          "name": "stdout",
          "text": [
            "Extracting data/MNIST/raw/t10k-labels-idx1-ubyte.gz to data/MNIST/raw\n",
            "\n"
          ]
        },
        {
          "output_type": "display_data",
          "data": {
            "text/plain": [
              "<Figure size 864x432 with 10 Axes>"
            ],
            "image/png": "[encoded data removed]"
          },
          "metadata": {
            "needs_background": "light"
          }
        }
      ],
      "source": [
        "# Define the digits to print original images for\n",
        "digits = [0, 1, 2, 3, 4, 5, 6, 7, 8, 9]\n",
        "\n",
        "# Load MNIST dataset\n",
        "mnist_dataset = MNIST(root='data/', download=True)\n",
        "\n",
        "# Print original images for each digit\n",
        "fig, axs = plt.subplots(2, 5, figsize=(12, 6))\n",
        "for i, ax in enumerate(axs.flat):\n",
        "    digit_indices = np.where(np.array(mnist_dataset.targets) == digits[i])[0]\n",
        "    img = mnist_dataset.data[digit_indices[0]].numpy()\n",
        "    ax.imshow(img)\n",
        "    ax.set_title(f\"Digit {i}\")\n",
        "    ax.axis('off')\n",
        "plt.show()\n"
      ],
      "id": "8e96e614"
    },
    {
      "cell_type": "code",
      "source": [
        "all_noise_maps.shape"
      ],
      "metadata": {
        "colab": {
          "base_uri": "https://localhost:8080/"
        },
        "id": "l5uw2kOHUbAA",
        "outputId": "d2826965-261e-4a96-c1ef-cbfbdf6f45e9"
      },
      "id": "l5uw2kOHUbAA",
      "execution_count": null,
      "outputs": [
        {
          "output_type": "execute_result",
          "data": {
            "text/plain": [
              "(9786, 28, 28)"
            ]
          },
          "metadata": {},
          "execution_count": 35
        }
      ]
    },
    {
      "cell_type": "code",
      "source": [
        "mnist_dataset = MNIST(root='data/',train=False, download=True)\n",
        "mnist_dataset"
      ],
      "metadata": {
        "colab": {
          "base_uri": "https://localhost:8080/"
        },
        "id": "fO8stt-AlT_U",
        "outputId": "077473d3-f2d8-48dd-ba95-adfae259bc72"
      },
      "id": "fO8stt-AlT_U",
      "execution_count": null,
      "outputs": [
        {
          "output_type": "execute_result",
          "data": {
            "text/plain": [
              "Dataset MNIST\n",
              "    Number of datapoints: 10000\n",
              "    Root location: data/\n",
              "    Split: Test"
            ]
          },
          "metadata": {},
          "execution_count": 66
        }
      ]
    },
    {
      "cell_type": "markdown",
      "source": [
        "#Question 3A: Classification image for each digit by white noise equation. First define a function for all the noise images.Then do a loop over for all the images to average them."
      ],
      "metadata": {
        "id": "kjJ4MLhn_kBN"
      },
      "id": "kjJ4MLhn_kBN"
    },
    {
      "cell_type": "code",
      "source": [
        "# Define the gamma value\n",
        "gamma = 0.2\n",
        "\n",
        "# Define the number of samples and image shape\n",
        "n_samples = 500\n",
        "img_shape = (28, 28)\n",
        "\n",
        "# Define the digits to generate noise maps for\n",
        "digits = [0, 1, 2, 3, 4, 5, 6, 7, 8, 9]\n",
        "\n",
        "def generate_noise_maps_per_digit(digit, n_samples, gamma, img_shape=(28, 28)):\n",
        "    noise_maps = []\n",
        "    mnist_dataset = MNIST(root='data/',train=False, download=True)\n",
        "    digit_indices = np.where(np.array(mnist_dataset.targets) == digit)[0]\n",
        "    digit_indices = digit_indices[:n_samples]\n",
        "    for idx in digit_indices:\n",
        "        # Get original image\n",
        "        img = mnist_dataset.data[idx].numpy()\n",
        "        # Generate random noise\n",
        "        noise = np.random.randn(*img_shape)\n",
        "        # Combine noise with original image\n",
        "        noisy_img = gamma * noise + (1 - gamma) * img\n",
        "        noise_maps.append(noisy_img)\n",
        "    return np.array(noise_maps)\n",
        "\n",
        "# Generate noise maps for each digit and average them\n",
        "noise_maps=[]\n",
        "avgd_noise_maps = []\n",
        "for digit in digits:\n",
        "    digit_noise_maps = generate_noise_maps_per_digit(digit, n_samples, gamma, img_shape=(28,28))\n",
        "    avg_noise_map = np.mean(digit_noise_maps, axis=0)\n",
        "    avgd_noise_maps.append(avg_noise_map)\n",
        "    noise_maps.append(digit_noise_maps)\n",
        "\n",
        "all_noise_maps = np.concatenate(noise_maps)\n",
        "    \n",
        "\n",
        "# Plot the noise maps\n",
        "fig, axs = plt.subplots(2, 5, figsize=(12, 6))\n",
        "for i, ax in enumerate(axs.flat):\n",
        "    ax.imshow(avgd_noise_maps[i])\n",
        "    ax.set_title(f\"Class {i}\")\n",
        "    ax.axis('off')\n",
        "plt.show()\n"
      ],
      "metadata": {
        "colab": {
          "base_uri": "https://localhost:8080/",
          "height": 340
        },
        "id": "i9xZpPf0kDGU",
        "outputId": "cae369c7-34fb-4ee8-82dc-781e00ea747e"
      },
      "execution_count": 5,
      "outputs": [
        {
          "output_type": "display_data",
          "data": {
            "text/plain": [
              "<Figure size 864x432 with 10 Axes>"
            ],
            "image/png": "[encoded data removed]"
          },
          "metadata": {
            "needs_background": "light"
          }
        }
      ],
      "id": "i9xZpPf0kDGU"
    },
    {
      "cell_type": "code",
      "source": [
        "all_noise_maps.shape"
      ],
      "metadata": {
        "colab": {
          "base_uri": "https://localhost:8080/"
        },
        "id": "NtSKDjJ_PhCz",
        "outputId": "5e08680a-5572-4bf2-a013-ec2e283c13ed"
      },
      "id": "NtSKDjJ_PhCz",
      "execution_count": null,
      "outputs": [
        {
          "output_type": "execute_result",
          "data": {
            "text/plain": [
              "(9786, 28, 28)"
            ]
          },
          "metadata": {},
          "execution_count": 19
        }
      ]
    },
    {
      "cell_type": "markdown",
      "source": [
        "#This is the noise at the background without MNIST digits. "
      ],
      "metadata": {
        "id": "aAzTzQhfBC0J"
      },
      "id": "aAzTzQhfBC0J"
    },
    {
      "cell_type": "code",
      "execution_count": 6,
      "metadata": {
        "colab": {
          "base_uri": "https://localhost:8080/",
          "height": 1000
        },
        "id": "4cda6b90",
        "outputId": "3ac43ee5-9ce4-4089-813c-075ce0217fb0"
      },
      "outputs": [
        {
          "output_type": "display_data",
          "data": {
            "text/plain": [
              "<Figure size 432x288 with 1 Axes>"
            ],
            "image/png": "[encoded data removed]"
          },
          "metadata": {
            "needs_background": "light"
          }
        },
        {
          "output_type": "display_data",
          "data": {
            "text/plain": [
              "<Figure size 432x288 with 1 Axes>"
            ],
            "image/png": "[encoded data removed]"
          },
          "metadata": {
            "needs_background": "light"
          }
        },
        {
          "output_type": "display_data",
          "data": {
            "text/plain": [
              "<Figure size 432x288 with 1 Axes>"
            ],
            "image/png": "[encoded data removed]"
          },
          "metadata": {
            "needs_background": "light"
          }
        },
        {
          "output_type": "display_data",
          "data": {
            "text/plain": [
              "<Figure size 432x288 with 1 Axes>"
            ],
            "image/png": "[encoded data removed]"
          },
          "metadata": {
            "needs_background": "light"
          }
        },
        {
          "output_type": "display_data",
          "data": {
            "text/plain": [
              "<Figure size 432x288 with 1 Axes>"
            ],
            "image/png": "[encoded data removed]"
          },
          "metadata": {
            "needs_background": "light"
          }
        },
        {
          "output_type": "display_data",
          "data": {
            "text/plain": [
              "<Figure size 432x288 with 1 Axes>"
            ],
            "image/png": "[encoded data removed]"
          },
          "metadata": {
            "needs_background": "light"
          }
        },
        {
          "output_type": "display_data",
          "data": {
            "text/plain": [
              "<Figure size 432x288 with 1 Axes>"
            ],
            "image/png": "[encoded data removed]"
          },
          "metadata": {
            "needs_background": "light"
          }
        },
        {
          "output_type": "display_data",
          "data": {
            "text/plain": [
              "<Figure size 432x288 with 1 Axes>"
            ],
            "image/png": "[encoded data removed]"
          },
          "metadata": {
            "needs_background": "light"
          }
        },
        {
          "output_type": "display_data",
          "data": {
            "text/plain": [
              "<Figure size 432x288 with 1 Axes>"
            ],
            "image/png": "[encoded data removed]"
          },
          "metadata": {
            "needs_background": "light"
          }
        },
        {
          "output_type": "display_data",
          "data": {
            "text/plain": [
              "<Figure size 432x288 with 1 Axes>"
            ],
            "image/png": "[encoded data removed]"
          },
          "metadata": {
            "needs_background": "light"
          }
        }
      ],
      "source": [
        "def generate_noise_maps(n_samples, gamma, img_shape=(28, 28)):\n",
        "    background_noise_maps = []\n",
        "    for _ in range(n_samples):\n",
        "        # Generate random noise\n",
        "        noise = np.random.randn(*img_shape)\n",
        "        # Combine noise with original image\n",
        "        noisy_img = gamma * noise + (1 - gamma) * np.ones(img_shape)\n",
        "        background_noise_maps.append(noisy_img)\n",
        "    return np.array(background_noise_maps)\n",
        "\n",
        "# assuming `noisy_images` is a list of numpy arrays with shape (28, 28)\n",
        "for i in range(len(generate_noise_maps(10,0.4, img_shape=(28, 28)))):\n",
        "    fig, ax = plt.subplots()\n",
        "    ax.imshow(generate_noise_maps(10,0.1, img_shape=(28, 28))[i])\n",
        "    ax.axis('off')\n",
        "    plt.show()\n",
        "\n"
      ],
      "id": "4cda6b90"
    },
    {
      "cell_type": "markdown",
      "source": [
        "#Train the model and test on MNIST test dataset "
      ],
      "metadata": {
        "id": "dXUKoPVGBnA3"
      },
      "id": "dXUKoPVGBnA3"
    },
    {
      "cell_type": "code",
      "execution_count": 7,
      "metadata": {
        "colab": {
          "base_uri": "https://localhost:8080/"
        },
        "id": "oOBV6OUZAtCC",
        "outputId": "b5d86209-73aa-449f-f320-32e7235676c5"
      },
      "outputs": [
        {
          "output_type": "stream",
          "name": "stdout",
          "text": [
            "Epoch 1/20, loss: 0.0225, accuracy: 0.9856\n",
            "Best model saved!\n",
            "Epoch 2/20, loss: 0.0000, accuracy: 0.9896\n",
            "Best model saved!\n",
            "Epoch 3/20, loss: 0.0001, accuracy: 0.9904\n",
            "Best model saved!\n",
            "Epoch 4/20, loss: 0.0058, accuracy: 0.9900\n",
            "Epoch 5/20, loss: 0.0096, accuracy: 0.9916\n",
            "Best model saved!\n",
            "Epoch 6/20, loss: 0.0021, accuracy: 0.9890\n",
            "Epoch 7/20, loss: 0.0000, accuracy: 0.9900\n",
            "Epoch 8/20, loss: 0.0000, accuracy: 0.9909\n",
            "Epoch 9/20, loss: 0.0069, accuracy: 0.9914\n",
            "Epoch 10/20, loss: 0.0000, accuracy: 0.9922\n",
            "Best model saved!\n",
            "Epoch 11/20, loss: 0.0279, accuracy: 0.9915\n",
            "Epoch 12/20, loss: 0.0000, accuracy: 0.9913\n",
            "Epoch 13/20, loss: 0.0513, accuracy: 0.9910\n",
            "Epoch 14/20, loss: 0.0000, accuracy: 0.9912\n",
            "Epoch 15/20, loss: 0.0000, accuracy: 0.9930\n",
            "Best model saved!\n",
            "Epoch 16/20, loss: 0.0000, accuracy: 0.9902\n",
            "Epoch 17/20, loss: 0.0000, accuracy: 0.9935\n",
            "Best model saved!\n",
            "Epoch 18/20, loss: 0.0000, accuracy: 0.9874\n",
            "Epoch 19/20, loss: 0.0237, accuracy: 0.9926\n",
            "Epoch 20/20, loss: 0.0000, accuracy: 0.9903\n"
          ]
        }
      ],
      "source": [
        "# Set device to CPU\n",
        "device = torch.device('cpu')\n",
        "\n",
        "# Define transformations for the data\n",
        "transform = transforms.Compose([\n",
        "    transforms.Grayscale(),\n",
        "    transforms.ToTensor(),\n",
        "    transforms.Normalize((0.1307,), (0.3081,))\n",
        "])\n",
        "\n",
        "# Load the training and test datasets\n",
        "train_dataset = datasets.MNIST('data/', train=True, download=True, transform=transform)\n",
        "test_dataset = datasets.MNIST('data/', train=False, download=True, transform=transform)\n",
        "\n",
        "# Create data loaders for the datasets\n",
        "train_loader = torch.utils.data.DataLoader(train_dataset, batch_size=64, shuffle=True)\n",
        "test_loader = torch.utils.data.DataLoader(test_dataset, batch_size=64, shuffle=False)\n",
        "\n",
        "# Move data and model to device (CUDA or CPU)\n",
        "train_loader = train_loader\n",
        "\n",
        "# set random seed\n",
        "#torch.manual_seed(123)\n",
        "\n",
        "# define the model architecture\n",
        "class Model(torch.nn.Module):\n",
        "    def __init__(self):\n",
        "        super(Model, self).__init__()\n",
        "        self.conv1 = torch.nn.Conv2d(1, 20, kernel_size=5)\n",
        "        self.conv2 = torch.nn.Conv2d(20, 50, kernel_size=5)\n",
        "        self.fc1 = torch.nn.Linear(4*4*50, 500)\n",
        "        self.fc2 = torch.nn.Linear(500, 10)\n",
        "\n",
        "    def forward(self, x):\n",
        "        x = F.relu(F.max_pool2d(self.conv1(x), 2))\n",
        "        x = F.relu(F.max_pool2d(self.conv2(x), 2))\n",
        "        x = x.view(-1, 4*4*50)\n",
        "        x = F.relu(self.fc1(x))\n",
        "        x = self.fc2(x)\n",
        "        x = F.log_softmax(x, dim=1)\n",
        "        return x\n",
        "    \n",
        "    \n",
        "model = Model()\n",
        "    \n",
        "# define the optimizer\n",
        "optimizer = optim.Adam(model.parameters(), lr=1e-3) \n",
        "\n",
        "# define the loss function\n",
        "loss_fn = torch.nn.CrossEntropyLoss()\n",
        "\n",
        "# set the number of epochs\n",
        "EPOCHS = 20\n",
        "\n",
        "# create empty list to store the losses for each batch\n",
        "losses = []\n",
        "\n",
        "# initialize best accuracy to zero\n",
        "best_accuracy = 0\n",
        "\n",
        "# train the model\n",
        "for epoch in range(EPOCHS):\n",
        "    # set the model to train mode\n",
        "    model.train()\n",
        "\n",
        "    # loop over the batches in the training set\n",
        "    for batch_idx, (data, target) in enumerate(train_loader):\n",
        "        data, target = data.cpu(), target.cpu()\n",
        "        # move the data to the device\n",
        "        #data, target = data.to(device), target.to(device)\n",
        "\n",
        "        # zero out the gradients\n",
        "        optimizer.zero_grad()\n",
        "\n",
        "        # forward pass\n",
        "        y_pred = model(data)\n",
        "\n",
        "        # calculate the loss\n",
        "        loss = loss_fn(y_pred, target)\n",
        "\n",
        "        # backward pass\n",
        "        loss.backward()\n",
        "\n",
        "        # update the weights\n",
        "        optimizer.step()\n",
        "\n",
        "        # save the loss for this batch\n",
        "        losses.append(loss.item())\n",
        "\n",
        "    # evaluate the model on the test set\n",
        "    model.eval()\n",
        "\n",
        "    # create empty list to store the predictions\n",
        "    predictions = []\n",
        "\n",
        "    # loop over the batches in the test set\n",
        "    for data, target in test_loader:\n",
        "        # move the data to the device\n",
        "        data = data.cpu()\n",
        "        target = target.cpu()\n",
        "\n",
        "        # forward pass\n",
        "        #output = model([:,None,...])[0]\n",
        "        #output = model(data.unsqueeze(1))[0]\n",
        "        output = model(data)\n",
        "\n",
        "\n",
        "        # get the predicted class\n",
        "        #pred = output.argmax(dim=1, keepdim=True)\n",
        "        \n",
        "        pred = output.data.max(1)[1]\n",
        "        d = pred.eq(target.data).cpu()\n",
        "        accuracy = d.sum().type(dtype=torch.float64)/d.size()[0]\n",
        "\n",
        "        # save the predictions\n",
        "        predictions.append(pred.cpu().numpy())\n",
        "\n",
        "    # concatenate the predictions into a single array\n",
        "    predictions = np.concatenate(predictions)\n",
        "\n",
        "    # calculate the accuracy\n",
        "    test_targets = test_loader.dataset.targets.numpy()\n",
        "    accuracy = np.mean(predictions == test_targets)\n",
        "\n",
        "    # print the loss and accuracy for this epoch\n",
        "    print(f\"Epoch {epoch+1}/{EPOCHS}, loss: {losses[-1]:.4f}, accuracy: {accuracy:.4f}\")\n",
        "\n",
        "    # save the model if it has the best accuracy so far\n",
        "    if accuracy > best_accuracy:\n",
        "        best_accuracy = accuracy\n",
        "        torch.save(model.state_dict(), \"best_model.pt\")\n",
        "        print(\"Best model saved!\")\n",
        "\n"
      ],
      "id": "oOBV6OUZAtCC"
    },
    {
      "cell_type": "markdown",
      "source": [
        "#3B Feed the average noise map back in to the CNN and report which class they are classified as"
      ],
      "metadata": {
        "id": "HNrhTEYxCiWa"
      },
      "id": "HNrhTEYxCiWa"
    },
    {
      "cell_type": "code",
      "source": [
        "# predict on averaged image\n",
        "# Define the number of samples and image shape\n",
        "n_samples = 500\n",
        "img_shape = (28, 28)\n",
        "\n",
        "# Define the digits to generate noise maps for\n",
        "digits = [0, 1, 2, 3, 4, 5, 6, 7, 8, 9]\n",
        "\n",
        "# Define the threshold for predictions\n",
        "threshold = 0.7\n",
        "\n",
        "for digit in digits:\n",
        "    test_tensor = torch.from_numpy((avgd_noise_maps[digit])[None,...]).type(torch.FloatTensor)\n",
        "    output = model(test_tensor)\n",
        "    \n",
        "    # Get the predicted class and corresponding probability\n",
        "    probs = torch.softmax(output, dim=1)\n",
        "    max_prob, pred_class = torch.max(probs, dim=1)\n",
        "    \n",
        "    # Filter out predictions with low confidence\n",
        "    if max_prob >= threshold:\n",
        "        # Convert the noise map to an image\n",
        "        noise_map =avgd_noise_maps[digit]\n",
        "        img = (noise_map * 255)\n",
        "    \n",
        "        # Display the image with the predicted and actual class labels\n",
        "        plt.imshow(img)\n",
        "        plt.title(f\"Predicted: {pred_class.item()}, Actual: {digit}\")\n",
        "        plt.show()"
      ],
      "metadata": {
        "colab": {
          "base_uri": "https://localhost:8080/",
          "height": 1000
        },
        "id": "qCOTBtrrLtaO",
        "outputId": "c3fa01a7-a799-4922-cddd-5f956b61aa05"
      },
      "id": "qCOTBtrrLtaO",
      "execution_count": 8,
      "outputs": [
        {
          "output_type": "display_data",
          "data": {
            "text/plain": [
              "<Figure size 432x288 with 1 Axes>"
            ],
            "image/png": "[encoded data removed]"
          },
          "metadata": {
            "needs_background": "light"
          }
        },
        {
          "output_type": "display_data",
          "data": {
            "text/plain": [
              "<Figure size 432x288 with 1 Axes>"
            ],
            "image/png": "[encoded data removed]"
          },
          "metadata": {
            "needs_background": "light"
          }
        },
        {
          "output_type": "display_data",
          "data": {
            "text/plain": [
              "<Figure size 432x288 with 1 Axes>"
            ],
            "image/png": "[encoded data removed]"
          },
          "metadata": {
            "needs_background": "light"
          }
        },
        {
          "output_type": "display_data",
          "data": {
            "text/plain": [
              "<Figure size 432x288 with 1 Axes>"
            ],
            "image/png": "[encoded data removed]"
          },
          "metadata": {
            "needs_background": "light"
          }
        },
        {
          "output_type": "display_data",
          "data": {
            "text/plain": [
              "<Figure size 432x288 with 1 Axes>"
            ],
            "image/png": "[encoded data removed]"
          },
          "metadata": {
            "needs_background": "light"
          }
        },
        {
          "output_type": "display_data",
          "data": {
            "text/plain": [
              "<Figure size 432x288 with 1 Axes>"
            ],
            "image/png": "[encoded data removed]"
          },
          "metadata": {
            "needs_background": "light"
          }
        },
        {
          "output_type": "display_data",
          "data": {
            "text/plain": [
              "<Figure size 432x288 with 1 Axes>"
            ],
            "image/png": "[encoded data removed]"
          },
          "metadata": {
            "needs_background": "light"
          }
        },
        {
          "output_type": "display_data",
          "data": {
            "text/plain": [
              "<Figure size 432x288 with 1 Axes>"
            ],
            "image/png": "[encoded data removed]"
          },
          "metadata": {
            "needs_background": "light"
          }
        },
        {
          "output_type": "display_data",
          "data": {
            "text/plain": [
              "<Figure size 432x288 with 1 Axes>"
            ],
            "image/png": "[encoded data removed]"
          },
          "metadata": {
            "needs_background": "light"
          }
        },
        {
          "output_type": "display_data",
          "data": {
            "text/plain": [
              "<Figure size 432x288 with 1 Axes>"
            ],
            "image/png": "[encoded data removed]"
          },
          "metadata": {
            "needs_background": "light"
          }
        }
      ]
    },
    {
      "cell_type": "markdown",
      "source": [
        "#3C  Note: Below is the confusion matrix for whole **MNIST dataset** as a test data"
      ],
      "metadata": {
        "id": "QGqkfQst4A9U"
      },
      "id": "QGqkfQst4A9U"
    },
    {
      "cell_type": "code",
      "execution_count": 9,
      "metadata": {
        "colab": {
          "base_uri": "https://localhost:8080/",
          "height": 279
        },
        "id": "1zqShV3mkGUl",
        "outputId": "758c17c6-83e3-4d3b-d32a-8fe4c68ede00"
      },
      "outputs": [
        {
          "output_type": "display_data",
          "data": {
            "text/plain": [
              "<Figure size 432x288 with 2 Axes>"
            ],
            "image/png": "[encoded data removed]"
          },
          "metadata": {
            "needs_background": "light"
          }
        }
      ],
      "source": [
        "# Define the transform to normalize the data\n",
        "transform = transforms.Compose([transforms.ToTensor(),\n",
        "                                transforms.Normalize((0.5,), (0.5,))])\n",
        "\n",
        "# Load the test dataset\n",
        "test_dataset = datasets.MNIST('data/', train=False, download=True, transform=transform)\n",
        "\n",
        "# Create data loader for the test dataset\n",
        "test_loader = torch.utils.data.DataLoader(test_dataset, batch_size=64, shuffle=False)\n",
        "\n",
        "\n",
        "# Set the model to evaluation mode\n",
        "model.eval()\n",
        "\n",
        "# Get the true labels and predicted labels for the test set\n",
        "true_labels = []\n",
        "predicted_labels = []\n",
        "\n",
        "with torch.no_grad():\n",
        "    for images, labels in test_loader:\n",
        "        outputs = model(images)\n",
        "        _, predicted = torch.max(outputs.data, 1)\n",
        "        true_labels += labels.numpy().tolist()\n",
        "        predicted_labels += predicted.numpy().tolist()\n",
        "\n",
        "# Generate the confusion matrix\n",
        "cm = confusion_matrix(true_labels, predicted_labels, normalize='true')\n",
        "\n",
        "# Plot the confusion matrix\n",
        "plt.imshow(cm, cmap='Blues')\n",
        "plt.colorbar()\n",
        "\n",
        "# Add labels to the plot\n",
        "classes = [str(i) for i in range(10)]\n",
        "tick_marks = np.arange(len(classes))\n",
        "plt.xticks(tick_marks, classes)\n",
        "plt.yticks(tick_marks, classes)\n",
        "plt.xlabel('Predicted Labels')\n",
        "plt.ylabel('True Labels')\n",
        "\n",
        "# Add values to the plot\n",
        "thresh = cm.max() / 2.\n",
        "for i in range(cm.shape[0]):\n",
        "    for j in range(cm.shape[1]):\n",
        "        plt.text(j, i, format(cm[i, j], '.2f'),\n",
        "                 ha=\"center\", va=\"center\",\n",
        "                 color=\"white\" if cm[i, j] > thresh else \"black\")\n",
        "\n",
        "# Show the plot\n",
        "plt.show()\n"
      ],
      "id": "1zqShV3mkGUl"
    },
    {
      "cell_type": "code",
      "execution_count": 10,
      "metadata": {
        "colab": {
          "base_uri": "https://localhost:8080/"
        },
        "id": "05JTqiLLuwmy",
        "outputId": "84740cb0-74d7-42ff-a4a7-c041c3bd8558"
      },
      "outputs": [
        {
          "output_type": "stream",
          "name": "stdout",
          "text": [
            "              precision    recall  f1-score   support\n",
            "\n",
            "           0       0.98      0.94      0.96       980\n",
            "           1       0.92      0.99      0.96      1135\n",
            "           2       0.98      0.96      0.97      1032\n",
            "           3       0.97      0.95      0.96      1010\n",
            "           4       0.98      0.91      0.95       982\n",
            "           5       0.97      0.94      0.95       892\n",
            "           6       0.95      0.99      0.97       958\n",
            "           7       0.94      0.92      0.93      1028\n",
            "           8       0.96      0.93      0.95       974\n",
            "           9       0.88      0.97      0.92      1009\n",
            "\n",
            "    accuracy                           0.95     10000\n",
            "   macro avg       0.95      0.95      0.95     10000\n",
            "weighted avg       0.95      0.95      0.95     10000\n",
            "\n"
          ]
        }
      ],
      "source": [
        "# assuming you have y_true and y_pred from your model\n",
        "report = classification_report(true_labels, predicted_labels)\n",
        "\n",
        "print(report)"
      ],
      "id": "05JTqiLLuwmy"
    },
    {
      "cell_type": "markdown",
      "source": [
        "#3C Using all the noise maps as a classifier and report the accuracy scores across all classes with confusion matrices. "
      ],
      "metadata": {
        "id": "atA2LaEMC4Y0"
      },
      "id": "atA2LaEMC4Y0"
    },
    {
      "cell_type": "code",
      "source": [
        "# Define the threshold for predictions\n",
        "threshold = 0.7\n",
        "\n",
        "# Set the model to evaluation mode\n",
        "model.eval()\n",
        "\n",
        "# Get the true labels and predicted labels for the noise maps\n",
        "true_labels = []\n",
        "predicted_labels = []\n",
        "\n",
        "with torch.no_grad():\n",
        "    for i in range(all_noise_maps.shape[0]):\n",
        "        test_tensor = torch.from_numpy(all_noise_maps[i][None,...]).type(torch.FloatTensor)\n",
        "        outputs = model(test_tensor)\n",
        "        prob = torch.softmax(outputs, dim=1)\n",
        "        max_prob, predicted_label = torch.max(prob.data, 1)\n",
        "        if max_prob > threshold:\n",
        "            true_label = i // n_samples  # Get the true label from the digit index\n",
        "            true_labels.append(true_label)\n",
        "            predicted_labels.append(predicted_label.item())\n",
        "\n",
        "# Calculate the accuracy score\n",
        "accuracy = accuracy_score(true_labels, predicted_labels)\n",
        "print('Accuracy:', accuracy)\n",
        "\n",
        "# Generate the confusion matrix\n",
        "cm = confusion_matrix(true_labels, predicted_labels, normalize='true')\n",
        "\n",
        "# Plot the confusion matrix\n",
        "plt.imshow(cm, cmap='Blues')\n",
        "plt.colorbar()\n",
        "\n",
        "# Add labels to the plot\n",
        "classes = [str(i) for i in range(10)]\n",
        "tick_marks = np.arange(len(classes))\n",
        "plt.xticks(tick_marks, classes)\n",
        "plt.yticks(tick_marks, classes)\n",
        "plt.xlabel('Predicted Labels')\n",
        "plt.ylabel('True Labels')\n",
        "\n",
        "# Add values to the plot\n",
        "thresh = cm.max() / 2.\n",
        "for i in range(cm.shape[0]):\n",
        "    for j in range(cm.shape[1]):\n",
        "        plt.text(j, i, format(cm[i, j], '.2f'),\n",
        "                 ha=\"center\", va=\"center\",\n",
        "                 color=\"white\" if cm[i, j] > thresh else \"black\")\n",
        "\n",
        "# Show the plot\n",
        "plt.show()\n"
      ],
      "metadata": {
        "colab": {
          "base_uri": "https://localhost:8080/",
          "height": 296
        },
        "id": "TU41aD-MXxNS",
        "outputId": "bcb85c57-f556-4374-8a60-70013b4a385e"
      },
      "id": "TU41aD-MXxNS",
      "execution_count": 11,
      "outputs": [
        {
          "output_type": "stream",
          "name": "stdout",
          "text": [
            "Accuracy: 0.9755951190238048\n"
          ]
        },
        {
          "output_type": "display_data",
          "data": {
            "text/plain": [
              "<Figure size 432x288 with 2 Axes>"
            ],
            "image/png": "[encoded data removed]"
          },
          "metadata": {
            "needs_background": "light"
          }
        }
      ]
    },
    {
      "cell_type": "code",
      "execution_count": 12,
      "metadata": {
        "colab": {
          "base_uri": "https://localhost:8080/"
        },
        "id": "HKHK9dPbWELl",
        "outputId": "29c8fd67-e655-4e7e-bd09-bff5dbe6d8e0"
      },
      "outputs": [
        {
          "output_type": "stream",
          "name": "stdout",
          "text": [
            "              precision    recall  f1-score   support\n",
            "\n",
            "           0       0.99      0.99      0.99       500\n",
            "           1       1.00      0.98      0.99       500\n",
            "           2       0.97      0.99      0.98       500\n",
            "           3       0.99      0.98      0.98       500\n",
            "           4       0.98      0.96      0.97       500\n",
            "           5       0.98      0.98      0.98       499\n",
            "           6       0.96      0.99      0.97       500\n",
            "           7       1.00      0.93      0.96       500\n",
            "           8       0.95      0.99      0.97       500\n",
            "           9       0.95      0.97      0.96       500\n",
            "\n",
            "    accuracy                           0.98      4999\n",
            "   macro avg       0.98      0.98      0.98      4999\n",
            "weighted avg       0.98      0.98      0.98      4999\n",
            "\n"
          ]
        }
      ],
      "source": [
        "# assuming you have y_true and y_pred from your model\n",
        "report = classification_report(true_labels, predicted_labels)\n",
        "\n",
        "print(report)"
      ],
      "id": "HKHK9dPbWELl"
    },
    {
      "cell_type": "markdown",
      "source": [
        "#EXTRA MATERIAL FROM THE ARTICLE GITHUB"
      ],
      "metadata": {
        "id": "hMKAogbK_UPk"
      },
      "id": "hMKAogbK_UPk"
    },
    {
      "cell_type": "code",
      "execution_count": 13,
      "metadata": {
        "colab": {
          "base_uri": "https://localhost:8080/",
          "height": 265
        },
        "id": "a51d9061",
        "outputId": "7554c363-b8fc-4ce3-e21e-085b1c67fbbd"
      },
      "outputs": [
        {
          "output_type": "stream",
          "name": "stdout",
          "text": [
            "torch.Size([20, 1, 5, 5])\n"
          ]
        },
        {
          "output_type": "display_data",
          "data": {
            "text/plain": [
              "<Figure size 432x288 with 20 Axes>"
            ],
            "image/png": "[encoded data removed]"
          },
          "metadata": {
            "needs_background": "light"
          }
        }
      ],
      "source": [
        "# plot conv1 wights\n",
        "w_ = model.state_dict()['conv1.weight']\n",
        "print(w_.shape)\n",
        "for i in range(w_.shape[0]):\n",
        "    plt.subplot(4, 5, i+1)\n",
        "    plt.axis('off')\n",
        "    to_show = w_[i][0].cpu().numpy()\n",
        "    plt.imshow((to_show - to_show.min())/(to_show.max() - to_show.min()))\n",
        "plt.show()"
      ],
      "id": "a51d9061"
    },
    {
      "cell_type": "code",
      "execution_count": 15,
      "metadata": {
        "colab": {
          "base_uri": "https://localhost:8080/"
        },
        "id": "9d466243",
        "outputId": "4d10d6fc-e5ce-42fa-9596-861069d58fce"
      },
      "outputs": [
        {
          "output_type": "stream",
          "name": "stdout",
          "text": [
            "-------Net summary------\n",
            "input image:\n",
            "\t n features: 28 \n",
            " \t jump: 1 \n",
            " \t receptive size: 1 \t start: 0.5 \n",
            "conv1:\n",
            "\t n features: 24 \n",
            " \t jump: 1 \n",
            " \t receptive size: 5 \t start: 2.5 \n",
            "pool1:\n",
            "\t n features: 12 \n",
            " \t jump: 2 \n",
            " \t receptive size: 6 \t start: 3.0 \n",
            "conv2:\n",
            "\t n features: 8 \n",
            " \t jump: 2 \n",
            " \t receptive size: 14 \t start: 7.0 \n",
            "pool2:\n",
            "\t n features: 4 \n",
            " \t jump: 4 \n",
            " \t receptive size: 16 \t start: 8.0 \n",
            "------------------------\n"
          ]
        }
      ],
      "source": [
        "# [filter size, stride, padding]\n",
        "convnet =   [[5,1,0], [2,2,0], [5,1,0], [2,2,0]]\n",
        "layer_names = ['conv1','pool1','conv2','pool2']\n",
        "imsize = 28\n",
        "\n",
        "def outFromIn(conv, layerIn):\n",
        "    n_in = layerIn[0]\n",
        "    j_in = layerIn[1]\n",
        "    r_in = layerIn[2]\n",
        "    start_in = layerIn[3]\n",
        "    \n",
        "    k = conv[0]\n",
        "    s = conv[1]\n",
        "    p = conv[2]\n",
        "    \n",
        "    n_out = (n_in - k + 2*p)//s + 1\n",
        "    actualP = (n_out-1)*s - n_in + k\n",
        "    pR = math.ceil(actualP/2)\n",
        "    pL = math.floor(actualP/2)\n",
        "    \n",
        "    j_out = j_in * s\n",
        "    r_out = r_in + (k - 1)*j_in\n",
        "    start_out = start_in + ((k-1)/2 - pL)*j_in\n",
        "    return n_out, j_out, r_out, start_out\n",
        "  \n",
        "def printLayer(layer, layer_name):\n",
        "    print(layer_name + \":\")\n",
        "    print(\"\\t n features: %s \\n \\t jump: %s \\n \\t receptive size: %s \\t start: %s \" % (\n",
        "        layer[0], layer[1], layer[2], layer[3]))\n",
        "    \n",
        "layerInfos = []\n",
        "#first layer is the data layer (image) with n_0 = image size; j_0 = 1; r_0 = 1; and start_0 = 0.5\n",
        "print (\"-------Net summary------\")\n",
        "currentLayer = [imsize, 1, 1, 0.5]\n",
        "printLayer(currentLayer, \"input image\")\n",
        "for i in range(len(convnet)):\n",
        "    currentLayer = outFromIn(convnet[i], currentLayer)\n",
        "    layerInfos.append(currentLayer)\n",
        "    printLayer(currentLayer, layer_names[i])\n",
        "print (\"------------------------\")"
      ],
      "id": "9d466243"
    },
    {
      "cell_type": "code",
      "execution_count": null,
      "metadata": {
        "colab": {
          "base_uri": "https://localhost:8080/"
        },
        "id": "5a77d5bd",
        "outputId": "587faa01-ecd0-4f6f-ae60-c1597a76e271"
      },
      "outputs": [
        {
          "output_type": "stream",
          "name": "stdout",
          "text": [
            "(0,0): 0, 14, 0, 14\n",
            "(0,1): 0, 14, 2, 16\n",
            "(0,2): 0, 14, 4, 18\n",
            "(0,3): 0, 14, 6, 20\n",
            "(0,4): 0, 14, 8, 22\n",
            "(0,5): 0, 14, 10, 24\n",
            "(0,6): 0, 14, 12, 26\n",
            "(0,7): 0, 14, 14, 28\n",
            "(1,0): 2, 16, 0, 14\n",
            "(1,1): 2, 16, 2, 16\n",
            "(1,2): 2, 16, 4, 18\n",
            "(1,3): 2, 16, 6, 20\n",
            "(1,4): 2, 16, 8, 22\n",
            "(1,5): 2, 16, 10, 24\n",
            "(1,6): 2, 16, 12, 26\n",
            "(1,7): 2, 16, 14, 28\n",
            "(2,0): 4, 18, 0, 14\n",
            "(2,1): 4, 18, 2, 16\n",
            "(2,2): 4, 18, 4, 18\n",
            "(2,3): 4, 18, 6, 20\n",
            "(2,4): 4, 18, 8, 22\n",
            "(2,5): 4, 18, 10, 24\n",
            "(2,6): 4, 18, 12, 26\n",
            "(2,7): 4, 18, 14, 28\n",
            "(3,0): 6, 20, 0, 14\n",
            "(3,1): 6, 20, 2, 16\n",
            "(3,2): 6, 20, 4, 18\n",
            "(3,3): 6, 20, 6, 20\n",
            "(3,4): 6, 20, 8, 22\n",
            "(3,5): 6, 20, 10, 24\n",
            "(3,6): 6, 20, 12, 26\n",
            "(3,7): 6, 20, 14, 28\n",
            "(4,0): 8, 22, 0, 14\n",
            "(4,1): 8, 22, 2, 16\n",
            "(4,2): 8, 22, 4, 18\n",
            "(4,3): 8, 22, 6, 20\n",
            "(4,4): 8, 22, 8, 22\n",
            "(4,5): 8, 22, 10, 24\n",
            "(4,6): 8, 22, 12, 26\n",
            "(4,7): 8, 22, 14, 28\n",
            "(5,0): 10, 24, 0, 14\n",
            "(5,1): 10, 24, 2, 16\n",
            "(5,2): 10, 24, 4, 18\n",
            "(5,3): 10, 24, 6, 20\n",
            "(5,4): 10, 24, 8, 22\n",
            "(5,5): 10, 24, 10, 24\n",
            "(5,6): 10, 24, 12, 26\n",
            "(5,7): 10, 24, 14, 28\n",
            "(6,0): 12, 26, 0, 14\n",
            "(6,1): 12, 26, 2, 16\n",
            "(6,2): 12, 26, 4, 18\n",
            "(6,3): 12, 26, 6, 20\n",
            "(6,4): 12, 26, 8, 22\n",
            "(6,5): 12, 26, 10, 24\n",
            "(6,6): 12, 26, 12, 26\n",
            "(6,7): 12, 26, 14, 28\n",
            "(7,0): 14, 28, 0, 14\n",
            "(7,1): 14, 28, 2, 16\n",
            "(7,2): 14, 28, 4, 18\n",
            "(7,3): 14, 28, 6, 20\n",
            "(7,4): 14, 28, 8, 22\n",
            "(7,5): 14, 28, 10, 24\n",
            "(7,6): 14, 28, 12, 26\n",
            "(7,7): 14, 28, 14, 28\n"
          ]
        }
      ],
      "source": [
        "# helper block for checking particular neuron's rf position\n",
        "# start center, jump, rf (receptive field) size, feature map size, channel_num\n",
        "rf_info = {'conv1':[2.5, 1, 5, 24, 20], 'conv2':[7, 2, 14, 8, 50]}\n",
        "\n",
        "key = 'conv2'\n",
        "p_rf = rf_info[key][2]\n",
        "p_feat = rf_info[key][3]\n",
        "\n",
        "for i in range(p_feat):\n",
        "    for j in range(p_feat):\n",
        "        center_i = rf_info[key][0] + i * rf_info[key][1]\n",
        "        center_j = rf_info[key][0] + j * rf_info[key][1]\n",
        "        left = int(center_i - p_rf / 2)\n",
        "        right = int(center_i + p_rf / 2)\n",
        "        up = int(center_j - p_rf / 2)\n",
        "        bottom = int(center_j + p_rf / 2)\n",
        "        \n",
        "        print('({},{}): {}, {}, {}, {}'.format(i, j, left, right, up, bottom))"
      ],
      "id": "5a77d5bd"
    },
    {
      "cell_type": "code",
      "execution_count": null,
      "metadata": {
        "colab": {
          "background_save": true
        },
        "id": "12bbf4a8"
      },
      "outputs": [],
      "source": [],
      "id": "12bbf4a8"
    }
  ],
  "metadata": {
    "colab": {
      "provenance": []
    },
    "kernelspec": {
      "display_name": "Python 3 (ipykernel)",
      "language": "python",
      "name": "python3"
    },
    "language_info": {
      "codemirror_mode": {
        "name": "ipython",
        "version": 3
      },
      "file_extension": ".py",
      "mimetype": "text/x-python",
      "name": "python",
      "nbconvert_exporter": "python",
      "pygments_lexer": "ipython3",
      "version": "3.9.16"
    },
    "widgets": {
      "application/vnd.jupyter.widget-state+json": {
        "dada23bf6dc549a6b018a84c66363ebe": {
          "model_module": "@jupyter-widgets/controls",
          "model_name": "HBoxModel",
          "model_module_version": "1.5.0",
          "state": {
            "_dom_classes": [],
            "_model_module": "@jupyter-widgets/controls",
            "_model_module_version": "1.5.0",
            "_model_name": "HBoxModel",
            "_view_count": null,
            "_view_module": "@jupyter-widgets/controls",
            "_view_module_version": "1.5.0",
            "_view_name": "HBoxView",
            "box_style": "",
            "children": [
              "IPY_MODEL_4c237f87b5b34ad1ab38758296feb7c6",
              "IPY_MODEL_06177f12ac99473faff8d409f470a0ae",
              "IPY_MODEL_6c5b9711911e49258c4b2237bf19bca9"
            ],
            "layout": "IPY_MODEL_344cbf1486d44fca9494f3a46616d3ad"
          }
        },
        "4c237f87b5b34ad1ab38758296feb7c6": {
          "model_module": "@jupyter-widgets/controls",
          "model_name": "HTMLModel",
          "model_module_version": "1.5.0",
          "state": {
            "_dom_classes": [],
            "_model_module": "@jupyter-widgets/controls",
            "_model_module_version": "1.5.0",
            "_model_name": "HTMLModel",
            "_view_count": null,
            "_view_module": "@jupyter-widgets/controls",
            "_view_module_version": "1.5.0",
            "_view_name": "HTMLView",
            "description": "",
            "description_tooltip": null,
            "layout": "IPY_MODEL_c4f6b075b5074bc6a8c6988af1679932",
            "placeholder": "​",
            "style": "IPY_MODEL_06e2fe6223944984a62327c5d5805f1c",
            "value": "100%"
          }
        },
        "06177f12ac99473faff8d409f470a0ae": {
          "model_module": "@jupyter-widgets/controls",
          "model_name": "FloatProgressModel",
          "model_module_version": "1.5.0",
          "state": {
            "_dom_classes": [],
            "_model_module": "@jupyter-widgets/controls",
            "_model_module_version": "1.5.0",
            "_model_name": "FloatProgressModel",
            "_view_count": null,
            "_view_module": "@jupyter-widgets/controls",
            "_view_module_version": "1.5.0",
            "_view_name": "ProgressView",
            "bar_style": "success",
            "description": "",
            "description_tooltip": null,
            "layout": "IPY_MODEL_fe568f72b1d3499d99300ed8ebaebd90",
            "max": 9912422,
            "min": 0,
            "orientation": "horizontal",
            "style": "IPY_MODEL_05ad10948ad14293b0d6430dfa546de8",
            "value": 9912422
          }
        },
        "6c5b9711911e49258c4b2237bf19bca9": {
          "model_module": "@jupyter-widgets/controls",
          "model_name": "HTMLModel",
          "model_module_version": "1.5.0",
          "state": {
            "_dom_classes": [],
            "_model_module": "@jupyter-widgets/controls",
            "_model_module_version": "1.5.0",
            "_model_name": "HTMLModel",
            "_view_count": null,
            "_view_module": "@jupyter-widgets/controls",
            "_view_module_version": "1.5.0",
            "_view_name": "HTMLView",
            "description": "",
            "description_tooltip": null,
            "layout": "IPY_MODEL_2f725bc2594a4a3f9fdc3f3c83d5a7f3",
            "placeholder": "​",
            "style": "IPY_MODEL_9d3880abfa044937b7244f79fbce7305",
            "value": " 9912422/9912422 [00:00&lt;00:00, 17683683.79it/s]"
          }
        },
        "344cbf1486d44fca9494f3a46616d3ad": {
          "model_module": "@jupyter-widgets/base",
          "model_name": "LayoutModel",
          "model_module_version": "1.2.0",
          "state": {
            "_model_module": "@jupyter-widgets/base",
            "_model_module_version": "1.2.0",
            "_model_name": "LayoutModel",
            "_view_count": null,
            "_view_module": "@jupyter-widgets/base",
            "_view_module_version": "1.2.0",
            "_view_name": "LayoutView",
            "align_content": null,
            "align_items": null,
            "align_self": null,
            "border": null,
            "bottom": null,
            "display": null,
            "flex": null,
            "flex_flow": null,
            "grid_area": null,
            "grid_auto_columns": null,
            "grid_auto_flow": null,
            "grid_auto_rows": null,
            "grid_column": null,
            "grid_gap": null,
            "grid_row": null,
            "grid_template_areas": null,
            "grid_template_columns": null,
            "grid_template_rows": null,
            "height": null,
            "justify_content": null,
            "justify_items": null,
            "left": null,
            "margin": null,
            "max_height": null,
            "max_width": null,
            "min_height": null,
            "min_width": null,
            "object_fit": null,
            "object_position": null,
            "order": null,
            "overflow": null,
            "overflow_x": null,
            "overflow_y": null,
            "padding": null,
            "right": null,
            "top": null,
            "visibility": null,
            "width": null
          }
        },
        "c4f6b075b5074bc6a8c6988af1679932": {
          "model_module": "@jupyter-widgets/base",
          "model_name": "LayoutModel",
          "model_module_version": "1.2.0",
          "state": {
            "_model_module": "@jupyter-widgets/base",
            "_model_module_version": "1.2.0",
            "_model_name": "LayoutModel",
            "_view_count": null,
            "_view_module": "@jupyter-widgets/base",
            "_view_module_version": "1.2.0",
            "_view_name": "LayoutView",
            "align_content": null,
            "align_items": null,
            "align_self": null,
            "border": null,
            "bottom": null,
            "display": null,
            "flex": null,
            "flex_flow": null,
            "grid_area": null,
            "grid_auto_columns": null,
            "grid_auto_flow": null,
            "grid_auto_rows": null,
            "grid_column": null,
            "grid_gap": null,
            "grid_row": null,
            "grid_template_areas": null,
            "grid_template_columns": null,
            "grid_template_rows": null,
            "height": null,
            "justify_content": null,
            "justify_items": null,
            "left": null,
            "margin": null,
            "max_height": null,
            "max_width": null,
            "min_height": null,
            "min_width": null,
            "object_fit": null,
            "object_position": null,
            "order": null,
            "overflow": null,
            "overflow_x": null,
            "overflow_y": null,
            "padding": null,
            "right": null,
            "top": null,
            "visibility": null,
            "width": null
          }
        },
        "06e2fe6223944984a62327c5d5805f1c": {
          "model_module": "@jupyter-widgets/controls",
          "model_name": "DescriptionStyleModel",
          "model_module_version": "1.5.0",
          "state": {
            "_model_module": "@jupyter-widgets/controls",
            "_model_module_version": "1.5.0",
            "_model_name": "DescriptionStyleModel",
            "_view_count": null,
            "_view_module": "@jupyter-widgets/base",
            "_view_module_version": "1.2.0",
            "_view_name": "StyleView",
            "description_width": ""
          }
        },
        "fe568f72b1d3499d99300ed8ebaebd90": {
          "model_module": "@jupyter-widgets/base",
          "model_name": "LayoutModel",
          "model_module_version": "1.2.0",
          "state": {
            "_model_module": "@jupyter-widgets/base",
            "_model_module_version": "1.2.0",
            "_model_name": "LayoutModel",
            "_view_count": null,
            "_view_module": "@jupyter-widgets/base",
            "_view_module_version": "1.2.0",
            "_view_name": "LayoutView",
            "align_content": null,
            "align_items": null,
            "align_self": null,
            "border": null,
            "bottom": null,
            "display": null,
            "flex": null,
            "flex_flow": null,
            "grid_area": null,
            "grid_auto_columns": null,
            "grid_auto_flow": null,
            "grid_auto_rows": null,
            "grid_column": null,
            "grid_gap": null,
            "grid_row": null,
            "grid_template_areas": null,
            "grid_template_columns": null,
            "grid_template_rows": null,
            "height": null,
            "justify_content": null,
            "justify_items": null,
            "left": null,
            "margin": null,
            "max_height": null,
            "max_width": null,
            "min_height": null,
            "min_width": null,
            "object_fit": null,
            "object_position": null,
            "order": null,
            "overflow": null,
            "overflow_x": null,
            "overflow_y": null,
            "padding": null,
            "right": null,
            "top": null,
            "visibility": null,
            "width": null
          }
        },
        "05ad10948ad14293b0d6430dfa546de8": {
          "model_module": "@jupyter-widgets/controls",
          "model_name": "ProgressStyleModel",
          "model_module_version": "1.5.0",
          "state": {
            "_model_module": "@jupyter-widgets/controls",
            "_model_module_version": "1.5.0",
            "_model_name": "ProgressStyleModel",
            "_view_count": null,
            "_view_module": "@jupyter-widgets/base",
            "_view_module_version": "1.2.0",
            "_view_name": "StyleView",
            "bar_color": null,
            "description_width": ""
          }
        },
        "2f725bc2594a4a3f9fdc3f3c83d5a7f3": {
          "model_module": "@jupyter-widgets/base",
          "model_name": "LayoutModel",
          "model_module_version": "1.2.0",
          "state": {
            "_model_module": "@jupyter-widgets/base",
            "_model_module_version": "1.2.0",
            "_model_name": "LayoutModel",
            "_view_count": null,
            "_view_module": "@jupyter-widgets/base",
            "_view_module_version": "1.2.0",
            "_view_name": "LayoutView",
            "align_content": null,
            "align_items": null,
            "align_self": null,
            "border": null,
            "bottom": null,
            "display": null,
            "flex": null,
            "flex_flow": null,
            "grid_area": null,
            "grid_auto_columns": null,
            "grid_auto_flow": null,
            "grid_auto_rows": null,
            "grid_column": null,
            "grid_gap": null,
            "grid_row": null,
            "grid_template_areas": null,
            "grid_template_columns": null,
            "grid_template_rows": null,
            "height": null,
            "justify_content": null,
            "justify_items": null,
            "left": null,
            "margin": null,
            "max_height": null,
            "max_width": null,
            "min_height": null,
            "min_width": null,
            "object_fit": null,
            "object_position": null,
            "order": null,
            "overflow": null,
            "overflow_x": null,
            "overflow_y": null,
            "padding": null,
            "right": null,
            "top": null,
            "visibility": null,
            "width": null
          }
        },
        "9d3880abfa044937b7244f79fbce7305": {
          "model_module": "@jupyter-widgets/controls",
          "model_name": "DescriptionStyleModel",
          "model_module_version": "1.5.0",
          "state": {
            "_model_module": "@jupyter-widgets/controls",
            "_model_module_version": "1.5.0",
            "_model_name": "DescriptionStyleModel",
            "_view_count": null,
            "_view_module": "@jupyter-widgets/base",
            "_view_module_version": "1.2.0",
            "_view_name": "StyleView",
            "description_width": ""
          }
        },
        "cd79c075af9049b286273a0a9597b391": {
          "model_module": "@jupyter-widgets/controls",
          "model_name": "HBoxModel",
          "model_module_version": "1.5.0",
          "state": {
            "_dom_classes": [],
            "_model_module": "@jupyter-widgets/controls",
            "_model_module_version": "1.5.0",
            "_model_name": "HBoxModel",
            "_view_count": null,
            "_view_module": "@jupyter-widgets/controls",
            "_view_module_version": "1.5.0",
            "_view_name": "HBoxView",
            "box_style": "",
            "children": [
              "IPY_MODEL_2ff71f39928c46498fb36b74c0f17e21",
              "IPY_MODEL_bdd0f974009c49548fd36ec194050ab9",
              "IPY_MODEL_12819e8218b84ec1b8736afd94c57c3f"
            ],
            "layout": "IPY_MODEL_61ae603f5536409090686dbd58b6f0d4"
          }
        },
        "2ff71f39928c46498fb36b74c0f17e21": {
          "model_module": "@jupyter-widgets/controls",
          "model_name": "HTMLModel",
          "model_module_version": "1.5.0",
          "state": {
            "_dom_classes": [],
            "_model_module": "@jupyter-widgets/controls",
            "_model_module_version": "1.5.0",
            "_model_name": "HTMLModel",
            "_view_count": null,
            "_view_module": "@jupyter-widgets/controls",
            "_view_module_version": "1.5.0",
            "_view_name": "HTMLView",
            "description": "",
            "description_tooltip": null,
            "layout": "IPY_MODEL_80d08eb2a62e49498261c24141f504ac",
            "placeholder": "​",
            "style": "IPY_MODEL_b6e62633f0374b84afd94f201af0c985",
            "value": "100%"
          }
        },
        "bdd0f974009c49548fd36ec194050ab9": {
          "model_module": "@jupyter-widgets/controls",
          "model_name": "FloatProgressModel",
          "model_module_version": "1.5.0",
          "state": {
            "_dom_classes": [],
            "_model_module": "@jupyter-widgets/controls",
            "_model_module_version": "1.5.0",
            "_model_name": "FloatProgressModel",
            "_view_count": null,
            "_view_module": "@jupyter-widgets/controls",
            "_view_module_version": "1.5.0",
            "_view_name": "ProgressView",
            "bar_style": "success",
            "description": "",
            "description_tooltip": null,
            "layout": "IPY_MODEL_3aff85490efe4719ace688da73d058aa",
            "max": 28881,
            "min": 0,
            "orientation": "horizontal",
            "style": "IPY_MODEL_5c17837d6862472dabefc8e226d7b7c8",
            "value": 28881
          }
        },
        "12819e8218b84ec1b8736afd94c57c3f": {
          "model_module": "@jupyter-widgets/controls",
          "model_name": "HTMLModel",
          "model_module_version": "1.5.0",
          "state": {
            "_dom_classes": [],
            "_model_module": "@jupyter-widgets/controls",
            "_model_module_version": "1.5.0",
            "_model_name": "HTMLModel",
            "_view_count": null,
            "_view_module": "@jupyter-widgets/controls",
            "_view_module_version": "1.5.0",
            "_view_name": "HTMLView",
            "description": "",
            "description_tooltip": null,
            "layout": "IPY_MODEL_8e976323f6ab42fdb8847dfab4ce750a",
            "placeholder": "​",
            "style": "IPY_MODEL_678c7a3cefbc46b29e5f728373a7a5ef",
            "value": " 28881/28881 [00:00&lt;00:00, 602803.10it/s]"
          }
        },
        "61ae603f5536409090686dbd58b6f0d4": {
          "model_module": "@jupyter-widgets/base",
          "model_name": "LayoutModel",
          "model_module_version": "1.2.0",
          "state": {
            "_model_module": "@jupyter-widgets/base",
            "_model_module_version": "1.2.0",
            "_model_name": "LayoutModel",
            "_view_count": null,
            "_view_module": "@jupyter-widgets/base",
            "_view_module_version": "1.2.0",
            "_view_name": "LayoutView",
            "align_content": null,
            "align_items": null,
            "align_self": null,
            "border": null,
            "bottom": null,
            "display": null,
            "flex": null,
            "flex_flow": null,
            "grid_area": null,
            "grid_auto_columns": null,
            "grid_auto_flow": null,
            "grid_auto_rows": null,
            "grid_column": null,
            "grid_gap": null,
            "grid_row": null,
            "grid_template_areas": null,
            "grid_template_columns": null,
            "grid_template_rows": null,
            "height": null,
            "justify_content": null,
            "justify_items": null,
            "left": null,
            "margin": null,
            "max_height": null,
            "max_width": null,
            "min_height": null,
            "min_width": null,
            "object_fit": null,
            "object_position": null,
            "order": null,
            "overflow": null,
            "overflow_x": null,
            "overflow_y": null,
            "padding": null,
            "right": null,
            "top": null,
            "visibility": null,
            "width": null
          }
        },
        "80d08eb2a62e49498261c24141f504ac": {
          "model_module": "@jupyter-widgets/base",
          "model_name": "LayoutModel",
          "model_module_version": "1.2.0",
          "state": {
            "_model_module": "@jupyter-widgets/base",
            "_model_module_version": "1.2.0",
            "_model_name": "LayoutModel",
            "_view_count": null,
            "_view_module": "@jupyter-widgets/base",
            "_view_module_version": "1.2.0",
            "_view_name": "LayoutView",
            "align_content": null,
            "align_items": null,
            "align_self": null,
            "border": null,
            "bottom": null,
            "display": null,
            "flex": null,
            "flex_flow": null,
            "grid_area": null,
            "grid_auto_columns": null,
            "grid_auto_flow": null,
            "grid_auto_rows": null,
            "grid_column": null,
            "grid_gap": null,
            "grid_row": null,
            "grid_template_areas": null,
            "grid_template_columns": null,
            "grid_template_rows": null,
            "height": null,
            "justify_content": null,
            "justify_items": null,
            "left": null,
            "margin": null,
            "max_height": null,
            "max_width": null,
            "min_height": null,
            "min_width": null,
            "object_fit": null,
            "object_position": null,
            "order": null,
            "overflow": null,
            "overflow_x": null,
            "overflow_y": null,
            "padding": null,
            "right": null,
            "top": null,
            "visibility": null,
            "width": null
          }
        },
        "b6e62633f0374b84afd94f201af0c985": {
          "model_module": "@jupyter-widgets/controls",
          "model_name": "DescriptionStyleModel",
          "model_module_version": "1.5.0",
          "state": {
            "_model_module": "@jupyter-widgets/controls",
            "_model_module_version": "1.5.0",
            "_model_name": "DescriptionStyleModel",
            "_view_count": null,
            "_view_module": "@jupyter-widgets/base",
            "_view_module_version": "1.2.0",
            "_view_name": "StyleView",
            "description_width": ""
          }
        },
        "3aff85490efe4719ace688da73d058aa": {
          "model_module": "@jupyter-widgets/base",
          "model_name": "LayoutModel",
          "model_module_version": "1.2.0",
          "state": {
            "_model_module": "@jupyter-widgets/base",
            "_model_module_version": "1.2.0",
            "_model_name": "LayoutModel",
            "_view_count": null,
            "_view_module": "@jupyter-widgets/base",
            "_view_module_version": "1.2.0",
            "_view_name": "LayoutView",
            "align_content": null,
            "align_items": null,
            "align_self": null,
            "border": null,
            "bottom": null,
            "display": null,
            "flex": null,
            "flex_flow": null,
            "grid_area": null,
            "grid_auto_columns": null,
            "grid_auto_flow": null,
            "grid_auto_rows": null,
            "grid_column": null,
            "grid_gap": null,
            "grid_row": null,
            "grid_template_areas": null,
            "grid_template_columns": null,
            "grid_template_rows": null,
            "height": null,
            "justify_content": null,
            "justify_items": null,
            "left": null,
            "margin": null,
            "max_height": null,
            "max_width": null,
            "min_height": null,
            "min_width": null,
            "object_fit": null,
            "object_position": null,
            "order": null,
            "overflow": null,
            "overflow_x": null,
            "overflow_y": null,
            "padding": null,
            "right": null,
            "top": null,
            "visibility": null,
            "width": null
          }
        },
        "5c17837d6862472dabefc8e226d7b7c8": {
          "model_module": "@jupyter-widgets/controls",
          "model_name": "ProgressStyleModel",
          "model_module_version": "1.5.0",
          "state": {
            "_model_module": "@jupyter-widgets/controls",
            "_model_module_version": "1.5.0",
            "_model_name": "ProgressStyleModel",
            "_view_count": null,
            "_view_module": "@jupyter-widgets/base",
            "_view_module_version": "1.2.0",
            "_view_name": "StyleView",
            "bar_color": null,
            "description_width": ""
          }
        },
        "8e976323f6ab42fdb8847dfab4ce750a": {
          "model_module": "@jupyter-widgets/base",
          "model_name": "LayoutModel",
          "model_module_version": "1.2.0",
          "state": {
            "_model_module": "@jupyter-widgets/base",
            "_model_module_version": "1.2.0",
            "_model_name": "LayoutModel",
            "_view_count": null,
            "_view_module": "@jupyter-widgets/base",
            "_view_module_version": "1.2.0",
            "_view_name": "LayoutView",
            "align_content": null,
            "align_items": null,
            "align_self": null,
            "border": null,
            "bottom": null,
            "display": null,
            "flex": null,
            "flex_flow": null,
            "grid_area": null,
            "grid_auto_columns": null,
            "grid_auto_flow": null,
            "grid_auto_rows": null,
            "grid_column": null,
            "grid_gap": null,
            "grid_row": null,
            "grid_template_areas": null,
            "grid_template_columns": null,
            "grid_template_rows": null,
            "height": null,
            "justify_content": null,
            "justify_items": null,
            "left": null,
            "margin": null,
            "max_height": null,
            "max_width": null,
            "min_height": null,
            "min_width": null,
            "object_fit": null,
            "object_position": null,
            "order": null,
            "overflow": null,
            "overflow_x": null,
            "overflow_y": null,
            "padding": null,
            "right": null,
            "top": null,
            "visibility": null,
            "width": null
          }
        },
        "678c7a3cefbc46b29e5f728373a7a5ef": {
          "model_module": "@jupyter-widgets/controls",
          "model_name": "DescriptionStyleModel",
          "model_module_version": "1.5.0",
          "state": {
            "_model_module": "@jupyter-widgets/controls",
            "_model_module_version": "1.5.0",
            "_model_name": "DescriptionStyleModel",
            "_view_count": null,
            "_view_module": "@jupyter-widgets/base",
            "_view_module_version": "1.2.0",
            "_view_name": "StyleView",
            "description_width": ""
          }
        },
        "102ec4adc1964532912fc03ebc60eb6a": {
          "model_module": "@jupyter-widgets/controls",
          "model_name": "HBoxModel",
          "model_module_version": "1.5.0",
          "state": {
            "_dom_classes": [],
            "_model_module": "@jupyter-widgets/controls",
            "_model_module_version": "1.5.0",
            "_model_name": "HBoxModel",
            "_view_count": null,
            "_view_module": "@jupyter-widgets/controls",
            "_view_module_version": "1.5.0",
            "_view_name": "HBoxView",
            "box_style": "",
            "children": [
              "IPY_MODEL_c78ff199567c4f5fae3a6085e1114695",
              "IPY_MODEL_9365259b94754f3ba3abd49ecb595f7e",
              "IPY_MODEL_d94a1e96307a489a847d2a2d7265120a"
            ],
            "layout": "IPY_MODEL_6dd1e09d890c4f05846715f12458b0c3"
          }
        },
        "c78ff199567c4f5fae3a6085e1114695": {
          "model_module": "@jupyter-widgets/controls",
          "model_name": "HTMLModel",
          "model_module_version": "1.5.0",
          "state": {
            "_dom_classes": [],
            "_model_module": "@jupyter-widgets/controls",
            "_model_module_version": "1.5.0",
            "_model_name": "HTMLModel",
            "_view_count": null,
            "_view_module": "@jupyter-widgets/controls",
            "_view_module_version": "1.5.0",
            "_view_name": "HTMLView",
            "description": "",
            "description_tooltip": null,
            "layout": "IPY_MODEL_2cae66f5187e4c4c88fd839a4cbd3798",
            "placeholder": "​",
            "style": "IPY_MODEL_84911268917d42e6b2e002eaa6b35a47",
            "value": "100%"
          }
        },
        "9365259b94754f3ba3abd49ecb595f7e": {
          "model_module": "@jupyter-widgets/controls",
          "model_name": "FloatProgressModel",
          "model_module_version": "1.5.0",
          "state": {
            "_dom_classes": [],
            "_model_module": "@jupyter-widgets/controls",
            "_model_module_version": "1.5.0",
            "_model_name": "FloatProgressModel",
            "_view_count": null,
            "_view_module": "@jupyter-widgets/controls",
            "_view_module_version": "1.5.0",
            "_view_name": "ProgressView",
            "bar_style": "success",
            "description": "",
            "description_tooltip": null,
            "layout": "IPY_MODEL_b7c194488ce6430f99bf395fa67bdfb2",
            "max": 1648877,
            "min": 0,
            "orientation": "horizontal",
            "style": "IPY_MODEL_6ba1f97bb05b468d9ef44043708eb020",
            "value": 1648877
          }
        },
        "d94a1e96307a489a847d2a2d7265120a": {
          "model_module": "@jupyter-widgets/controls",
          "model_name": "HTMLModel",
          "model_module_version": "1.5.0",
          "state": {
            "_dom_classes": [],
            "_model_module": "@jupyter-widgets/controls",
            "_model_module_version": "1.5.0",
            "_model_name": "HTMLModel",
            "_view_count": null,
            "_view_module": "@jupyter-widgets/controls",
            "_view_module_version": "1.5.0",
            "_view_name": "HTMLView",
            "description": "",
            "description_tooltip": null,
            "layout": "IPY_MODEL_8b8d29e645044d7d9524e9ba1172c837",
            "placeholder": "​",
            "style": "IPY_MODEL_9225ecae7fb541c184b1d2efb552136f",
            "value": " 1648877/1648877 [00:00&lt;00:00, 6511549.68it/s]"
          }
        },
        "6dd1e09d890c4f05846715f12458b0c3": {
          "model_module": "@jupyter-widgets/base",
          "model_name": "LayoutModel",
          "model_module_version": "1.2.0",
          "state": {
            "_model_module": "@jupyter-widgets/base",
            "_model_module_version": "1.2.0",
            "_model_name": "LayoutModel",
            "_view_count": null,
            "_view_module": "@jupyter-widgets/base",
            "_view_module_version": "1.2.0",
            "_view_name": "LayoutView",
            "align_content": null,
            "align_items": null,
            "align_self": null,
            "border": null,
            "bottom": null,
            "display": null,
            "flex": null,
            "flex_flow": null,
            "grid_area": null,
            "grid_auto_columns": null,
            "grid_auto_flow": null,
            "grid_auto_rows": null,
            "grid_column": null,
            "grid_gap": null,
            "grid_row": null,
            "grid_template_areas": null,
            "grid_template_columns": null,
            "grid_template_rows": null,
            "height": null,
            "justify_content": null,
            "justify_items": null,
            "left": null,
            "margin": null,
            "max_height": null,
            "max_width": null,
            "min_height": null,
            "min_width": null,
            "object_fit": null,
            "object_position": null,
            "order": null,
            "overflow": null,
            "overflow_x": null,
            "overflow_y": null,
            "padding": null,
            "right": null,
            "top": null,
            "visibility": null,
            "width": null
          }
        },
        "2cae66f5187e4c4c88fd839a4cbd3798": {
          "model_module": "@jupyter-widgets/base",
          "model_name": "LayoutModel",
          "model_module_version": "1.2.0",
          "state": {
            "_model_module": "@jupyter-widgets/base",
            "_model_module_version": "1.2.0",
            "_model_name": "LayoutModel",
            "_view_count": null,
            "_view_module": "@jupyter-widgets/base",
            "_view_module_version": "1.2.0",
            "_view_name": "LayoutView",
            "align_content": null,
            "align_items": null,
            "align_self": null,
            "border": null,
            "bottom": null,
            "display": null,
            "flex": null,
            "flex_flow": null,
            "grid_area": null,
            "grid_auto_columns": null,
            "grid_auto_flow": null,
            "grid_auto_rows": null,
            "grid_column": null,
            "grid_gap": null,
            "grid_row": null,
            "grid_template_areas": null,
            "grid_template_columns": null,
            "grid_template_rows": null,
            "height": null,
            "justify_content": null,
            "justify_items": null,
            "left": null,
            "margin": null,
            "max_height": null,
            "max_width": null,
            "min_height": null,
            "min_width": null,
            "object_fit": null,
            "object_position": null,
            "order": null,
            "overflow": null,
            "overflow_x": null,
            "overflow_y": null,
            "padding": null,
            "right": null,
            "top": null,
            "visibility": null,
            "width": null
          }
        },
        "84911268917d42e6b2e002eaa6b35a47": {
          "model_module": "@jupyter-widgets/controls",
          "model_name": "DescriptionStyleModel",
          "model_module_version": "1.5.0",
          "state": {
            "_model_module": "@jupyter-widgets/controls",
            "_model_module_version": "1.5.0",
            "_model_name": "DescriptionStyleModel",
            "_view_count": null,
            "_view_module": "@jupyter-widgets/base",
            "_view_module_version": "1.2.0",
            "_view_name": "StyleView",
            "description_width": ""
          }
        },
        "b7c194488ce6430f99bf395fa67bdfb2": {
          "model_module": "@jupyter-widgets/base",
          "model_name": "LayoutModel",
          "model_module_version": "1.2.0",
          "state": {
            "_model_module": "@jupyter-widgets/base",
            "_model_module_version": "1.2.0",
            "_model_name": "LayoutModel",
            "_view_count": null,
            "_view_module": "@jupyter-widgets/base",
            "_view_module_version": "1.2.0",
            "_view_name": "LayoutView",
            "align_content": null,
            "align_items": null,
            "align_self": null,
            "border": null,
            "bottom": null,
            "display": null,
            "flex": null,
            "flex_flow": null,
            "grid_area": null,
            "grid_auto_columns": null,
            "grid_auto_flow": null,
            "grid_auto_rows": null,
            "grid_column": null,
            "grid_gap": null,
            "grid_row": null,
            "grid_template_areas": null,
            "grid_template_columns": null,
            "grid_template_rows": null,
            "height": null,
            "justify_content": null,
            "justify_items": null,
            "left": null,
            "margin": null,
            "max_height": null,
            "max_width": null,
            "min_height": null,
            "min_width": null,
            "object_fit": null,
            "object_position": null,
            "order": null,
            "overflow": null,
            "overflow_x": null,
            "overflow_y": null,
            "padding": null,
            "right": null,
            "top": null,
            "visibility": null,
            "width": null
          }
        },
        "6ba1f97bb05b468d9ef44043708eb020": {
          "model_module": "@jupyter-widgets/controls",
          "model_name": "ProgressStyleModel",
          "model_module_version": "1.5.0",
          "state": {
            "_model_module": "@jupyter-widgets/controls",
            "_model_module_version": "1.5.0",
            "_model_name": "ProgressStyleModel",
            "_view_count": null,
            "_view_module": "@jupyter-widgets/base",
            "_view_module_version": "1.2.0",
            "_view_name": "StyleView",
            "bar_color": null,
            "description_width": ""
          }
        },
        "8b8d29e645044d7d9524e9ba1172c837": {
          "model_module": "@jupyter-widgets/base",
          "model_name": "LayoutModel",
          "model_module_version": "1.2.0",
          "state": {
            "_model_module": "@jupyter-widgets/base",
            "_model_module_version": "1.2.0",
            "_model_name": "LayoutModel",
            "_view_count": null,
            "_view_module": "@jupyter-widgets/base",
            "_view_module_version": "1.2.0",
            "_view_name": "LayoutView",
            "align_content": null,
            "align_items": null,
            "align_self": null,
            "border": null,
            "bottom": null,
            "display": null,
            "flex": null,
            "flex_flow": null,
            "grid_area": null,
            "grid_auto_columns": null,
            "grid_auto_flow": null,
            "grid_auto_rows": null,
            "grid_column": null,
            "grid_gap": null,
            "grid_row": null,
            "grid_template_areas": null,
            "grid_template_columns": null,
            "grid_template_rows": null,
            "height": null,
            "justify_content": null,
            "justify_items": null,
            "left": null,
            "margin": null,
            "max_height": null,
            "max_width": null,
            "min_height": null,
            "min_width": null,
            "object_fit": null,
            "object_position": null,
            "order": null,
            "overflow": null,
            "overflow_x": null,
            "overflow_y": null,
            "padding": null,
            "right": null,
            "top": null,
            "visibility": null,
            "width": null
          }
        },
        "9225ecae7fb541c184b1d2efb552136f": {
          "model_module": "@jupyter-widgets/controls",
          "model_name": "DescriptionStyleModel",
          "model_module_version": "1.5.0",
          "state": {
            "_model_module": "@jupyter-widgets/controls",
            "_model_module_version": "1.5.0",
            "_model_name": "DescriptionStyleModel",
            "_view_count": null,
            "_view_module": "@jupyter-widgets/base",
            "_view_module_version": "1.2.0",
            "_view_name": "StyleView",
            "description_width": ""
          }
        },
        "90794c047c8c4f48a6b0a1a10a37f5f4": {
          "model_module": "@jupyter-widgets/controls",
          "model_name": "HBoxModel",
          "model_module_version": "1.5.0",
          "state": {
            "_dom_classes": [],
            "_model_module": "@jupyter-widgets/controls",
            "_model_module_version": "1.5.0",
            "_model_name": "HBoxModel",
            "_view_count": null,
            "_view_module": "@jupyter-widgets/controls",
            "_view_module_version": "1.5.0",
            "_view_name": "HBoxView",
            "box_style": "",
            "children": [
              "IPY_MODEL_5d04a5cebb46495bacb0d766614e55ae",
              "IPY_MODEL_283f31677ba247799de52a842432dd86",
              "IPY_MODEL_66cb0cd7ab6b4598b0afabe1801672fa"
            ],
            "layout": "IPY_MODEL_dfd6bdc85e4141b9a751514094661470"
          }
        },
        "5d04a5cebb46495bacb0d766614e55ae": {
          "model_module": "@jupyter-widgets/controls",
          "model_name": "HTMLModel",
          "model_module_version": "1.5.0",
          "state": {
            "_dom_classes": [],
            "_model_module": "@jupyter-widgets/controls",
            "_model_module_version": "1.5.0",
            "_model_name": "HTMLModel",
            "_view_count": null,
            "_view_module": "@jupyter-widgets/controls",
            "_view_module_version": "1.5.0",
            "_view_name": "HTMLView",
            "description": "",
            "description_tooltip": null,
            "layout": "IPY_MODEL_232333db6f734f50ac10e353344e9bcb",
            "placeholder": "​",
            "style": "IPY_MODEL_490c0269be6d4eb2ba3f87f863243528",
            "value": "100%"
          }
        },
        "283f31677ba247799de52a842432dd86": {
          "model_module": "@jupyter-widgets/controls",
          "model_name": "FloatProgressModel",
          "model_module_version": "1.5.0",
          "state": {
            "_dom_classes": [],
            "_model_module": "@jupyter-widgets/controls",
            "_model_module_version": "1.5.0",
            "_model_name": "FloatProgressModel",
            "_view_count": null,
            "_view_module": "@jupyter-widgets/controls",
            "_view_module_version": "1.5.0",
            "_view_name": "ProgressView",
            "bar_style": "success",
            "description": "",
            "description_tooltip": null,
            "layout": "IPY_MODEL_299bbc9d56e546b88aeb1f9dab10a58f",
            "max": 4542,
            "min": 0,
            "orientation": "horizontal",
            "style": "IPY_MODEL_b9b9ed6f984744e5b8db23ea9434dc95",
            "value": 4542
          }
        },
        "66cb0cd7ab6b4598b0afabe1801672fa": {
          "model_module": "@jupyter-widgets/controls",
          "model_name": "HTMLModel",
          "model_module_version": "1.5.0",
          "state": {
            "_dom_classes": [],
            "_model_module": "@jupyter-widgets/controls",
            "_model_module_version": "1.5.0",
            "_model_name": "HTMLModel",
            "_view_count": null,
            "_view_module": "@jupyter-widgets/controls",
            "_view_module_version": "1.5.0",
            "_view_name": "HTMLView",
            "description": "",
            "description_tooltip": null,
            "layout": "IPY_MODEL_dd3f0eed76f841f1a693b37ef8def321",
            "placeholder": "​",
            "style": "IPY_MODEL_111ded8073574bc387e08d8e255da741",
            "value": " 4542/4542 [00:00&lt;00:00, 24677.23it/s]"
          }
        },
        "dfd6bdc85e4141b9a751514094661470": {
          "model_module": "@jupyter-widgets/base",
          "model_name": "LayoutModel",
          "model_module_version": "1.2.0",
          "state": {
            "_model_module": "@jupyter-widgets/base",
            "_model_module_version": "1.2.0",
            "_model_name": "LayoutModel",
            "_view_count": null,
            "_view_module": "@jupyter-widgets/base",
            "_view_module_version": "1.2.0",
            "_view_name": "LayoutView",
            "align_content": null,
            "align_items": null,
            "align_self": null,
            "border": null,
            "bottom": null,
            "display": null,
            "flex": null,
            "flex_flow": null,
            "grid_area": null,
            "grid_auto_columns": null,
            "grid_auto_flow": null,
            "grid_auto_rows": null,
            "grid_column": null,
            "grid_gap": null,
            "grid_row": null,
            "grid_template_areas": null,
            "grid_template_columns": null,
            "grid_template_rows": null,
            "height": null,
            "justify_content": null,
            "justify_items": null,
            "left": null,
            "margin": null,
            "max_height": null,
            "max_width": null,
            "min_height": null,
            "min_width": null,
            "object_fit": null,
            "object_position": null,
            "order": null,
            "overflow": null,
            "overflow_x": null,
            "overflow_y": null,
            "padding": null,
            "right": null,
            "top": null,
            "visibility": null,
            "width": null
          }
        },
        "232333db6f734f50ac10e353344e9bcb": {
          "model_module": "@jupyter-widgets/base",
          "model_name": "LayoutModel",
          "model_module_version": "1.2.0",
          "state": {
            "_model_module": "@jupyter-widgets/base",
            "_model_module_version": "1.2.0",
            "_model_name": "LayoutModel",
            "_view_count": null,
            "_view_module": "@jupyter-widgets/base",
            "_view_module_version": "1.2.0",
            "_view_name": "LayoutView",
            "align_content": null,
            "align_items": null,
            "align_self": null,
            "border": null,
            "bottom": null,
            "display": null,
            "flex": null,
            "flex_flow": null,
            "grid_area": null,
            "grid_auto_columns": null,
            "grid_auto_flow": null,
            "grid_auto_rows": null,
            "grid_column": null,
            "grid_gap": null,
            "grid_row": null,
            "grid_template_areas": null,
            "grid_template_columns": null,
            "grid_template_rows": null,
            "height": null,
            "justify_content": null,
            "justify_items": null,
            "left": null,
            "margin": null,
            "max_height": null,
            "max_width": null,
            "min_height": null,
            "min_width": null,
            "object_fit": null,
            "object_position": null,
            "order": null,
            "overflow": null,
            "overflow_x": null,
            "overflow_y": null,
            "padding": null,
            "right": null,
            "top": null,
            "visibility": null,
            "width": null
          }
        },
        "490c0269be6d4eb2ba3f87f863243528": {
          "model_module": "@jupyter-widgets/controls",
          "model_name": "DescriptionStyleModel",
          "model_module_version": "1.5.0",
          "state": {
            "_model_module": "@jupyter-widgets/controls",
            "_model_module_version": "1.5.0",
            "_model_name": "DescriptionStyleModel",
            "_view_count": null,
            "_view_module": "@jupyter-widgets/base",
            "_view_module_version": "1.2.0",
            "_view_name": "StyleView",
            "description_width": ""
          }
        },
        "299bbc9d56e546b88aeb1f9dab10a58f": {
          "model_module": "@jupyter-widgets/base",
          "model_name": "LayoutModel",
          "model_module_version": "1.2.0",
          "state": {
            "_model_module": "@jupyter-widgets/base",
            "_model_module_version": "1.2.0",
            "_model_name": "LayoutModel",
            "_view_count": null,
            "_view_module": "@jupyter-widgets/base",
            "_view_module_version": "1.2.0",
            "_view_name": "LayoutView",
            "align_content": null,
            "align_items": null,
            "align_self": null,
            "border": null,
            "bottom": null,
            "display": null,
            "flex": null,
            "flex_flow": null,
            "grid_area": null,
            "grid_auto_columns": null,
            "grid_auto_flow": null,
            "grid_auto_rows": null,
            "grid_column": null,
            "grid_gap": null,
            "grid_row": null,
            "grid_template_areas": null,
            "grid_template_columns": null,
            "grid_template_rows": null,
            "height": null,
            "justify_content": null,
            "justify_items": null,
            "left": null,
            "margin": null,
            "max_height": null,
            "max_width": null,
            "min_height": null,
            "min_width": null,
            "object_fit": null,
            "object_position": null,
            "order": null,
            "overflow": null,
            "overflow_x": null,
            "overflow_y": null,
            "padding": null,
            "right": null,
            "top": null,
            "visibility": null,
            "width": null
          }
        },
        "b9b9ed6f984744e5b8db23ea9434dc95": {
          "model_module": "@jupyter-widgets/controls",
          "model_name": "ProgressStyleModel",
          "model_module_version": "1.5.0",
          "state": {
            "_model_module": "@jupyter-widgets/controls",
            "_model_module_version": "1.5.0",
            "_model_name": "ProgressStyleModel",
            "_view_count": null,
            "_view_module": "@jupyter-widgets/base",
            "_view_module_version": "1.2.0",
            "_view_name": "StyleView",
            "bar_color": null,
            "description_width": ""
          }
        },
        "dd3f0eed76f841f1a693b37ef8def321": {
          "model_module": "@jupyter-widgets/base",
          "model_name": "LayoutModel",
          "model_module_version": "1.2.0",
          "state": {
            "_model_module": "@jupyter-widgets/base",
            "_model_module_version": "1.2.0",
            "_model_name": "LayoutModel",
            "_view_count": null,
            "_view_module": "@jupyter-widgets/base",
            "_view_module_version": "1.2.0",
            "_view_name": "LayoutView",
            "align_content": null,
            "align_items": null,
            "align_self": null,
            "border": null,
            "bottom": null,
            "display": null,
            "flex": null,
            "flex_flow": null,
            "grid_area": null,
            "grid_auto_columns": null,
            "grid_auto_flow": null,
            "grid_auto_rows": null,
            "grid_column": null,
            "grid_gap": null,
            "grid_row": null,
            "grid_template_areas": null,
            "grid_template_columns": null,
            "grid_template_rows": null,
            "height": null,
            "justify_content": null,
            "justify_items": null,
            "left": null,
            "margin": null,
            "max_height": null,
            "max_width": null,
            "min_height": null,
            "min_width": null,
            "object_fit": null,
            "object_position": null,
            "order": null,
            "overflow": null,
            "overflow_x": null,
            "overflow_y": null,
            "padding": null,
            "right": null,
            "top": null,
            "visibility": null,
            "width": null
          }
        },
        "111ded8073574bc387e08d8e255da741": {
          "model_module": "@jupyter-widgets/controls",
          "model_name": "DescriptionStyleModel",
          "model_module_version": "1.5.0",
          "state": {
            "_model_module": "@jupyter-widgets/controls",
            "_model_module_version": "1.5.0",
            "_model_name": "DescriptionStyleModel",
            "_view_count": null,
            "_view_module": "@jupyter-widgets/base",
            "_view_module_version": "1.2.0",
            "_view_name": "StyleView",
            "description_width": ""
          }
        }
      }
    }
  },
  "nbformat": 4,
  "nbformat_minor": 5
}