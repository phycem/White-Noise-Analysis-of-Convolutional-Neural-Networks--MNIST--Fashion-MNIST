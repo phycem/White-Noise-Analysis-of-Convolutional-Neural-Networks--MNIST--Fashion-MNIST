{
  "cells": [
    {
      "cell_type": "markdown",
      "source": [
        "How is MNIST only providing the training and the test sets? What about the validation?\n",
        "\n",
        "In order to perform cross-study comparison of model performance it makes a lot of sense to have a single test set for benchmarking. This way, different investigators can compare their respective models in an \"apples to apples\" manner. The test set is tested only once, as already mentioned, and is in a practical sense the final arbiter of model performance."
      ],
      "metadata": {
        "id": "s6OQUQbC3neR"
      },
      "id": "s6OQUQbC3neR"
    },
    {
      "cell_type": "code",
      "execution_count": 1,
      "metadata": {
        "id": "b85ef51d"
      },
      "outputs": [],
      "source": [
        "import torch\n",
        "from torchvision import datasets, transforms\n",
        "import torch.nn.functional as F\n",
        "from torch.autograd import Variable\n",
        "import torch.optim as optim\n",
        "import numpy as np\n",
        "import random\n",
        "import matplotlib.pyplot as plt\n",
        "import math \n",
        "from tqdm import tqdm\n",
        "import sys\n",
        "from torchvision.datasets import MNIST\n",
        "from torch.utils.data import DataLoader\n",
        "from torch.utils.data import SubsetRandomSampler\n",
        "from PIL import Image\n",
        "from sklearn.metrics import classification_report, confusion_matrix\n",
        "import os\n",
        "from sklearn.metrics import accuracy_score"
      ],
      "id": "b85ef51d"
    },
    {
      "cell_type": "markdown",
      "source": [
        "##To get different random model weights"
      ],
      "metadata": {
        "id": "6GtXtBMUIW6Y"
      },
      "id": "6GtXtBMUIW6Y"
    },
    {
      "cell_type": "code",
      "execution_count": 2,
      "metadata": {
        "id": "RlqaIVwpNhUe"
      },
      "outputs": [],
      "source": [
        "#https://wandb.ai/sauravmaheshkar/RSNA-MICCAI/reports/How-to-Set-Random-Seeds-in-PyTorch-and-Tensorflow--VmlldzoxMDA2MDQy\n",
        "def set_seed(seed: int = 42) -> None:\n",
        "    np.random.seed(seed)\n",
        "    random.seed(seed)\n",
        "    torch.manual_seed(seed)\n",
        "    torch.cuda.manual_seed(seed)\n",
        "    # When running on the CuDNN backend, two further options must be set\n",
        "    torch.backends.cudnn.deterministic = True\n",
        "    torch.backends.cudnn.benchmark = False\n",
        "    # Set a fixed value for the hash seed\n",
        "    os.environ[\"PYTHONHASHSEED\"] = str(seed)\n",
        "    print(f\"Random seed set as {seed}\")\n"
      ],
      "id": "RlqaIVwpNhUe"
    },
    {
      "cell_type": "code",
      "execution_count": 3,
      "metadata": {
        "colab": {
          "base_uri": "https://localhost:8080/"
        },
        "id": "kQI0s3yTe4Qv",
        "outputId": "a809f4b8-6d14-470a-8e5e-f56c34e37459"
      },
      "outputs": [
        {
          "output_type": "stream",
          "name": "stdout",
          "text": [
            "Random seed set as 42\n"
          ]
        }
      ],
      "source": [
        "set_seed()"
      ],
      "id": "kQI0s3yTe4Qv"
    },
    {
      "cell_type": "code",
      "execution_count": 4,
      "metadata": {
        "colab": {
          "base_uri": "https://localhost:8080/",
          "height": 818
        },
        "id": "8e96e614",
        "outputId": "72b7c4bc-dba7-4aa4-9d9c-b2b0e8872521"
      },
      "outputs": [
        {
          "output_type": "stream",
          "name": "stdout",
          "text": [
            "Downloading http://yann.lecun.com/exdb/mnist/train-images-idx3-ubyte.gz\n",
            "Downloading http://yann.lecun.com/exdb/mnist/train-images-idx3-ubyte.gz to data/MNIST/raw/train-images-idx3-ubyte.gz\n"
          ]
        },
        {
          "output_type": "stream",
          "name": "stderr",
          "text": [
            "100%|██████████| 9912422/9912422 [00:00<00:00, 94467280.10it/s]\n"
          ]
        },
        {
          "output_type": "stream",
          "name": "stdout",
          "text": [
            "Extracting data/MNIST/raw/train-images-idx3-ubyte.gz to data/MNIST/raw\n",
            "\n",
            "Downloading http://yann.lecun.com/exdb/mnist/train-labels-idx1-ubyte.gz\n",
            "Downloading http://yann.lecun.com/exdb/mnist/train-labels-idx1-ubyte.gz to data/MNIST/raw/train-labels-idx1-ubyte.gz\n"
          ]
        },
        {
          "output_type": "stream",
          "name": "stderr",
          "text": [
            "100%|██████████| 28881/28881 [00:00<00:00, 46076718.84it/s]"
          ]
        },
        {
          "output_type": "stream",
          "name": "stdout",
          "text": [
            "Extracting data/MNIST/raw/train-labels-idx1-ubyte.gz to data/MNIST/raw\n",
            "\n",
            "Downloading http://yann.lecun.com/exdb/mnist/t10k-images-idx3-ubyte.gz\n",
            "Downloading http://yann.lecun.com/exdb/mnist/t10k-images-idx3-ubyte.gz to data/MNIST/raw/t10k-images-idx3-ubyte.gz\n"
          ]
        },
        {
          "output_type": "stream",
          "name": "stderr",
          "text": [
            "\n",
            "100%|██████████| 1648877/1648877 [00:00<00:00, 28171669.82it/s]\n"
          ]
        },
        {
          "output_type": "stream",
          "name": "stdout",
          "text": [
            "Extracting data/MNIST/raw/t10k-images-idx3-ubyte.gz to data/MNIST/raw\n",
            "\n",
            "Downloading http://yann.lecun.com/exdb/mnist/t10k-labels-idx1-ubyte.gz\n",
            "Downloading http://yann.lecun.com/exdb/mnist/t10k-labels-idx1-ubyte.gz to data/MNIST/raw/t10k-labels-idx1-ubyte.gz\n"
          ]
        },
        {
          "output_type": "stream",
          "name": "stderr",
          "text": [
            "100%|██████████| 4542/4542 [00:00<00:00, 10855002.15it/s]\n"
          ]
        },
        {
          "output_type": "stream",
          "name": "stdout",
          "text": [
            "Extracting data/MNIST/raw/t10k-labels-idx1-ubyte.gz to data/MNIST/raw\n",
            "\n"
          ]
        },
        {
          "output_type": "display_data",
          "data": {
            "text/plain": [
              "<Figure size 1200x600 with 10 Axes>"
            ],
            "image/png": "[encoded data removed]"
          },
          "metadata": {}
        }
      ],
      "source": [
        "# Define the digits to print original images for\n",
        "digits = [0, 1, 2, 3, 4, 5, 6, 7, 8, 9]\n",
        "\n",
        "# Load MNIST dataset\n",
        "mnist_dataset = MNIST(root='data/', download=True)\n",
        "\n",
        "# Print original images for each digit\n",
        "fig, axs = plt.subplots(2, 5, figsize=(12, 6))\n",
        "for i, ax in enumerate(axs.flat):\n",
        "    digit_indices = np.where(np.array(mnist_dataset.targets) == digits[i])[0]\n",
        "    img = mnist_dataset.data[digit_indices[0]].numpy()\n",
        "    ax.imshow(img)\n",
        "    ax.set_title(f\"Digit {i}\")\n",
        "    ax.axis('off')\n",
        "plt.show()\n"
      ],
      "id": "8e96e614"
    },
    {
      "cell_type": "code",
      "source": [
        "all_noise_maps.shape"
      ],
      "metadata": {
        "colab": {
          "base_uri": "https://localhost:8080/"
        },
        "id": "l5uw2kOHUbAA",
        "outputId": "d2826965-261e-4a96-c1ef-cbfbdf6f45e9"
      },
      "id": "l5uw2kOHUbAA",
      "execution_count": null,
      "outputs": [
        {
          "output_type": "execute_result",
          "data": {
            "text/plain": [
              "(9786, 28, 28)"
            ]
          },
          "metadata": {},
          "execution_count": 35
        }
      ]
    },
    {
      "cell_type": "code",
      "source": [
        "mnist_dataset = MNIST(root='data/',train=False, download=True)\n",
        "mnist_dataset"
      ],
      "metadata": {
        "colab": {
          "base_uri": "https://localhost:8080/"
        },
        "id": "fO8stt-AlT_U",
        "outputId": "077473d3-f2d8-48dd-ba95-adfae259bc72"
      },
      "id": "fO8stt-AlT_U",
      "execution_count": null,
      "outputs": [
        {
          "output_type": "execute_result",
          "data": {
            "text/plain": [
              "Dataset MNIST\n",
              "    Number of datapoints: 10000\n",
              "    Root location: data/\n",
              "    Split: Test"
            ]
          },
          "metadata": {},
          "execution_count": 66
        }
      ]
    },
    {
      "cell_type": "markdown",
      "source": [
        "#Question 3A: Classification image for each digit by white noise equation. First define a function for all the noise images.Then do a loop over for all the images to average them."
      ],
      "metadata": {
        "id": "kjJ4MLhn_kBN"
      },
      "id": "kjJ4MLhn_kBN"
    },
    {
      "cell_type": "code",
      "source": [
        "# Define the gamma value\n",
        "gamma = 0.2\n",
        "\n",
        "# Define the number of samples and image shape\n",
        "n_samples = 500\n",
        "img_shape = (28, 28)\n",
        "\n",
        "# Define the digits to generate noise maps for\n",
        "digits = [0, 1, 2, 3, 4, 5, 6, 7, 8, 9]\n",
        "\n",
        "def generate_noise_maps_per_digit(digit, n_samples, gamma, img_shape=(28, 28)):\n",
        "    noise_maps = []\n",
        "    mnist_dataset = MNIST(root='data/',train=False, download=True)\n",
        "    digit_indices = np.where(np.array(mnist_dataset.targets) == digit)[0]\n",
        "    digit_indices = digit_indices[:n_samples]\n",
        "    for idx in digit_indices:\n",
        "        # Get original image\n",
        "        img = mnist_dataset.data[idx].numpy()\n",
        "        # Generate random noise\n",
        "        noise = np.random.randn(*img_shape)\n",
        "        # Combine noise with original image\n",
        "        noisy_img = gamma * noise + (1 - gamma) * img\n",
        "        noise_maps.append(noisy_img)\n",
        "    return np.array(noise_maps)\n",
        "\n",
        "# Generate noise maps for each digit and average them\n",
        "noise_maps=[]\n",
        "avgd_noise_maps = []\n",
        "for digit in digits:\n",
        "    digit_noise_maps = generate_noise_maps_per_digit(digit, n_samples, gamma, img_shape=(28,28))\n",
        "    avg_noise_map = np.mean(digit_noise_maps, axis=0)\n",
        "    avgd_noise_maps.append(avg_noise_map)\n",
        "    noise_maps.append(digit_noise_maps)\n",
        "\n",
        "all_noise_maps = np.concatenate(noise_maps)\n",
        "    \n",
        "\n",
        "# Plot the noise maps\n",
        "fig, axs = plt.subplots(2, 5, figsize=(12, 6))\n",
        "for i, ax in enumerate(axs.flat):\n",
        "    ax.imshow(avgd_noise_maps[i])\n",
        "    ax.set_title(f\"Class {i}\")\n",
        "    ax.axis('off')\n",
        "plt.show()\n"
      ],
      "metadata": {
        "colab": {
          "base_uri": "https://localhost:8080/",
          "height": 471
        },
        "id": "i9xZpPf0kDGU",
        "outputId": "276ad369-495e-43d3-dd6b-fc41956d894d"
      },
      "execution_count": 5,
      "outputs": [
        {
          "output_type": "display_data",
          "data": {
            "text/plain": [
              "<Figure size 1200x600 with 10 Axes>"
            ],
            "image/png": "[encoded data removed]"
          },
          "metadata": {}
        }
      ],
      "id": "i9xZpPf0kDGU"
    },
    {
      "cell_type": "code",
      "source": [
        "all_noise_maps.shape"
      ],
      "metadata": {
        "colab": {
          "base_uri": "https://localhost:8080/"
        },
        "id": "NtSKDjJ_PhCz",
        "outputId": "5e08680a-5572-4bf2-a013-ec2e283c13ed"
      },
      "id": "NtSKDjJ_PhCz",
      "execution_count": null,
      "outputs": [
        {
          "output_type": "execute_result",
          "data": {
            "text/plain": [
              "(9786, 28, 28)"
            ]
          },
          "metadata": {},
          "execution_count": 19
        }
      ]
    },
    {
      "cell_type": "markdown",
      "source": [
        "#This is the noise at the background without MNIST digits. "
      ],
      "metadata": {
        "id": "aAzTzQhfBC0J"
      },
      "id": "aAzTzQhfBC0J"
    },
    {
      "cell_type": "code",
      "execution_count": 6,
      "metadata": {
        "colab": {
          "base_uri": "https://localhost:8080/",
          "height": 1000
        },
        "id": "4cda6b90",
        "outputId": "91e892bc-b58b-4452-c717-d527e1fa7f37"
      },
      "outputs": [
        {
          "output_type": "display_data",
          "data": {
            "text/plain": [
              "<Figure size 640x480 with 1 Axes>"
            ],
            "image/png": "[encoded data removed]"
          },
          "metadata": {}
        },
        {
          "output_type": "display_data",
          "data": {
            "text/plain": [
              "<Figure size 640x480 with 1 Axes>"
            ],
            "image/png": "[encoded data removed]"
          },
          "metadata": {}
        },
        {
          "output_type": "display_data",
          "data": {
            "text/plain": [
              "<Figure size 640x480 with 1 Axes>"
            ],
            "image/png": "[encoded data removed]"
          },
          "metadata": {}
        },
        {
          "output_type": "display_data",
          "data": {
            "text/plain": [
              "<Figure size 640x480 with 1 Axes>"
            ],
            "image/png": "[encoded data removed]"
          },
          "metadata": {}
        },
        {
          "output_type": "display_data",
          "data": {
            "text/plain": [
              "<Figure size 640x480 with 1 Axes>"
            ],
            "image/png": "[encoded data removed]"
          },
          "metadata": {}
        },
        {
          "output_type": "display_data",
          "data": {
            "text/plain": [
              "<Figure size 640x480 with 1 Axes>"
            ],
            "image/png": "[encoded data removed]"
          },
          "metadata": {}
        },
        {
          "output_type": "display_data",
          "data": {
            "text/plain": [
              "<Figure size 640x480 with 1 Axes>"
            ],
            "image/png": "[encoded data removed]"
          },
          "metadata": {}
        },
        {
          "output_type": "display_data",
          "data": {
            "text/plain": [
              "<Figure size 640x480 with 1 Axes>"
            ],
            "image/png": "[encoded data removed]"
          },
          "metadata": {}
        },
        {
          "output_type": "display_data",
          "data": {
            "text/plain": [
              "<Figure size 640x480 with 1 Axes>"
            ],
            "image/png": "[encoded data removed]"
          },
          "metadata": {}
        },
        {
          "output_type": "display_data",
          "data": {
            "text/plain": [
              "<Figure size 640x480 with 1 Axes>"
            ],
            "image/png": "[encoded data removed]"
          },
          "metadata": {}
        }
      ],
      "source": [
        "def generate_noise_maps(n_samples, gamma, img_shape=(28, 28)):\n",
        "    background_noise_maps = []\n",
        "    for _ in range(n_samples):\n",
        "        # Generate random noise\n",
        "        noise = np.random.randn(*img_shape)\n",
        "        # Combine noise with original image\n",
        "        noisy_img = gamma * noise + (1 - gamma) * np.ones(img_shape)\n",
        "        background_noise_maps.append(noisy_img)\n",
        "    return np.array(background_noise_maps)\n",
        "\n",
        "# assuming `noisy_images` is a list of numpy arrays with shape (28, 28)\n",
        "for i in range(len(generate_noise_maps(10,0.4, img_shape=(28, 28)))):\n",
        "    fig, ax = plt.subplots()\n",
        "    ax.imshow(generate_noise_maps(10,0.1, img_shape=(28, 28))[i])\n",
        "    ax.axis('off')\n",
        "    plt.show()\n",
        "\n"
      ],
      "id": "4cda6b90"
    },
    {
      "cell_type": "markdown",
      "source": [
        "#Train the model and test on MNIST test dataset "
      ],
      "metadata": {
        "id": "dXUKoPVGBnA3"
      },
      "id": "dXUKoPVGBnA3"
    },
    {
      "cell_type": "code",
      "execution_count": null,
      "metadata": {
        "colab": {
          "base_uri": "https://localhost:8080/"
        },
        "id": "oOBV6OUZAtCC",
        "outputId": "b5d86209-73aa-449f-f320-32e7235676c5"
      },
      "outputs": [
        {
          "output_type": "stream",
          "name": "stdout",
          "text": [
            "Epoch 1/20, loss: 0.0225, accuracy: 0.9856\n",
            "Best model saved!\n",
            "Epoch 2/20, loss: 0.0000, accuracy: 0.9896\n",
            "Best model saved!\n",
            "Epoch 3/20, loss: 0.0001, accuracy: 0.9904\n",
            "Best model saved!\n",
            "Epoch 4/20, loss: 0.0058, accuracy: 0.9900\n",
            "Epoch 5/20, loss: 0.0096, accuracy: 0.9916\n",
            "Best model saved!\n",
            "Epoch 6/20, loss: 0.0021, accuracy: 0.9890\n",
            "Epoch 7/20, loss: 0.0000, accuracy: 0.9900\n",
            "Epoch 8/20, loss: 0.0000, accuracy: 0.9909\n",
            "Epoch 9/20, loss: 0.0069, accuracy: 0.9914\n",
            "Epoch 10/20, loss: 0.0000, accuracy: 0.9922\n",
            "Best model saved!\n",
            "Epoch 11/20, loss: 0.0279, accuracy: 0.9915\n",
            "Epoch 12/20, loss: 0.0000, accuracy: 0.9913\n",
            "Epoch 13/20, loss: 0.0513, accuracy: 0.9910\n",
            "Epoch 14/20, loss: 0.0000, accuracy: 0.9912\n",
            "Epoch 15/20, loss: 0.0000, accuracy: 0.9930\n",
            "Best model saved!\n",
            "Epoch 16/20, loss: 0.0000, accuracy: 0.9902\n",
            "Epoch 17/20, loss: 0.0000, accuracy: 0.9935\n",
            "Best model saved!\n",
            "Epoch 18/20, loss: 0.0000, accuracy: 0.9874\n",
            "Epoch 19/20, loss: 0.0237, accuracy: 0.9926\n",
            "Epoch 20/20, loss: 0.0000, accuracy: 0.9903\n"
          ]
        }
      ],
      "source": [
        "# Set device to CPU\n",
        "device = torch.device('cpu')\n",
        "\n",
        "# Define transformations for the data\n",
        "transform = transforms.Compose([\n",
        "    transforms.Grayscale(),\n",
        "    transforms.ToTensor(),\n",
        "    transforms.Normalize((0.1307,), (0.3081,))\n",
        "])\n",
        "\n",
        "# Load the training and test datasets\n",
        "train_dataset = datasets.MNIST('data/', train=True, download=True, transform=transform)\n",
        "test_dataset = datasets.MNIST('data/', train=False, download=True, transform=transform)\n",
        "\n",
        "# Create data loaders for the datasets\n",
        "train_loader = torch.utils.data.DataLoader(train_dataset, batch_size=64, shuffle=True)\n",
        "test_loader = torch.utils.data.DataLoader(test_dataset, batch_size=64, shuffle=False)\n",
        "\n",
        "# Move data and model to device (CUDA or CPU)\n",
        "train_loader = train_loader\n",
        "\n",
        "# set random seed\n",
        "#torch.manual_seed(123)\n",
        "\n",
        "# define the model architecture\n",
        "class Model(torch.nn.Module):\n",
        "    def __init__(self):\n",
        "        super(Model, self).__init__()\n",
        "        self.conv1 = torch.nn.Conv2d(1, 20, kernel_size=5)\n",
        "        self.conv2 = torch.nn.Conv2d(20, 50, kernel_size=5)\n",
        "        self.fc1 = torch.nn.Linear(4*4*50, 500)\n",
        "        self.fc2 = torch.nn.Linear(500, 10)\n",
        "\n",
        "    def forward(self, x):\n",
        "        x = F.relu(F.max_pool2d(self.conv1(x), 2))\n",
        "        x = F.relu(F.max_pool2d(self.conv2(x), 2))\n",
        "        x = x.view(-1, 4*4*50)\n",
        "        x = F.relu(self.fc1(x))\n",
        "        x = self.fc2(x)\n",
        "        x = F.log_softmax(x, dim=1)\n",
        "        return x\n",
        "    \n",
        "    \n",
        "model = Model()\n",
        "    \n",
        "# define the optimizer\n",
        "optimizer = optim.Adam(model.parameters(), lr=1e-3) \n",
        "\n",
        "# define the loss function\n",
        "loss_fn = torch.nn.CrossEntropyLoss()\n",
        "\n",
        "# set the number of epochs\n",
        "EPOCHS = 20\n",
        "\n",
        "# create empty list to store the losses for each batch\n",
        "losses = []\n",
        "\n",
        "# initialize best accuracy to zero\n",
        "best_accuracy = 0\n",
        "\n",
        "# train the model\n",
        "for epoch in range(EPOCHS):\n",
        "    # set the model to train mode\n",
        "    model.train()\n",
        "\n",
        "    # loop over the batches in the training set\n",
        "    for batch_idx, (data, target) in enumerate(train_loader):\n",
        "        data, target = data.cpu(), target.cpu()\n",
        "        # move the data to the device\n",
        "        #data, target = data.to(device), target.to(device)\n",
        "\n",
        "        # zero out the gradients\n",
        "        optimizer.zero_grad()\n",
        "\n",
        "        # forward pass\n",
        "        y_pred = model(data)\n",
        "\n",
        "        # calculate the loss\n",
        "        loss = loss_fn(y_pred, target)\n",
        "\n",
        "        # backward pass\n",
        "        loss.backward()\n",
        "\n",
        "        # update the weights\n",
        "        optimizer.step()\n",
        "\n",
        "        # save the loss for this batch\n",
        "        losses.append(loss.item())\n",
        "\n",
        "    # evaluate the model on the test set\n",
        "    model.eval()\n",
        "\n",
        "    # create empty list to store the predictions\n",
        "    predictions = []\n",
        "\n",
        "    # loop over the batches in the test set\n",
        "    for data, target in test_loader:\n",
        "        # move the data to the device\n",
        "        data = data.cpu()\n",
        "        target = target.cpu()\n",
        "\n",
        "        # forward pass\n",
        "        #output = model([:,None,...])[0]\n",
        "        #output = model(data.unsqueeze(1))[0]\n",
        "        output = model(data)\n",
        "\n",
        "\n",
        "        # get the predicted class\n",
        "        #pred = output.argmax(dim=1, keepdim=True)\n",
        "        \n",
        "        pred = output.data.max(1)[1]\n",
        "        d = pred.eq(target.data).cpu()\n",
        "        accuracy = d.sum().type(dtype=torch.float64)/d.size()[0]\n",
        "\n",
        "        # save the predictions\n",
        "        predictions.append(pred.cpu().numpy())\n",
        "\n",
        "    # concatenate the predictions into a single array\n",
        "    predictions = np.concatenate(predictions)\n",
        "\n",
        "    # calculate the accuracy\n",
        "    test_targets = test_loader.dataset.targets.numpy()\n",
        "    accuracy = np.mean(predictions == test_targets)\n",
        "\n",
        "    # print the loss and accuracy for this epoch\n",
        "    print(f\"Epoch {epoch+1}/{EPOCHS}, loss: {losses[-1]:.4f}, accuracy: {accuracy:.4f}\")\n",
        "\n",
        "    # save the model if it has the best accuracy so far\n",
        "    if accuracy > best_accuracy:\n",
        "        best_accuracy = accuracy\n",
        "        torch.save(model.state_dict(), \"best_model.pt\")\n",
        "        print(\"Best model saved!\")\n",
        "\n"
      ],
      "id": "oOBV6OUZAtCC"
    },
    {
      "cell_type": "code",
      "source": [
        "import tensorflow as tf\n",
        "\n",
        "# Load the saved model\n",
        "saved_model = tf.keras.models.load_model('/content/model2.h5')\n",
        "\n",
        "# Show the model architecture\n",
        "saved_model.summary()\n"
      ],
      "metadata": {
        "id": "W7Wm7MsMjMR_",
        "outputId": "20fb6caf-fc5c-4fce-9227-3fd479ae9001",
        "colab": {
          "base_uri": "https://localhost:8080/"
        }
      },
      "id": "W7Wm7MsMjMR_",
      "execution_count": 8,
      "outputs": [
        {
          "output_type": "stream",
          "name": "stdout",
          "text": [
            "Model: \"sequential_6\"\n",
            "_________________________________________________________________\n",
            " Layer (type)                Output Shape              Param #   \n",
            "=================================================================\n",
            " conv2d_15 (Conv2D)          (None, 24, 24, 20)        520       \n",
            "                                                                 \n",
            " max_pooling2d_12 (MaxPoolin  (None, 12, 12, 20)       0         \n",
            " g2D)                                                            \n",
            "                                                                 \n",
            " conv2d_16 (Conv2D)          (None, 8, 8, 50)          25050     \n",
            "                                                                 \n",
            " max_pooling2d_13 (MaxPoolin  (None, 4, 4, 50)         0         \n",
            " g2D)                                                            \n",
            "                                                                 \n",
            " flatten_6 (Flatten)         (None, 800)               0         \n",
            "                                                                 \n",
            " dense_12 (Dense)            (None, 500)               400500    \n",
            "                                                                 \n",
            " dense_13 (Dense)            (None, 10)                5010      \n",
            "                                                                 \n",
            "=================================================================\n",
            "Total params: 431,080\n",
            "Trainable params: 431,080\n",
            "Non-trainable params: 0\n",
            "_________________________________________________________________\n"
          ]
        }
      ]
    },
    {
      "cell_type": "markdown",
      "source": [
        "#3B Feed the average noise map back in to the CNN and report which class they are classified as"
      ],
      "metadata": {
        "id": "HNrhTEYxCiWa"
      },
      "id": "HNrhTEYxCiWa"
    },
    {
      "cell_type": "code",
      "source": [
        "# predict on averaged image\n",
        "# Define the number of samples and image shape\n",
        "n_samples = 500\n",
        "img_shape = (28, 28)\n",
        "\n",
        "# Define the digits to generate noise maps for\n",
        "digits = [0, 1, 2, 3, 4, 5, 6, 7, 8, 9]\n",
        "\n",
        "# Define the threshold for predictions\n",
        "threshold = 0.7\n",
        "\n",
        "for digit in digits:\n",
        "    test_tensor = torch.from_numpy((avgd_noise_maps[digit])[None,...]).type(torch.FloatTensor)\n",
        "    output = saved_model(test_tensor)\n",
        "    \n",
        "    # Get the predicted class and corresponding probability\n",
        "    probs = torch.softmax(output, dim=1)\n",
        "    max_prob, pred_class = torch.max(probs, dim=1)\n",
        "    \n",
        "    # Filter out predictions with low confidence\n",
        "    if max_prob >= threshold:\n",
        "        # Convert the noise map to an image\n",
        "        noise_map =avgd_noise_maps[digit]\n",
        "        img = (noise_map * 255)\n",
        "    \n",
        "        # Display the image with the predicted and actual class labels\n",
        "        plt.imshow(img)\n",
        "        plt.title(f\"Predicted: {pred_class.item()}, Actual: {digit}\")\n",
        "        plt.show()"
      ],
      "metadata": {
        "colab": {
          "base_uri": "https://localhost:8080/",
          "height": 1000
        },
        "id": "qCOTBtrrLtaO",
        "outputId": "2183702a-a28f-4ef2-ceca-58bc0142a9d4"
      },
      "id": "qCOTBtrrLtaO",
      "execution_count": 9,
      "outputs": [
        {
          "output_type": "error",
          "ename": "AttributeError",
          "evalue": "ignored",
          "traceback": [
            "\u001b[0;31m---------------------------------------------------------------------------\u001b[0m",
            "\u001b[0;31mAttributeError\u001b[0m                            Traceback (most recent call last)",
            "\u001b[0;32m<ipython-input-9-1c721dd202dd>\u001b[0m in \u001b[0;36m<cell line: 12>\u001b[0;34m()\u001b[0m\n\u001b[1;32m     12\u001b[0m \u001b[0;32mfor\u001b[0m \u001b[0mdigit\u001b[0m \u001b[0;32min\u001b[0m \u001b[0mdigits\u001b[0m\u001b[0;34m:\u001b[0m\u001b[0;34m\u001b[0m\u001b[0;34m\u001b[0m\u001b[0m\n\u001b[1;32m     13\u001b[0m     \u001b[0mtest_tensor\u001b[0m \u001b[0;34m=\u001b[0m \u001b[0mtorch\u001b[0m\u001b[0;34m.\u001b[0m\u001b[0mfrom_numpy\u001b[0m\u001b[0;34m(\u001b[0m\u001b[0;34m(\u001b[0m\u001b[0mavgd_noise_maps\u001b[0m\u001b[0;34m[\u001b[0m\u001b[0mdigit\u001b[0m\u001b[0;34m]\u001b[0m\u001b[0;34m)\u001b[0m\u001b[0;34m[\u001b[0m\u001b[0;32mNone\u001b[0m\u001b[0;34m,\u001b[0m\u001b[0;34m...\u001b[0m\u001b[0;34m]\u001b[0m\u001b[0;34m)\u001b[0m\u001b[0;34m.\u001b[0m\u001b[0mtype\u001b[0m\u001b[0;34m(\u001b[0m\u001b[0mtorch\u001b[0m\u001b[0;34m.\u001b[0m\u001b[0mFloatTensor\u001b[0m\u001b[0;34m)\u001b[0m\u001b[0;34m\u001b[0m\u001b[0;34m\u001b[0m\u001b[0m\n\u001b[0;32m---> 14\u001b[0;31m     \u001b[0moutput\u001b[0m \u001b[0;34m=\u001b[0m \u001b[0msaved_model\u001b[0m\u001b[0;34m(\u001b[0m\u001b[0mtest_tensor\u001b[0m\u001b[0;34m)\u001b[0m\u001b[0;34m\u001b[0m\u001b[0;34m\u001b[0m\u001b[0m\n\u001b[0m\u001b[1;32m     15\u001b[0m \u001b[0;34m\u001b[0m\u001b[0m\n\u001b[1;32m     16\u001b[0m     \u001b[0;31m# Get the predicted class and corresponding probability\u001b[0m\u001b[0;34m\u001b[0m\u001b[0;34m\u001b[0m\u001b[0m\n",
            "\u001b[0;32m/usr/local/lib/python3.10/dist-packages/keras/utils/traceback_utils.py\u001b[0m in \u001b[0;36merror_handler\u001b[0;34m(*args, **kwargs)\u001b[0m\n\u001b[1;32m     68\u001b[0m             \u001b[0;31m# To get the full stack trace, call:\u001b[0m\u001b[0;34m\u001b[0m\u001b[0;34m\u001b[0m\u001b[0m\n\u001b[1;32m     69\u001b[0m             \u001b[0;31m# `tf.debugging.disable_traceback_filtering()`\u001b[0m\u001b[0;34m\u001b[0m\u001b[0;34m\u001b[0m\u001b[0m\n\u001b[0;32m---> 70\u001b[0;31m             \u001b[0;32mraise\u001b[0m \u001b[0me\u001b[0m\u001b[0;34m.\u001b[0m\u001b[0mwith_traceback\u001b[0m\u001b[0;34m(\u001b[0m\u001b[0mfiltered_tb\u001b[0m\u001b[0;34m)\u001b[0m \u001b[0;32mfrom\u001b[0m \u001b[0;32mNone\u001b[0m\u001b[0;34m\u001b[0m\u001b[0;34m\u001b[0m\u001b[0m\n\u001b[0m\u001b[1;32m     71\u001b[0m         \u001b[0;32mfinally\u001b[0m\u001b[0;34m:\u001b[0m\u001b[0;34m\u001b[0m\u001b[0;34m\u001b[0m\u001b[0m\n\u001b[1;32m     72\u001b[0m             \u001b[0;32mdel\u001b[0m \u001b[0mfiltered_tb\u001b[0m\u001b[0;34m\u001b[0m\u001b[0;34m\u001b[0m\u001b[0m\n",
            "\u001b[0;32m/usr/local/lib/python3.10/dist-packages/keras/engine/input_spec.py\u001b[0m in \u001b[0;36massert_input_compatibility\u001b[0;34m(input_spec, inputs, layer_name)\u001b[0m\n\u001b[1;32m    249\u001b[0m                 )\n\u001b[1;32m    250\u001b[0m         \u001b[0;32mif\u001b[0m \u001b[0mspec\u001b[0m\u001b[0;34m.\u001b[0m\u001b[0mmin_ndim\u001b[0m \u001b[0;32mis\u001b[0m \u001b[0;32mnot\u001b[0m \u001b[0;32mNone\u001b[0m\u001b[0;34m:\u001b[0m\u001b[0;34m\u001b[0m\u001b[0;34m\u001b[0m\u001b[0m\n\u001b[0;32m--> 251\u001b[0;31m             \u001b[0mndim\u001b[0m \u001b[0;34m=\u001b[0m \u001b[0mx\u001b[0m\u001b[0;34m.\u001b[0m\u001b[0mshape\u001b[0m\u001b[0;34m.\u001b[0m\u001b[0mrank\u001b[0m\u001b[0;34m\u001b[0m\u001b[0;34m\u001b[0m\u001b[0m\n\u001b[0m\u001b[1;32m    252\u001b[0m             \u001b[0;32mif\u001b[0m \u001b[0mndim\u001b[0m \u001b[0;32mis\u001b[0m \u001b[0;32mnot\u001b[0m \u001b[0;32mNone\u001b[0m \u001b[0;32mand\u001b[0m \u001b[0mndim\u001b[0m \u001b[0;34m<\u001b[0m \u001b[0mspec\u001b[0m\u001b[0;34m.\u001b[0m\u001b[0mmin_ndim\u001b[0m\u001b[0;34m:\u001b[0m\u001b[0;34m\u001b[0m\u001b[0;34m\u001b[0m\u001b[0m\n\u001b[1;32m    253\u001b[0m                 raise ValueError(\n",
            "\u001b[0;31mAttributeError\u001b[0m: Exception encountered when calling layer 'sequential_6' (type Sequential).\n\n'torch.Size' object has no attribute 'rank'\n\nCall arguments received by layer 'sequential_6' (type Sequential):\n  • inputs=tensor([[[-7.7871e-03, -8.5140e-03,  9.7283e-04, -3.7100e-04,  1.7549e-02,\n          -2.2297e-03, -1.7825e-03,  4.4751e-03,  5.9140e-03, -4.4574e-03,\n          -2.8428e-04, -7.9067e-03,  1.7786e-02, -1.0648e-02, -2.1252e-02,\n           1.6075e-03,  4.8351e-04,  8.8126e-03,  9.2353e-03, -1.2168e-02,\n          -6.9544e-03,  4.1819e-03, -1.0214e-02, -4.4328e-03, -5.5778e-03,\n          -6.6254e-03,  9.1581e-03,  3.5518e-03],\n         [ 7.4823e-03, -1.8043e-02, -6.6906e-03,  5.1524e-03,  2.2090e-02,\n           6.0982e-03,  3.1289e-03, -5.1313e-03, -6.9630e-03, -1.1458e-02,\n           5.3621e-03, -9.5681e-03, -1.0777e-02,  1.1470e-03,  6.5384e-03,\n          -4.9875e-03, -1.4709e-02, -7.0864e-03,  1.8770e-03,  4.5474e-03,\n           1.9004e-02, -9.3923e-03,  1.4102e-02,  4.3158e-03, -6.8374e-05,\n           1.6721e-04,  9.0132e-03,  2.2788e-02],\n         [ 1.0935e-02, -1.4973e-02, -1.0209e-02, -6.8935e-03, -1.5608e-02,\n           6.5872e-04, -2.4476e-03,  1.8562e-03, -8.7830e-03,  1.1644e-02,\n          -1.5914e-02,  2.0878e-04,  5.5920e-03,  8.9864e-03, -7.5793e-04,\n          -1.2304e-03, -9.0398e-03, -8.0461e-04, -1.3137e-02, -8.4088e-03,\n           1.4885e-03,  9.9128e-03, -5.3446e-03,  1.4753e-03,  1.7826e-02,\n          -1.0049e-02, -1.6944e-04,  1.6284e-02],\n         [-3.1965e-03, -1.8501e-03,  1.2249e-02, -1.5321e-03,  2.8415e-04,\n          -2.8124e-03,  5.4761e-03, -2.0088e-03,  9.8536e-04,  9.5288e-02,\n           6.5913e-01,  8.5463e-01,  1.3591e+00,  2.2080e+00,  3.1434e+00,\n           3.9729e+00,  4.4166e+00,  3.4629e+00,  1.5881e+00,  9.5967e-01,\n           5.8663e-01,  1.9570e-01,  3.9921e-01,  1.0405e-01, -2.4943e-03,\n          -2.8800e-03,  3.4806e-03, -1.2137e-02],\n         [ 8.3899e-03, -6.1435e-03, -5.1311e-03, -8.4917e-03,  4.4552e-03,\n          -3.3254e-03,  1.4144e-01,  7.8606e-02,  5.2419e-01,  2.8751e+00,\n           7.2994e+00,  1.4033e+01,  2.6784e+01,  4.1416e+01,  5.0356e+01,\n           5.6706e+01,  5.1609e+01,  3.9849e+01,  2.7187e+01,  1.6814e+01,\n           9.1145e+00,  4.6436e+00,  1.4923e+00,  1.9291e-01,  5.8731e-03,\n           5.5891e-03,  2.4036e-03,  1.5568e-03],\n         [ 4.0491e-04,  1.3398e-03, -1.2922e-02, -6.1782e-03,  6.2716e-03,\n           1.4068e-01,  5.2672e-01,  1.5675e+00,  3.9191e+00,  1.1539e+01,\n           2.6228e+01,  5.0002e+01,  7.5693e+01,  1.0222e+02,  1.2101e+02,\n           1.2611e+02,  1.1903e+02,  1.0334e+02,  8.0573e+01,  5.1468e+01,\n           3.0071e+01,  1.6378e+01,  9.0770e+00,  1.7799e+00,  5.2889e-02,\n          -1.2139e-02,  1.9172e-03,  8.7994e-03],\n         [ 1.9345e-03,  1.8785e-03,  1.1334e-02, -1.7059e-03,  8.4752e-02,\n           4.2179e-01,  1.2886e+00,  4.8387e+00,  1.2601e+01,  2.9190e+01,\n           5.5131e+01,  8.8318e+01,  1.1777e+02,  1.3611e+02,  1.4492e+02,\n           1.4438e+02,  1.3865e+02,  1.3102e+02,  1.1808e+02,  8.8510e+01,\n           5.8261e+01,  3.4197e+01,  1.7622e+01,  6.0376e+00,  8.9765e-01,\n          -8.8813e-03, -4.9915e-03,  1.0615e-02],\n         [ 1.1158e-02, -1.1137e-02, -4.1433e-03, -8.9971e-03,  9.8672e-02,\n           7.6006e-01,  3.8335e+00,  1.0932e+01,  2.6847e+01,  5.2487e+01,\n           8.4100e+01,  1.1427e+02,  1.2881e+02,  1.3411e+02,  1.3527e+02,\n           1.3115e+02,  1.2558e+02,  1.2471e+02,  1.2456e+02,  1.1239e+02,\n           8.4104e+01,  5.5814e+01,  3.1323e+01,  1.1614e+01,  2.2079e+00,\n           1.5058e-01, -8.4661e-05,  7.0850e-03],\n         [ 2.9367e-03,  1.5641e-02, -9.5253e-04, -9.9333e-03,  5.5882e-01,\n           1.9530e+00,  7.3461e+00,  2.1558e+01,  4.5822e+01,  7.6321e+01,\n           1.0792e+02,  1.2731e+02,  1.2854e+02,  1.2024e+02,  1.0612e+02,\n           9.5600e+01,  9.5793e+01,  1.0401e+02,  1.1375e+02,  1.1954e+02,\n           1.0631e+02,  7.5556e+01,  4.7827e+01,  2.0385e+01,  5.1374e+00,\n           1.8454e-01,  9.9974e-03,  2.2125e-02],\n         [-1.4140e-02,  6.2739e-03,  7.8763e-03, -5.9338e-03,  9.0550e-01,\n           3.7183e+00,  1.5217e+01,  3.7356e+01,  6.5750e+01,  9.7156e+01,\n           1.2189e+02,  1.2832e+02,  1.1457e+02,  9.1157e+01,  6.8496e+01,\n           5.5918e+01,  5.4734e+01,  7.0431e+01,  9.4891e+01,  1.1505e+02,\n           1.1571e+02,  9.4383e+01,  6.4438e+01,  3.2382e+01,  9.2885e+00,\n           4.2889e-01,  6.2407e-03, -1.2877e-02],\n         [-8.3979e-04,  4.5263e-03, -1.5991e-03,  7.6828e-03,  1.3687e+00,\n           7.6163e+00,  2.5589e+01,  5.1943e+01,  8.4402e+01,  1.1198e+02,\n           1.2748e+02,  1.1752e+02,  8.8969e+01,  6.2284e+01,  4.1879e+01,\n           2.7616e+01,  2.5525e+01,  4.0684e+01,  7.0870e+01,  1.0263e+02,\n           1.1868e+02,  1.0503e+02,  8.0210e+01,  4.1774e+01,  1.5159e+01,\n           7.7259e-01, -2.6534e-04,  1.4686e-02],\n         [ 9.8087e-03, -1.6304e-02, -7.8027e-03,  6.9887e-03,  1.4237e+00,\n           1.3439e+01,  3.8454e+01,  6.8933e+01,  1.0139e+02,  1.2446e+02,\n           1.2455e+02,  9.7330e+01,  6.5255e+01,  3.9744e+01,  2.1238e+01,\n           1.3352e+01,  1.3319e+01,  2.3163e+01,  5.0649e+01,  8.7391e+01,\n           1.1521e+02,  1.1093e+02,  8.9168e+01,  5.1009e+01,  1.9487e+01,\n           1.2081e+00,  4.6157e-03, -6.0823e-03],\n         [-9.7829e-03, -2.6292e-03, -4.3297e-04,  3.2055e-01,  3.6034e+00,\n           2.0870e+01,  5.1437e+01,  8.4094e+01,  1.1457e+02,  1.2626e+02,\n           1.0969e+02,  7.7408e+01,  4.2787e+01,  2.0195e+01,  8.3395e+00,\n           4.4089e+00,  5.0993e+00,  1.4189e+01,  3.7036e+01,  7.5624e+01,\n           1.1070e+02,  1.1394e+02,  9.5788e+01,  5.8519e+01,  2.2240e+01,\n           1.8693e+00, -1.8969e-02,  2.9349e-03],\n         [ 1.4923e-02, -1.1487e-02, -2.1069e-03,  2.3167e-01,  5.6161e+00,\n           3.0435e+01,  6.5644e+01,  9.8417e+01,  1.2186e+02,  1.2112e+02,\n           9.3533e+01,  5.4751e+01,  2.6138e+01,  7.8127e+00,  3.4846e+00,\n           1.5754e+00,  2.2185e+00,  9.5453e+00,  3.2886e+01,  7.3136e+01,\n           1.0725e+02,  1.1250e+02,  9.8989e+01,  6.1919e+01,  2.2625e+01,\n           1.7951e+00,  7.7534e-03,  7.3738e-03],\n         [-1.4851e-03,  1.1445e-03,  1.6493e-02,  1.4305e-03,  7.9732e+00,\n           3.9953e+01,  7.5418e+01,  1.0857e+02,  1.2424e+02,  1.1370e+02,\n           7.8129e+01,  3.9299e+01,  1.3390e+01,  3.2390e+00,  1.7180e+00,\n           9.4506e-01,  2.0579e+00,  1.1015e+01,  3.4468e+01,  7.7339e+01,\n           1.1018e+02,  1.1204e+02,  9.4765e+01,  6.0884e+01,  2.1647e+01,\n           1.5086e+00, -1.1705e-02, -1.4931e-02],\n         [ 5.6267e-03,  3.1940e-03,  1.0348e-02,  1.3974e-02,  9.9338e+00,\n           4.7095e+01,  8.1526e+01,  1.1374e+02,  1.2201e+02,  1.0318e+02,\n           6.5241e+01,  2.6754e+01,  7.0480e+00,  1.4182e+00,  8.4978e-01,\n           1.2882e+00,  4.5563e+00,  1.5920e+01,  4.4743e+01,  8.9358e+01,\n           1.1342e+02,  1.1001e+02,  8.9734e+01,  5.5344e+01,  1.9576e+01,\n           1.3556e+00,  7.7108e-03, -5.9047e-03],\n         [-3.0704e-03, -5.7558e-03,  1.9894e-03, -8.9346e-03,  1.1524e+01,\n           5.1300e+01,  8.4622e+01,  1.1688e+02,  1.2371e+02,  9.9920e+01,\n           5.6796e+01,  2.0042e+01,  4.7594e+00,  2.0228e+00,  1.9493e+00,\n           3.7093e+00,  1.0876e+01,  2.8515e+01,  6.3859e+01,  1.0074e+02,\n           1.1772e+02,  1.0553e+02,  8.0011e+01,  4.5411e+01,  1.5108e+01,\n           8.3932e-01, -1.2461e-02,  9.2874e-03],\n         [ 1.1249e-02, -1.3356e-03,  5.7240e-04,  6.6480e-04,  1.2046e+01,\n           5.0257e+01,  8.6929e+01,  1.1780e+02,  1.2540e+02,  1.0220e+02,\n           5.7275e+01,  2.2605e+01,  8.0923e+00,  5.2879e+00,  6.7454e+00,\n           1.1938e+01,  2.3544e+01,  5.2983e+01,  8.9323e+01,  1.1579e+02,\n           1.1882e+02,  9.4771e+01,  6.5330e+01,  3.5402e+01,  1.0015e+01,\n           3.1825e-01,  1.0437e-02,  6.7964e-03],\n         [ 4.9926e-03,  1.1794e-02,  7.6705e-03,  1.4255e-01,  1.0138e+01,\n           4.3823e+01,  8.3009e+01,  1.1816e+02,  1.2835e+02,  1.0622e+02,\n           6.7169e+01,  3.1428e+01,  1.7252e+01,  1.4531e+01,  1.8085e+01,\n           2.8130e+01,  4.9919e+01,  8.4770e+01,  1.1248e+02,  1.2439e+02,\n           1.0747e+02,  7.7179e+01,  4.7461e+01,  2.2360e+01,  4.0403e+00,\n           4.4262e-02, -6.6246e-03,  4.0419e-03],\n         [ 2.5747e-03, -7.3933e-03, -8.3674e-03,  1.4566e-01,  7.3479e+00,\n           3.4630e+01,  7.1475e+01,  1.1187e+02,  1.3250e+02,  1.2242e+02,\n           8.4668e+01,  5.2068e+01,  3.5248e+01,  3.3248e+01,  4.0682e+01,\n           6.2112e+01,  9.0240e+01,  1.1502e+02,  1.2704e+02,  1.1832e+02,\n           8.9935e+01,  5.8419e+01,  3.1376e+01,  1.1327e+01,  1.1100e+00,\n          -5.8825e-05, -1.2485e-02, -8.4658e-03],\n         [ 1.0949e-02,  8.5525e-03, -3.6176e-04,  4.3717e-01,  4.5176e+00,\n           2.2912e+01,  5.4321e+01,  9.6203e+01,  1.3019e+02,  1.3720e+02,\n           1.1928e+02,  8.8496e+01,  7.2778e+01,  7.0614e+01,  8.5171e+01,\n           1.0496e+02,  1.2283e+02,  1.3164e+02,  1.2488e+02,  9.5032e+01,\n           6.7255e+01,  3.6709e+01,  1.5843e+01,  4.1454e+00,  1.8936e-01,\n           4.0765e-03, -3.0259e-04,  4.1615e-03],\n         [-1.3056e-02, -2.2634e-03, -4.2594e-03,  7.2773e-01,  2.3359e+00,\n           1.1906e+01,  3.3474e+01,  6.8954e+01,  1.1318e+02,  1.4313e+02,\n           1.4840e+02,  1.3785e+02,  1.2684e+02,  1.2593e+02,  1.3103e+02,\n           1.3717e+02,  1.3676e+02,  1.2486e+02,  9.5595e+01,  6.3293e+01,\n           3.6515e+01,  1.6775e+01,  5.1992e+00,  1.1307e+00, -8.1869e-03,\n          -1.1157e-02,  5.8956e-03,  3.7151e-03],\n         [ 3.2590e-03, -8.0067e-03,  1.0555e-02,  1.5443e-01,  1.0453e+00,\n           5.0152e+00,  1.5616e+01,  3.8390e+01,  7.2940e+01,  1.1370e+02,\n           1.4164e+02,  1.5534e+02,  1.5546e+02,  1.5325e+02,  1.4856e+02,\n           1.3457e+02,  1.1521e+02,  8.3823e+01,  5.5634e+01,  3.2210e+01,\n           1.4092e+01,  5.0853e+00,  1.1834e+00,  2.9870e-01, -1.5979e-02,\n           2.6910e-03,  4.7094e-03,  3.2362e-03],\n         [ 3.5062e-03, -1.1752e-03,  5.4943e-03, -1.2788e-02,  9.3844e-02,\n           1.3711e+00,  6.0081e+00,  1.3289e+01,  3.2460e+01,  5.9366e+01,\n           8.8098e+01,  1.1109e+02,  1.2615e+02,  1.2368e+02,  1.0883e+02,\n           8.5759e+01,  5.8778e+01,  3.6485e+01,  2.1121e+01,  9.1662e+00,\n           3.3009e+00,  1.2054e+00,  2.6517e-01, -6.9761e-04, -3.7596e-03,\n          -4.9009e-04, -1.2947e-02,  1.7207e-03],\n         [-6.0359e-03,  1.9216e-02,  4.4931e-03, -3.3287e-03, -2.4041e-03,\n           2.5256e-02,  4.4815e-01,  1.4905e+00,  5.0012e+00,  1.1832e+01,\n           2.3578e+01,  3.1105e+01,  3.6417e+01,  3.6357e+01,  3.1797e+01,\n           2.2610e+01,  1.3759e+01,  7.9432e+00,  3.7448e+00,  1.2735e+00,\n           8.2557e-01,  5.0956e-01,  1.0037e-02, -6.4283e-03,  2.5432e-03,\n           1.5231e-02, -3.3394e-03, -8.6501e-04],\n         [ 1.0537e-02, -1.0829e-02,  5.5500e-03, -4.3589e-03, -1.5761e-02,\n           2.2568e-03, -1.0301e-02,  6.8141e-03, -2.5548e-03, -9.8800e-03,\n           3.1984e-01,  9.1582e-01,  7.2860e-01,  6.2170e-01,  7.4339e-01,\n           5.9868e-01,  4.3011e-01,  1.7392e-01,  5.1498e-03,  1.4634e-02,\n          -1.0326e-02, -1.6032e-02,  1.1305e-02,  9.0758e-03, -8.4943e-03,\n          -6.6509e-03, -1.8146e-03,  1.0883e-02],\n         [-3.9738e-03, -6.9165e-03, -3.4381e-03, -1.0008e-02,  3.4175e-03,\n           7.6896e-03,  1.7668e-02,  2.1852e-02,  4.5936e-03,  1.2552e-02,\n          -3.5420e-03, -3.5369e-03,  4.1488e-03, -1.6887e-02,  9.4890e-03,\n          -1.2833e-03,  8.4663e-03,  1.5791e-03,  8.3545e-04, -1.2636e-03,\n          -4.5864e-03, -2.8786e-03, -2.1472e-03, -3.0937e-03, -2.4076e-03,\n          -3.3471e-03, -7.3132e-03,  7.1460e-03],\n         [-1.6023e-03, -5.6873e-05, -2.9063e-03,  2.4831e-03, -3.0653e-03,\n           9.2897e-03,  1.4558e-03,  1.5409e-02, -1.3868e-02,  5.6351e-04,\n           9.4557e-03,  2.6517e-02,  2.1039e-04,  1.9383e-03, -3.0000e-03,\n          -3.6318e-03,  2.8208e-03, -1.2592e-02,  1.1581e-02,  5.6769e-03,\n           1.5610e-02,  9.1623e-03,  9.1367e-03, -1.9796e-03, -1.7822e-02,\n          -1.7515e-03, -1.7322e-02,  1.2768e-02]]])\n  • training=None\n  • mask=None"
          ]
        }
      ]
    },
    {
      "cell_type": "markdown",
      "source": [
        "#3C  Note: Below is the confusion matrix for whole **MNIST dataset** as a test data"
      ],
      "metadata": {
        "id": "QGqkfQst4A9U"
      },
      "id": "QGqkfQst4A9U"
    },
    {
      "cell_type": "code",
      "execution_count": null,
      "metadata": {
        "colab": {
          "base_uri": "https://localhost:8080/",
          "height": 279
        },
        "id": "1zqShV3mkGUl",
        "outputId": "758c17c6-83e3-4d3b-d32a-8fe4c68ede00"
      },
      "outputs": [
        {
          "output_type": "display_data",
          "data": {
            "text/plain": [
              "<Figure size 432x288 with 2 Axes>"
            ],
            "image/png": "[encoded data removed]"
          },
          "metadata": {
            "needs_background": "light"
          }
        }
      ],
      "source": [
        "# Define the transform to normalize the data\n",
        "transform = transforms.Compose([transforms.ToTensor(),\n",
        "                                transforms.Normalize((0.5,), (0.5,))])\n",
        "\n",
        "# Load the test dataset\n",
        "test_dataset = datasets.MNIST('data/', train=False, download=True, transform=transform)\n",
        "\n",
        "# Create data loader for the test dataset\n",
        "test_loader = torch.utils.data.DataLoader(test_dataset, batch_size=64, shuffle=False)\n",
        "\n",
        "\n",
        "# Set the model to evaluation mode\n",
        "model.eval()\n",
        "\n",
        "# Get the true labels and predicted labels for the test set\n",
        "true_labels = []\n",
        "predicted_labels = []\n",
        "\n",
        "with torch.no_grad():\n",
        "    for images, labels in test_loader:\n",
        "        outputs = model(images)\n",
        "        _, predicted = torch.max(outputs.data, 1)\n",
        "        true_labels += labels.numpy().tolist()\n",
        "        predicted_labels += predicted.numpy().tolist()\n",
        "\n",
        "# Generate the confusion matrix\n",
        "cm = confusion_matrix(true_labels, predicted_labels, normalize='true')\n",
        "\n",
        "# Plot the confusion matrix\n",
        "plt.imshow(cm, cmap='Blues')\n",
        "plt.colorbar()\n",
        "\n",
        "# Add labels to the plot\n",
        "classes = [str(i) for i in range(10)]\n",
        "tick_marks = np.arange(len(classes))\n",
        "plt.xticks(tick_marks, classes)\n",
        "plt.yticks(tick_marks, classes)\n",
        "plt.xlabel('Predicted Labels')\n",
        "plt.ylabel('True Labels')\n",
        "\n",
        "# Add values to the plot\n",
        "thresh = cm.max() / 2.\n",
        "for i in range(cm.shape[0]):\n",
        "    for j in range(cm.shape[1]):\n",
        "        plt.text(j, i, format(cm[i, j], '.2f'),\n",
        "                 ha=\"center\", va=\"center\",\n",
        "                 color=\"white\" if cm[i, j] > thresh else \"black\")\n",
        "\n",
        "# Show the plot\n",
        "plt.show()\n"
      ],
      "id": "1zqShV3mkGUl"
    },
    {
      "cell_type": "code",
      "execution_count": null,
      "metadata": {
        "colab": {
          "base_uri": "https://localhost:8080/"
        },
        "id": "05JTqiLLuwmy",
        "outputId": "84740cb0-74d7-42ff-a4a7-c041c3bd8558"
      },
      "outputs": [
        {
          "output_type": "stream",
          "name": "stdout",
          "text": [
            "              precision    recall  f1-score   support\n",
            "\n",
            "           0       0.98      0.94      0.96       980\n",
            "           1       0.92      0.99      0.96      1135\n",
            "           2       0.98      0.96      0.97      1032\n",
            "           3       0.97      0.95      0.96      1010\n",
            "           4       0.98      0.91      0.95       982\n",
            "           5       0.97      0.94      0.95       892\n",
            "           6       0.95      0.99      0.97       958\n",
            "           7       0.94      0.92      0.93      1028\n",
            "           8       0.96      0.93      0.95       974\n",
            "           9       0.88      0.97      0.92      1009\n",
            "\n",
            "    accuracy                           0.95     10000\n",
            "   macro avg       0.95      0.95      0.95     10000\n",
            "weighted avg       0.95      0.95      0.95     10000\n",
            "\n"
          ]
        }
      ],
      "source": [
        "# assuming you have y_true and y_pred from your model\n",
        "report = classification_report(true_labels, predicted_labels)\n",
        "\n",
        "print(report)"
      ],
      "id": "05JTqiLLuwmy"
    },
    {
      "cell_type": "markdown",
      "source": [
        "#3C Using all the noise maps as a classifier and report the accuracy scores across all classes with confusion matrices. "
      ],
      "metadata": {
        "id": "atA2LaEMC4Y0"
      },
      "id": "atA2LaEMC4Y0"
    },
    {
      "cell_type": "code",
      "source": [
        "# Define the threshold for predictions\n",
        "threshold = 0.7\n",
        "\n",
        "# Set the model to evaluation mode\n",
        "model.eval()\n",
        "\n",
        "# Get the true labels and predicted labels for the noise maps\n",
        "true_labels = []\n",
        "predicted_labels = []\n",
        "\n",
        "with torch.no_grad():\n",
        "    for i in range(all_noise_maps.shape[0]):\n",
        "        test_tensor = torch.from_numpy(all_noise_maps[i][None,...]).type(torch.FloatTensor)\n",
        "        outputs = model(test_tensor)\n",
        "        prob = torch.softmax(outputs, dim=1)\n",
        "        max_prob, predicted_label = torch.max(prob.data, 1)\n",
        "        if max_prob > threshold:\n",
        "            true_label = i // n_samples  # Get the true label from the digit index\n",
        "            true_labels.append(true_label)\n",
        "            predicted_labels.append(predicted_label.item())\n",
        "\n",
        "# Calculate the accuracy score\n",
        "accuracy = accuracy_score(true_labels, predicted_labels)\n",
        "print('Accuracy:', accuracy)\n",
        "\n",
        "# Generate the confusion matrix\n",
        "cm = confusion_matrix(true_labels, predicted_labels, normalize='true')\n",
        "\n",
        "# Plot the confusion matrix\n",
        "plt.imshow(cm, cmap='Blues')\n",
        "plt.colorbar()\n",
        "\n",
        "# Add labels to the plot\n",
        "classes = [str(i) for i in range(10)]\n",
        "tick_marks = np.arange(len(classes))\n",
        "plt.xticks(tick_marks, classes)\n",
        "plt.yticks(tick_marks, classes)\n",
        "plt.xlabel('Predicted Labels')\n",
        "plt.ylabel('True Labels')\n",
        "\n",
        "# Add values to the plot\n",
        "thresh = cm.max() / 2.\n",
        "for i in range(cm.shape[0]):\n",
        "    for j in range(cm.shape[1]):\n",
        "        plt.text(j, i, format(cm[i, j], '.2f'),\n",
        "                 ha=\"center\", va=\"center\",\n",
        "                 color=\"white\" if cm[i, j] > thresh else \"black\")\n",
        "\n",
        "# Show the plot\n",
        "plt.show()\n"
      ],
      "metadata": {
        "colab": {
          "base_uri": "https://localhost:8080/",
          "height": 296
        },
        "id": "TU41aD-MXxNS",
        "outputId": "bcb85c57-f556-4374-8a60-70013b4a385e"
      },
      "id": "TU41aD-MXxNS",
      "execution_count": null,
      "outputs": [
        {
          "output_type": "stream",
          "name": "stdout",
          "text": [
            "Accuracy: 0.9755951190238048\n"
          ]
        },
        {
          "output_type": "display_data",
          "data": {
            "text/plain": [
              "<Figure size 432x288 with 2 Axes>"
            ],
            "image/png": "[encoded data removed]"
          },
          "metadata": {
            "needs_background": "light"
          }
        }
      ]
    },
    {
      "cell_type": "code",
      "execution_count": null,
      "metadata": {
        "colab": {
          "base_uri": "https://localhost:8080/"
        },
        "id": "HKHK9dPbWELl",
        "outputId": "29c8fd67-e655-4e7e-bd09-bff5dbe6d8e0"
      },
      "outputs": [
        {
          "output_type": "stream",
          "name": "stdout",
          "text": [
            "              precision    recall  f1-score   support\n",
            "\n",
            "           0       0.99      0.99      0.99       500\n",
            "           1       1.00      0.98      0.99       500\n",
            "           2       0.97      0.99      0.98       500\n",
            "           3       0.99      0.98      0.98       500\n",
            "           4       0.98      0.96      0.97       500\n",
            "           5       0.98      0.98      0.98       499\n",
            "           6       0.96      0.99      0.97       500\n",
            "           7       1.00      0.93      0.96       500\n",
            "           8       0.95      0.99      0.97       500\n",
            "           9       0.95      0.97      0.96       500\n",
            "\n",
            "    accuracy                           0.98      4999\n",
            "   macro avg       0.98      0.98      0.98      4999\n",
            "weighted avg       0.98      0.98      0.98      4999\n",
            "\n"
          ]
        }
      ],
      "source": [
        "# assuming you have y_true and y_pred from your model\n",
        "report = classification_report(true_labels, predicted_labels)\n",
        "\n",
        "print(report)"
      ],
      "id": "HKHK9dPbWELl"
    },
    {
      "cell_type": "markdown",
      "source": [
        "#EXTRA MATERIAL FROM THE ARTICLE GITHUB"
      ],
      "metadata": {
        "id": "hMKAogbK_UPk"
      },
      "id": "hMKAogbK_UPk"
    },
    {
      "cell_type": "code",
      "execution_count": null,
      "metadata": {
        "colab": {
          "base_uri": "https://localhost:8080/",
          "height": 265
        },
        "id": "a51d9061",
        "outputId": "7554c363-b8fc-4ce3-e21e-085b1c67fbbd"
      },
      "outputs": [
        {
          "output_type": "stream",
          "name": "stdout",
          "text": [
            "torch.Size([20, 1, 5, 5])\n"
          ]
        },
        {
          "output_type": "display_data",
          "data": {
            "text/plain": [
              "<Figure size 432x288 with 20 Axes>"
            ],
            "image/png": "[encoded data removed]"
          },
          "metadata": {
            "needs_background": "light"
          }
        }
      ],
      "source": [
        "# plot conv1 wights\n",
        "w_ = model.state_dict()['conv1.weight']\n",
        "print(w_.shape)\n",
        "for i in range(w_.shape[0]):\n",
        "    plt.subplot(4, 5, i+1)\n",
        "    plt.axis('off')\n",
        "    to_show = w_[i][0].cpu().numpy()\n",
        "    plt.imshow((to_show - to_show.min())/(to_show.max() - to_show.min()))\n",
        "plt.show()"
      ],
      "id": "a51d9061"
    },
    {
      "cell_type": "code",
      "execution_count": null,
      "metadata": {
        "colab": {
          "base_uri": "https://localhost:8080/"
        },
        "id": "9d466243",
        "outputId": "4d10d6fc-e5ce-42fa-9596-861069d58fce"
      },
      "outputs": [
        {
          "output_type": "stream",
          "name": "stdout",
          "text": [
            "-------Net summary------\n",
            "input image:\n",
            "\t n features: 28 \n",
            " \t jump: 1 \n",
            " \t receptive size: 1 \t start: 0.5 \n",
            "conv1:\n",
            "\t n features: 24 \n",
            " \t jump: 1 \n",
            " \t receptive size: 5 \t start: 2.5 \n",
            "pool1:\n",
            "\t n features: 12 \n",
            " \t jump: 2 \n",
            " \t receptive size: 6 \t start: 3.0 \n",
            "conv2:\n",
            "\t n features: 8 \n",
            " \t jump: 2 \n",
            " \t receptive size: 14 \t start: 7.0 \n",
            "pool2:\n",
            "\t n features: 4 \n",
            " \t jump: 4 \n",
            " \t receptive size: 16 \t start: 8.0 \n",
            "------------------------\n"
          ]
        }
      ],
      "source": [
        "# [filter size, stride, padding]\n",
        "convnet =   [[5,1,0], [2,2,0], [5,1,0], [2,2,0]]\n",
        "layer_names = ['conv1','pool1','conv2','pool2']\n",
        "imsize = 28\n",
        "\n",
        "def outFromIn(conv, layerIn):\n",
        "    n_in = layerIn[0]\n",
        "    j_in = layerIn[1]\n",
        "    r_in = layerIn[2]\n",
        "    start_in = layerIn[3]\n",
        "    \n",
        "    k = conv[0]\n",
        "    s = conv[1]\n",
        "    p = conv[2]\n",
        "    \n",
        "    n_out = (n_in - k + 2*p)//s + 1\n",
        "    actualP = (n_out-1)*s - n_in + k\n",
        "    pR = math.ceil(actualP/2)\n",
        "    pL = math.floor(actualP/2)\n",
        "    \n",
        "    j_out = j_in * s\n",
        "    r_out = r_in + (k - 1)*j_in\n",
        "    start_out = start_in + ((k-1)/2 - pL)*j_in\n",
        "    return n_out, j_out, r_out, start_out\n",
        "  \n",
        "def printLayer(layer, layer_name):\n",
        "    print(layer_name + \":\")\n",
        "    print(\"\\t n features: %s \\n \\t jump: %s \\n \\t receptive size: %s \\t start: %s \" % (\n",
        "        layer[0], layer[1], layer[2], layer[3]))\n",
        "    \n",
        "layerInfos = []\n",
        "#first layer is the data layer (image) with n_0 = image size; j_0 = 1; r_0 = 1; and start_0 = 0.5\n",
        "print (\"-------Net summary------\")\n",
        "currentLayer = [imsize, 1, 1, 0.5]\n",
        "printLayer(currentLayer, \"input image\")\n",
        "for i in range(len(convnet)):\n",
        "    currentLayer = outFromIn(convnet[i], currentLayer)\n",
        "    layerInfos.append(currentLayer)\n",
        "    printLayer(currentLayer, layer_names[i])\n",
        "print (\"------------------------\")"
      ],
      "id": "9d466243"
    },
    {
      "cell_type": "code",
      "execution_count": null,
      "metadata": {
        "colab": {
          "base_uri": "https://localhost:8080/"
        },
        "id": "5a77d5bd",
        "outputId": "587faa01-ecd0-4f6f-ae60-c1597a76e271"
      },
      "outputs": [
        {
          "output_type": "stream",
          "name": "stdout",
          "text": [
            "(0,0): 0, 14, 0, 14\n",
            "(0,1): 0, 14, 2, 16\n",
            "(0,2): 0, 14, 4, 18\n",
            "(0,3): 0, 14, 6, 20\n",
            "(0,4): 0, 14, 8, 22\n",
            "(0,5): 0, 14, 10, 24\n",
            "(0,6): 0, 14, 12, 26\n",
            "(0,7): 0, 14, 14, 28\n",
            "(1,0): 2, 16, 0, 14\n",
            "(1,1): 2, 16, 2, 16\n",
            "(1,2): 2, 16, 4, 18\n",
            "(1,3): 2, 16, 6, 20\n",
            "(1,4): 2, 16, 8, 22\n",
            "(1,5): 2, 16, 10, 24\n",
            "(1,6): 2, 16, 12, 26\n",
            "(1,7): 2, 16, 14, 28\n",
            "(2,0): 4, 18, 0, 14\n",
            "(2,1): 4, 18, 2, 16\n",
            "(2,2): 4, 18, 4, 18\n",
            "(2,3): 4, 18, 6, 20\n",
            "(2,4): 4, 18, 8, 22\n",
            "(2,5): 4, 18, 10, 24\n",
            "(2,6): 4, 18, 12, 26\n",
            "(2,7): 4, 18, 14, 28\n",
            "(3,0): 6, 20, 0, 14\n",
            "(3,1): 6, 20, 2, 16\n",
            "(3,2): 6, 20, 4, 18\n",
            "(3,3): 6, 20, 6, 20\n",
            "(3,4): 6, 20, 8, 22\n",
            "(3,5): 6, 20, 10, 24\n",
            "(3,6): 6, 20, 12, 26\n",
            "(3,7): 6, 20, 14, 28\n",
            "(4,0): 8, 22, 0, 14\n",
            "(4,1): 8, 22, 2, 16\n",
            "(4,2): 8, 22, 4, 18\n",
            "(4,3): 8, 22, 6, 20\n",
            "(4,4): 8, 22, 8, 22\n",
            "(4,5): 8, 22, 10, 24\n",
            "(4,6): 8, 22, 12, 26\n",
            "(4,7): 8, 22, 14, 28\n",
            "(5,0): 10, 24, 0, 14\n",
            "(5,1): 10, 24, 2, 16\n",
            "(5,2): 10, 24, 4, 18\n",
            "(5,3): 10, 24, 6, 20\n",
            "(5,4): 10, 24, 8, 22\n",
            "(5,5): 10, 24, 10, 24\n",
            "(5,6): 10, 24, 12, 26\n",
            "(5,7): 10, 24, 14, 28\n",
            "(6,0): 12, 26, 0, 14\n",
            "(6,1): 12, 26, 2, 16\n",
            "(6,2): 12, 26, 4, 18\n",
            "(6,3): 12, 26, 6, 20\n",
            "(6,4): 12, 26, 8, 22\n",
            "(6,5): 12, 26, 10, 24\n",
            "(6,6): 12, 26, 12, 26\n",
            "(6,7): 12, 26, 14, 28\n",
            "(7,0): 14, 28, 0, 14\n",
            "(7,1): 14, 28, 2, 16\n",
            "(7,2): 14, 28, 4, 18\n",
            "(7,3): 14, 28, 6, 20\n",
            "(7,4): 14, 28, 8, 22\n",
            "(7,5): 14, 28, 10, 24\n",
            "(7,6): 14, 28, 12, 26\n",
            "(7,7): 14, 28, 14, 28\n"
          ]
        }
      ],
      "source": [
        "# helper block for checking particular neuron's rf position\n",
        "# start center, jump, rf (receptive field) size, feature map size, channel_num\n",
        "rf_info = {'conv1':[2.5, 1, 5, 24, 20], 'conv2':[7, 2, 14, 8, 50]}\n",
        "\n",
        "key = 'conv2'\n",
        "p_rf = rf_info[key][2]\n",
        "p_feat = rf_info[key][3]\n",
        "\n",
        "for i in range(p_feat):\n",
        "    for j in range(p_feat):\n",
        "        center_i = rf_info[key][0] + i * rf_info[key][1]\n",
        "        center_j = rf_info[key][0] + j * rf_info[key][1]\n",
        "        left = int(center_i - p_rf / 2)\n",
        "        right = int(center_i + p_rf / 2)\n",
        "        up = int(center_j - p_rf / 2)\n",
        "        bottom = int(center_j + p_rf / 2)\n",
        "        \n",
        "        print('({},{}): {}, {}, {}, {}'.format(i, j, left, right, up, bottom))"
      ],
      "id": "5a77d5bd"
    },
    {
      "cell_type": "code",
      "execution_count": null,
      "metadata": {
        "colab": {
          "background_save": true
        },
        "id": "12bbf4a8"
      },
      "outputs": [],
      "source": [],
      "id": "12bbf4a8"
    }
  ],
  "metadata": {
    "colab": {
      "provenance": []
    },
    "kernelspec": {
      "display_name": "Python 3 (ipykernel)",
      "language": "python",
      "name": "python3"
    },
    "language_info": {
      "codemirror_mode": {
        "name": "ipython",
        "version": 3
      },
      "file_extension": ".py",
      "mimetype": "text/x-python",
      "name": "python",
      "nbconvert_exporter": "python",
      "pygments_lexer": "ipython3",
      "version": "3.9.16"
    }
  },
  "nbformat": 4,
  "nbformat_minor": 5
}